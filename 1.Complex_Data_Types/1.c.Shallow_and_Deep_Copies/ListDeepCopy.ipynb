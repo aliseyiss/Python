{
 "cells": [
  {
   "cell_type": "code",
   "execution_count": 1,
   "id": "15e0edab",
   "metadata": {},
   "outputs": [
    {
     "data": {
      "text/plain": [
       "['sara', 'David', 'warner', 'sandy']"
      ]
     },
     "execution_count": 1,
     "metadata": {},
     "output_type": "execute_result"
    }
   ],
   "source": [
    "names =[\"sara\", \"David\", \"warner\", \"sandy\"]\n",
    "names"
   ]
  },
  {
   "cell_type": "code",
   "execution_count": 2,
   "id": "9644667c",
   "metadata": {},
   "outputs": [],
   "source": [
    "new_names=names.copy()"
   ]
  },
  {
   "cell_type": "code",
   "execution_count": 3,
   "id": "ce7dcf6d",
   "metadata": {},
   "outputs": [
    {
     "data": {
      "text/plain": [
       "['sara', 'David', 'warner', 'sandy']"
      ]
     },
     "execution_count": 3,
     "metadata": {},
     "output_type": "execute_result"
    }
   ],
   "source": [
    "names"
   ]
  },
  {
   "cell_type": "code",
   "execution_count": 4,
   "id": "4534272e",
   "metadata": {},
   "outputs": [
    {
     "data": {
      "text/plain": [
       "['sara', 'David', 'warner', 'sandy']"
      ]
     },
     "execution_count": 4,
     "metadata": {},
     "output_type": "execute_result"
    }
   ],
   "source": [
    "new_names"
   ]
  },
  {
   "cell_type": "code",
   "execution_count": 5,
   "id": "42e3bcc4",
   "metadata": {},
   "outputs": [
    {
     "name": "stdout",
     "output_type": "stream",
     "text": [
      "Original: ['sara', 'David', 'warner', 'sandy']\n",
      "Modified: ['sara', 'Ridley', 'warner', 'sandy']\n"
     ]
    }
   ],
   "source": [
    "new_names[1] = 'Ridley'\n",
    "print('Original:', names)\n",
    "print('Modified:', new_names)"
   ]
  },
  {
   "cell_type": "code",
   "execution_count": 6,
   "id": "4821b916",
   "metadata": {},
   "outputs": [],
   "source": [
    "import copy"
   ]
  },
  {
   "cell_type": "code",
   "execution_count": 7,
   "id": "46f740ca",
   "metadata": {},
   "outputs": [
    {
     "data": {
      "text/plain": [
       "['hackerearth', 'google', 'facebook']"
      ]
     },
     "execution_count": 7,
     "metadata": {},
     "output_type": "execute_result"
    }
   ],
   "source": [
    "companies = ['hackerearth', 'google', 'facebook']\n",
    "companies"
   ]
  },
  {
   "cell_type": "code",
   "execution_count": 8,
   "id": "a725a097",
   "metadata": {},
   "outputs": [
    {
     "name": "stdout",
     "output_type": "stream",
     "text": [
      "Original: ['hackerearth', 'google', 'facebook']\n",
      "Modified: ['hackerearth', 'google', 'facebook']\n"
     ]
    }
   ],
   "source": [
    "new_companies = copy.deepcopy(companies)\n",
    "print('Original:', companies)\n",
    "print('Modified:', new_companies)"
   ]
  },
  {
   "cell_type": "code",
   "execution_count": 9,
   "id": "ba7de8fe",
   "metadata": {},
   "outputs": [
    {
     "data": {
      "text/plain": [
       "'google'"
      ]
     },
     "execution_count": 9,
     "metadata": {},
     "output_type": "execute_result"
    }
   ],
   "source": [
    "new_companies[1]"
   ]
  },
  {
   "cell_type": "code",
   "execution_count": 11,
   "id": "429bb7b7",
   "metadata": {},
   "outputs": [],
   "source": [
    "new_companies[1] ='microsoft'"
   ]
  },
  {
   "cell_type": "code",
   "execution_count": 13,
   "id": "6e4b13fb",
   "metadata": {},
   "outputs": [
    {
     "data": {
      "text/plain": [
       "['hackerearth', 'microsoft', 'facebook']"
      ]
     },
     "execution_count": 13,
     "metadata": {},
     "output_type": "execute_result"
    }
   ],
   "source": [
    "new_companies"
   ]
  },
  {
   "cell_type": "code",
   "execution_count": 14,
   "id": "074e6ee2",
   "metadata": {},
   "outputs": [
    {
     "data": {
      "text/plain": [
       "[[1, 2, 3], [4, 5, 6], [7, 8, 9]]"
      ]
     },
     "execution_count": 14,
     "metadata": {},
     "output_type": "execute_result"
    }
   ],
   "source": [
    "old_list = [[1, 2, 3], [4, 5, 6], [7, 8, 9]]\n",
    "old_list"
   ]
  },
  {
   "cell_type": "code",
   "execution_count": 15,
   "id": "798c1280",
   "metadata": {},
   "outputs": [
    {
     "name": "stdout",
     "output_type": "stream",
     "text": [
      "Old list: [[1, 2, 3], [4, 5, 6], [7, 8, 9]]\n",
      "New list: [[1, 2, 3], [4, 5, 6], [7, 8, 9]]\n"
     ]
    }
   ],
   "source": [
    "new_list = copy.deepcopy(old_list)\n",
    "print('Old list:', old_list)\n",
    "print('New list:', new_list)"
   ]
  },
  {
   "cell_type": "code",
   "execution_count": 16,
   "id": "9ae1d641",
   "metadata": {},
   "outputs": [
    {
     "data": {
      "text/plain": [
       "6"
      ]
     },
     "execution_count": 16,
     "metadata": {},
     "output_type": "execute_result"
    }
   ],
   "source": [
    "old_list[1][2]"
   ]
  },
  {
   "cell_type": "code",
   "execution_count": 17,
   "id": "a26fbda3",
   "metadata": {},
   "outputs": [
    {
     "name": "stdout",
     "output_type": "stream",
     "text": [
      "Old list: [[1, 2, 3], [4, 5, 'Six'], [7, 8, 9]]\n",
      "New list: [[1, 2, 3], [4, 5, 6], [7, 8, 9]]\n"
     ]
    }
   ],
   "source": [
    "old_list[1][2]='Six'\n",
    "print('Old list:', old_list)\n",
    "print('New list:', new_list)"
   ]
  },
  {
   "cell_type": "code",
   "execution_count": 18,
   "id": "4d01fbbc",
   "metadata": {},
   "outputs": [
    {
     "data": {
      "text/plain": [
       "['hackerearth', 'google', 'facebook']"
      ]
     },
     "execution_count": 18,
     "metadata": {},
     "output_type": "execute_result"
    }
   ],
   "source": [
    "companies"
   ]
  },
  {
   "cell_type": "code",
   "execution_count": 19,
   "id": "fa17cde5",
   "metadata": {},
   "outputs": [],
   "source": [
    "new_companies = companies[:]"
   ]
  },
  {
   "cell_type": "code",
   "execution_count": 20,
   "id": "64bb4c9b",
   "metadata": {},
   "outputs": [
    {
     "data": {
      "text/plain": [
       "['hackerearth', 'google', 'facebook']"
      ]
     },
     "execution_count": 20,
     "metadata": {},
     "output_type": "execute_result"
    }
   ],
   "source": [
    "new_companies"
   ]
  },
  {
   "cell_type": "code",
   "execution_count": 21,
   "id": "b31c21db",
   "metadata": {},
   "outputs": [
    {
     "data": {
      "text/plain": [
       "['Skillsoft', 'google', 'facebook']"
      ]
     },
     "execution_count": 21,
     "metadata": {},
     "output_type": "execute_result"
    }
   ],
   "source": [
    "new_companies[0] = 'Skillsoft'\n",
    "new_companies"
   ]
  },
  {
   "cell_type": "code",
   "execution_count": 23,
   "id": "05b3c113",
   "metadata": {},
   "outputs": [
    {
     "data": {
      "text/plain": [
       "['hackerearth', 'google', 'facebook']"
      ]
     },
     "execution_count": 23,
     "metadata": {},
     "output_type": "execute_result"
    }
   ],
   "source": [
    "companies"
   ]
  },
  {
   "cell_type": "code",
   "execution_count": null,
   "id": "0f0cb0c1",
   "metadata": {},
   "outputs": [],
   "source": []
  }
 ],
 "metadata": {
  "kernelspec": {
   "display_name": "Python 3 (ipykernel)",
   "language": "python",
   "name": "python3"
  },
  "language_info": {
   "codemirror_mode": {
    "name": "ipython",
    "version": 3
   },
   "file_extension": ".py",
   "mimetype": "text/x-python",
   "name": "python",
   "nbconvert_exporter": "python",
   "pygments_lexer": "ipython3",
   "version": "3.11.5"
  }
 },
 "nbformat": 4,
 "nbformat_minor": 5
}
