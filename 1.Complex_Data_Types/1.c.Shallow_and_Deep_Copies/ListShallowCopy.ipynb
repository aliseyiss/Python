{
 "cells": [
  {
   "cell_type": "code",
   "execution_count": 1,
   "id": "d1e08355",
   "metadata": {},
   "outputs": [
    {
     "data": {
      "text/plain": [
       "['Sara', 'David', 'warner', 'Sandy']"
      ]
     },
     "execution_count": 1,
     "metadata": {},
     "output_type": "execute_result"
    }
   ],
   "source": [
    "names = [\"Sara\", \"David\", \"warner\", \"Sandy\" ]\n",
    "names"
   ]
  },
  {
   "cell_type": "code",
   "execution_count": 2,
   "id": "a995092e",
   "metadata": {},
   "outputs": [
    {
     "name": "stdout",
     "output_type": "stream",
     "text": [
      "Origibal: ['Sara', 'David', 'warner', 'Sandy']\n",
      "Copy: ['Sara', 'David', 'warner', 'Sandy']\n"
     ]
    }
   ],
   "source": [
    "new_names = names\n",
    "print(\"Origibal:\", names)\n",
    "print(\"Copy:\", new_names)"
   ]
  },
  {
   "cell_type": "code",
   "execution_count": 3,
   "id": "23e5b4e7",
   "metadata": {},
   "outputs": [
    {
     "data": {
      "text/plain": [
       "'David'"
      ]
     },
     "execution_count": 3,
     "metadata": {},
     "output_type": "execute_result"
    }
   ],
   "source": [
    "names[1]"
   ]
  },
  {
   "cell_type": "code",
   "execution_count": 4,
   "id": "4eb9e821",
   "metadata": {},
   "outputs": [],
   "source": [
    "new_names[1] = 'Ridley'"
   ]
  },
  {
   "cell_type": "code",
   "execution_count": 5,
   "id": "6052dc7c",
   "metadata": {},
   "outputs": [
    {
     "name": "stdout",
     "output_type": "stream",
     "text": [
      "Original: ['Sara', 'Ridley', 'warner', 'Sandy']\n",
      "Modified: ['Sara', 'Ridley', 'warner', 'Sandy']\n"
     ]
    }
   ],
   "source": [
    "print(\"Original:\", names)\n",
    "print(\"Modified:\", new_names)"
   ]
  },
  {
   "cell_type": "code",
   "execution_count": 6,
   "id": "333c7234",
   "metadata": {},
   "outputs": [],
   "source": [
    "import copy"
   ]
  },
  {
   "cell_type": "code",
   "execution_count": 7,
   "id": "08ce8bb4",
   "metadata": {},
   "outputs": [
    {
     "data": {
      "text/plain": [
       "['hackerearth', 'google', 'facebook']"
      ]
     },
     "execution_count": 7,
     "metadata": {},
     "output_type": "execute_result"
    }
   ],
   "source": [
    "companies = ['hackerearth', 'google', 'facebook']\n",
    "companies"
   ]
  },
  {
   "cell_type": "code",
   "execution_count": 9,
   "id": "092d9f76",
   "metadata": {},
   "outputs": [
    {
     "data": {
      "text/plain": [
       "['hackerearth', 'google', 'facebook']"
      ]
     },
     "execution_count": 9,
     "metadata": {},
     "output_type": "execute_result"
    }
   ],
   "source": [
    "new_companies = copy.copy(companies)\n",
    "new_companies"
   ]
  },
  {
   "cell_type": "code",
   "execution_count": 15,
   "id": "a8b73a5a",
   "metadata": {},
   "outputs": [
    {
     "data": {
      "text/plain": [
       "['hackerearth', 'microsoft', 'facebook']"
      ]
     },
     "execution_count": 15,
     "metadata": {},
     "output_type": "execute_result"
    }
   ],
   "source": [
    "new_companies[1] = 'microsoft'\n",
    "new_companies"
   ]
  },
  {
   "cell_type": "code",
   "execution_count": 16,
   "id": "bda92446",
   "metadata": {},
   "outputs": [
    {
     "data": {
      "text/plain": [
       "['hackerearth', 'google', 'facebook']"
      ]
     },
     "execution_count": 16,
     "metadata": {},
     "output_type": "execute_result"
    }
   ],
   "source": [
    "companies"
   ]
  },
  {
   "cell_type": "code",
   "execution_count": 18,
   "id": "7b0640b5",
   "metadata": {},
   "outputs": [],
   "source": [
    "old_list = [[1, 2, 3], [4, 5, 6], [7, 8, 9]]\n",
    "new_list = copy.copy(old_list)"
   ]
  },
  {
   "cell_type": "code",
   "execution_count": 19,
   "id": "f0178319",
   "metadata": {},
   "outputs": [
    {
     "data": {
      "text/plain": [
       "[[1, 2, 3], [4, 5, 6], [7, 8, 9]]"
      ]
     },
     "execution_count": 19,
     "metadata": {},
     "output_type": "execute_result"
    }
   ],
   "source": [
    "new_list"
   ]
  },
  {
   "cell_type": "code",
   "execution_count": 20,
   "id": "908928ec",
   "metadata": {},
   "outputs": [
    {
     "data": {
      "text/plain": [
       "[[1, 2, 3], [4, 5, 6], [7, 8, 9]]"
      ]
     },
     "execution_count": 20,
     "metadata": {},
     "output_type": "execute_result"
    }
   ],
   "source": [
    "old_list"
   ]
  },
  {
   "cell_type": "code",
   "execution_count": 21,
   "id": "0cae4de5",
   "metadata": {},
   "outputs": [
    {
     "data": {
      "text/plain": [
       "5"
      ]
     },
     "execution_count": 21,
     "metadata": {},
     "output_type": "execute_result"
    }
   ],
   "source": [
    "new_list[1][1]"
   ]
  },
  {
   "cell_type": "code",
   "execution_count": 22,
   "id": "af8189a2",
   "metadata": {},
   "outputs": [
    {
     "name": "stdout",
     "output_type": "stream",
     "text": [
      "Old List: [[1, 2, 3], [4, 'Five', 6], [7, 8, 9]]\n",
      "New list: [[1, 2, 3], [4, 'Five', 6], [7, 8, 9]]\n"
     ]
    }
   ],
   "source": [
    "new_list[1][1] = 'Five'\n",
    "print(\"Old List:\", old_list)\n",
    "print(\"New list:\", new_list)"
   ]
  },
  {
   "cell_type": "code",
   "execution_count": 23,
   "id": "e3bb7310",
   "metadata": {},
   "outputs": [],
   "source": [
    "new_list[2].append('Ten')"
   ]
  },
  {
   "cell_type": "code",
   "execution_count": 24,
   "id": "187dc390",
   "metadata": {},
   "outputs": [
    {
     "data": {
      "text/plain": [
       "[[1, 2, 3], [4, 'Five', 6], [7, 8, 9, 'Ten']]"
      ]
     },
     "execution_count": 24,
     "metadata": {},
     "output_type": "execute_result"
    }
   ],
   "source": [
    "new_list"
   ]
  },
  {
   "cell_type": "code",
   "execution_count": 25,
   "id": "e3e73e48",
   "metadata": {},
   "outputs": [
    {
     "data": {
      "text/plain": [
       "[[1, 2, 3], [4, 'Five', 6], [7, 8, 9, 'Ten']]"
      ]
     },
     "execution_count": 25,
     "metadata": {},
     "output_type": "execute_result"
    }
   ],
   "source": [
    "old_list"
   ]
  },
  {
   "cell_type": "code",
   "execution_count": 26,
   "id": "8b543cb7",
   "metadata": {},
   "outputs": [
    {
     "data": {
      "text/plain": [
       "[[1, 2, 3], [4, 'Five', 6], [7, 8, 9, 'Ten'], [10, 11, 12]]"
      ]
     },
     "execution_count": 26,
     "metadata": {},
     "output_type": "execute_result"
    }
   ],
   "source": [
    "old_list.append([10, 11, 12])\n",
    "old_list"
   ]
  },
  {
   "cell_type": "code",
   "execution_count": 27,
   "id": "6530c23f",
   "metadata": {},
   "outputs": [
    {
     "data": {
      "text/plain": [
       "[[1, 2, 3], [4, 'Five', 6], [7, 8, 9, 'Ten']]"
      ]
     },
     "execution_count": 27,
     "metadata": {},
     "output_type": "execute_result"
    }
   ],
   "source": [
    "new_list"
   ]
  },
  {
   "cell_type": "code",
   "execution_count": null,
   "id": "8b4c4ddc",
   "metadata": {},
   "outputs": [],
   "source": []
  }
 ],
 "metadata": {
  "kernelspec": {
   "display_name": "Python 3 (ipykernel)",
   "language": "python",
   "name": "python3"
  },
  "language_info": {
   "codemirror_mode": {
    "name": "ipython",
    "version": 3
   },
   "file_extension": ".py",
   "mimetype": "text/x-python",
   "name": "python",
   "nbconvert_exporter": "python",
   "pygments_lexer": "ipython3",
   "version": "3.11.5"
  }
 },
 "nbformat": 4,
 "nbformat_minor": 5
}
