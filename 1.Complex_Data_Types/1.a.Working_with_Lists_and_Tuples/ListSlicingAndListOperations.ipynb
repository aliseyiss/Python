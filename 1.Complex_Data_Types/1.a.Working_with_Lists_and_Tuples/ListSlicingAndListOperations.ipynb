{
 "cells": [
  {
   "cell_type": "code",
   "execution_count": 1,
   "id": "b846dcc1",
   "metadata": {},
   "outputs": [
    {
     "data": {
      "text/plain": [
       "['Toyota Corolla',\n",
       " 'Toyota Camry',\n",
       " 'Nissan Altima',\n",
       " 'Kia Soul',\n",
       " 'Kia Optima',\n",
       " 'Honda Civic']"
      ]
     },
     "execution_count": 1,
     "metadata": {},
     "output_type": "execute_result"
    }
   ],
   "source": [
    "my_car_list = ['Toyota Corolla', 'Toyota Camry', 'Nissan Altima', 'Kia Soul', 'Kia Optima', 'Honda Civic']\n",
    "my_car_list"
   ]
  },
  {
   "cell_type": "code",
   "execution_count": 2,
   "id": "e9f8dc6e",
   "metadata": {},
   "outputs": [
    {
     "data": {
      "text/plain": [
       "6"
      ]
     },
     "execution_count": 2,
     "metadata": {},
     "output_type": "execute_result"
    }
   ],
   "source": [
    "len(my_car_list)"
   ]
  },
  {
   "cell_type": "raw",
   "id": "59ad6039",
   "metadata": {},
   "source": [
    "my_car_list(4)"
   ]
  },
  {
   "cell_type": "code",
   "execution_count": 3,
   "id": "c88eeeb6",
   "metadata": {},
   "outputs": [
    {
     "ename": "TypeError",
     "evalue": "'list' object is not callable",
     "output_type": "error",
     "traceback": [
      "\u001b[1;31m---------------------------------------------------------------------------\u001b[0m",
      "\u001b[1;31mTypeError\u001b[0m                                 Traceback (most recent call last)",
      "Cell \u001b[1;32mIn[3], line 1\u001b[0m\n\u001b[1;32m----> 1\u001b[0m my_car_list(\u001b[38;5;241m4\u001b[39m)\n",
      "\u001b[1;31mTypeError\u001b[0m: 'list' object is not callable"
     ]
    }
   ],
   "source": [
    "my_car_list(4)"
   ]
  },
  {
   "cell_type": "code",
   "execution_count": 4,
   "id": "38256ffa",
   "metadata": {},
   "outputs": [
    {
     "data": {
      "text/plain": [
       "'Kia Optima'"
      ]
     },
     "execution_count": 4,
     "metadata": {},
     "output_type": "execute_result"
    }
   ],
   "source": [
    "my_car_list[4]"
   ]
  },
  {
   "cell_type": "code",
   "execution_count": 5,
   "id": "b643d022",
   "metadata": {},
   "outputs": [
    {
     "data": {
      "text/plain": [
       "'Kia Optima'"
      ]
     },
     "execution_count": 5,
     "metadata": {},
     "output_type": "execute_result"
    }
   ],
   "source": [
    "my_car_list[-2]"
   ]
  },
  {
   "cell_type": "markdown",
   "id": "1241a814",
   "metadata": {},
   "source": [
    "#### "
   ]
  },
  {
   "cell_type": "code",
   "execution_count": 6,
   "id": "51b0b1f6",
   "metadata": {},
   "outputs": [
    {
     "data": {
      "text/plain": [
       "['Toyota Corolla',\n",
       " 'Toyota Camry',\n",
       " 'Nissan Altima',\n",
       " 'Kia Soul',\n",
       " 'Kia Optima',\n",
       " 'Honda Civic']"
      ]
     },
     "execution_count": 6,
     "metadata": {},
     "output_type": "execute_result"
    }
   ],
   "source": [
    "my_car_list"
   ]
  },
  {
   "cell_type": "code",
   "execution_count": 7,
   "id": "b0d0a9c5",
   "metadata": {},
   "outputs": [
    {
     "data": {
      "text/plain": [
       "['Toyota Corolla', 'Toyota Camry', 'Nissan Altima', 'Kia Soul']"
      ]
     },
     "execution_count": 7,
     "metadata": {},
     "output_type": "execute_result"
    }
   ],
   "source": [
    "my_car_list[0:4]"
   ]
  },
  {
   "cell_type": "markdown",
   "id": "25881fe2",
   "metadata": {},
   "source": []
  },
  {
   "cell_type": "code",
   "execution_count": 8,
   "id": "e44615c7",
   "metadata": {},
   "outputs": [
    {
     "data": {
      "text/plain": [
       "['Toyota Corolla', 'Toyota Camry']"
      ]
     },
     "execution_count": 8,
     "metadata": {},
     "output_type": "execute_result"
    }
   ],
   "source": [
    "my_car_list[0:2]"
   ]
  },
  {
   "cell_type": "raw",
   "id": "d5b0b34a",
   "metadata": {},
   "source": []
  },
  {
   "cell_type": "code",
   "execution_count": 9,
   "id": "81017d31",
   "metadata": {},
   "outputs": [
    {
     "ename": "TypeError",
     "evalue": "list indices must be integers or slices, not float",
     "output_type": "error",
     "traceback": [
      "\u001b[1;31m---------------------------------------------------------------------------\u001b[0m",
      "\u001b[1;31mTypeError\u001b[0m                                 Traceback (most recent call last)",
      "Cell \u001b[1;32mIn[9], line 1\u001b[0m\n\u001b[1;32m----> 1\u001b[0m my_car_list[\u001b[38;5;241m0.\u001b[39m\u001b[38;5;241m-\u001b[39m\u001b[38;5;241m2\u001b[39m]\n",
      "\u001b[1;31mTypeError\u001b[0m: list indices must be integers or slices, not float"
     ]
    }
   ],
   "source": [
    "my_car_list[0.-2]"
   ]
  },
  {
   "cell_type": "code",
   "execution_count": 10,
   "id": "d0acb2f6",
   "metadata": {},
   "outputs": [
    {
     "ename": "TypeError",
     "evalue": "list indices must be integers or slices, not tuple",
     "output_type": "error",
     "traceback": [
      "\u001b[1;31m---------------------------------------------------------------------------\u001b[0m",
      "\u001b[1;31mTypeError\u001b[0m                                 Traceback (most recent call last)",
      "Cell \u001b[1;32mIn[10], line 1\u001b[0m\n\u001b[1;32m----> 1\u001b[0m my_car_list[\u001b[38;5;241m-\u001b[39m\u001b[38;5;241m2\u001b[39m, \u001b[38;5;241m0\u001b[39m]\n",
      "\u001b[1;31mTypeError\u001b[0m: list indices must be integers or slices, not tuple"
     ]
    }
   ],
   "source": [
    "my_car_list[-2, 0]"
   ]
  },
  {
   "cell_type": "code",
   "execution_count": 11,
   "id": "42e74d67",
   "metadata": {},
   "outputs": [
    {
     "data": {
      "text/plain": [
       "['Toyota Corolla', 'Toyota Camry', 'Nissan Altima', 'Kia Soul']"
      ]
     },
     "execution_count": 11,
     "metadata": {},
     "output_type": "execute_result"
    }
   ],
   "source": [
    "my_car_list[0: -2]"
   ]
  },
  {
   "cell_type": "code",
   "execution_count": 12,
   "id": "f1e2a880",
   "metadata": {},
   "outputs": [
    {
     "data": {
      "text/plain": [
       "['Toyota Corolla',\n",
       " 'Toyota Camry',\n",
       " 'Nissan Altima',\n",
       " 'Kia Soul',\n",
       " 'Kia Optima',\n",
       " 'Honda Civic']"
      ]
     },
     "execution_count": 12,
     "metadata": {},
     "output_type": "execute_result"
    }
   ],
   "source": [
    "my_car_list"
   ]
  },
  {
   "cell_type": "code",
   "execution_count": 13,
   "id": "0c5926f2",
   "metadata": {},
   "outputs": [
    {
     "ename": "TypeError",
     "evalue": "list indices must be integers or slices, not float",
     "output_type": "error",
     "traceback": [
      "\u001b[1;31m---------------------------------------------------------------------------\u001b[0m",
      "\u001b[1;31mTypeError\u001b[0m                                 Traceback (most recent call last)",
      "Cell \u001b[1;32mIn[13], line 1\u001b[0m\n\u001b[1;32m----> 1\u001b[0m my_car_list[\u001b[38;5;241m0.3\u001b[39m]\n",
      "\u001b[1;31mTypeError\u001b[0m: list indices must be integers or slices, not float"
     ]
    }
   ],
   "source": [
    "my_car_list[0.3]"
   ]
  },
  {
   "cell_type": "code",
   "execution_count": 14,
   "id": "59a76da5",
   "metadata": {},
   "outputs": [
    {
     "data": {
      "text/plain": [
       "['Toyota Corolla', 'Toyota Camry', 'Nissan Altima']"
      ]
     },
     "execution_count": 14,
     "metadata": {},
     "output_type": "execute_result"
    }
   ],
   "source": [
    "my_car_list[0:3]"
   ]
  },
  {
   "cell_type": "code",
   "execution_count": 15,
   "id": "9d4a28ad",
   "metadata": {},
   "outputs": [
    {
     "data": {
      "text/plain": [
       "[]"
      ]
     },
     "execution_count": 15,
     "metadata": {},
     "output_type": "execute_result"
    }
   ],
   "source": [
    "my_car_list[-2:0]"
   ]
  },
  {
   "cell_type": "code",
   "execution_count": 16,
   "id": "b1c07b17",
   "metadata": {},
   "outputs": [
    {
     "data": {
      "text/plain": [
       "['Toyota Corolla',\n",
       " 'Toyota Camry',\n",
       " 'Nissan Altima',\n",
       " 'Kia Soul',\n",
       " 'Kia Optima',\n",
       " 'Honda Civic']"
      ]
     },
     "execution_count": 16,
     "metadata": {},
     "output_type": "execute_result"
    }
   ],
   "source": [
    "my_car_list[0:6]"
   ]
  },
  {
   "cell_type": "code",
   "execution_count": 17,
   "id": "6618b908",
   "metadata": {},
   "outputs": [
    {
     "data": {
      "text/plain": [
       "['Honda Civic']"
      ]
     },
     "execution_count": 17,
     "metadata": {},
     "output_type": "execute_result"
    }
   ],
   "source": [
    "my_car_list[5:6]"
   ]
  },
  {
   "cell_type": "code",
   "execution_count": 18,
   "id": "395bf2af",
   "metadata": {},
   "outputs": [
    {
     "data": {
      "text/plain": [
       "['Kia Soul', 'Kia Optima', 'Honda Civic']"
      ]
     },
     "execution_count": 18,
     "metadata": {},
     "output_type": "execute_result"
    }
   ],
   "source": [
    "my_car_list[3:6]"
   ]
  },
  {
   "cell_type": "code",
   "execution_count": 19,
   "id": "b143f662",
   "metadata": {},
   "outputs": [
    {
     "data": {
      "text/plain": [
       "['Toyota Corolla', 'Toyota Camry', 'Nissan Altima']"
      ]
     },
     "execution_count": 19,
     "metadata": {},
     "output_type": "execute_result"
    }
   ],
   "source": [
    "my_car_list[:3]"
   ]
  },
  {
   "cell_type": "code",
   "execution_count": 20,
   "id": "33be7c14",
   "metadata": {},
   "outputs": [
    {
     "data": {
      "text/plain": [
       "['Toyota Corolla',\n",
       " 'Toyota Camry',\n",
       " 'Nissan Altima',\n",
       " 'Kia Soul',\n",
       " 'Kia Optima',\n",
       " 'Honda Civic']"
      ]
     },
     "execution_count": 20,
     "metadata": {},
     "output_type": "execute_result"
    }
   ],
   "source": [
    "my_car_list"
   ]
  },
  {
   "cell_type": "code",
   "execution_count": 21,
   "id": "cbb37fa1",
   "metadata": {},
   "outputs": [
    {
     "data": {
      "text/plain": [
       "['Kia Soul', 'Kia Optima', 'Honda Civic']"
      ]
     },
     "execution_count": 21,
     "metadata": {},
     "output_type": "execute_result"
    }
   ],
   "source": [
    "my_car_list[3:]"
   ]
  },
  {
   "cell_type": "code",
   "execution_count": 22,
   "id": "f8b6c049",
   "metadata": {},
   "outputs": [
    {
     "data": {
      "text/plain": [
       "['Toyota Corolla', 'Toyota Camry']"
      ]
     },
     "execution_count": 22,
     "metadata": {},
     "output_type": "execute_result"
    }
   ],
   "source": [
    "my_car_list[0:-4]"
   ]
  },
  {
   "cell_type": "code",
   "execution_count": 23,
   "id": "18043e92",
   "metadata": {},
   "outputs": [
    {
     "data": {
      "text/plain": [
       "['Nissan Altima', 'Kia Soul', 'Kia Optima']"
      ]
     },
     "execution_count": 23,
     "metadata": {},
     "output_type": "execute_result"
    }
   ],
   "source": [
    "my_car_list[-4:-1]"
   ]
  },
  {
   "cell_type": "code",
   "execution_count": 24,
   "id": "7438e9c4",
   "metadata": {},
   "outputs": [
    {
     "data": {
      "text/plain": [
       "[]"
      ]
     },
     "execution_count": 24,
     "metadata": {},
     "output_type": "execute_result"
    }
   ],
   "source": [
    "my_car_list[-2:-4]"
   ]
  },
  {
   "cell_type": "code",
   "execution_count": 25,
   "id": "cef0a9a5",
   "metadata": {},
   "outputs": [
    {
     "data": {
      "text/plain": [
       "['Toyota Corolla',\n",
       " 'Toyota Camry',\n",
       " 'Nissan Altima',\n",
       " 'Kia Soul',\n",
       " 'Kia Optima',\n",
       " 'Honda Civic']"
      ]
     },
     "execution_count": 25,
     "metadata": {},
     "output_type": "execute_result"
    }
   ],
   "source": [
    "my_car_list"
   ]
  },
  {
   "cell_type": "code",
   "execution_count": 26,
   "id": "01b9c107",
   "metadata": {},
   "outputs": [
    {
     "data": {
      "text/plain": [
       "['Toyota Corolla', 'Toyota Camry', 'Nissan Altima', 'Kia Soul', 'Kia Optima']"
      ]
     },
     "execution_count": 26,
     "metadata": {},
     "output_type": "execute_result"
    }
   ],
   "source": [
    "my_car_list[0:5:]"
   ]
  },
  {
   "cell_type": "code",
   "execution_count": 27,
   "id": "9e2d7070",
   "metadata": {},
   "outputs": [
    {
     "data": {
      "text/plain": [
       "['Toyota Corolla', 'Nissan Altima', 'Kia Optima']"
      ]
     },
     "execution_count": 27,
     "metadata": {},
     "output_type": "execute_result"
    }
   ],
   "source": [
    "my_car_list[::2]"
   ]
  },
  {
   "cell_type": "code",
   "execution_count": 28,
   "id": "a74e97ca",
   "metadata": {},
   "outputs": [
    {
     "data": {
      "text/plain": [
       "['Toyota Corolla', 'Nissan Altima', 'Kia Optima']"
      ]
     },
     "execution_count": 28,
     "metadata": {},
     "output_type": "execute_result"
    }
   ],
   "source": [
    "my_car_list[0:5:2]"
   ]
  },
  {
   "cell_type": "code",
   "execution_count": 29,
   "id": "3624a3cf",
   "metadata": {},
   "outputs": [
    {
     "data": {
      "text/plain": [
       "['Nissan Altima', 'Kia Optima']"
      ]
     },
     "execution_count": 29,
     "metadata": {},
     "output_type": "execute_result"
    }
   ],
   "source": [
    "my_car_list[2:5:2]"
   ]
  },
  {
   "cell_type": "code",
   "execution_count": 30,
   "id": "4543f89f",
   "metadata": {},
   "outputs": [
    {
     "data": {
      "text/plain": [
       "['Toyota Corolla', 'Kia Soul']"
      ]
     },
     "execution_count": 30,
     "metadata": {},
     "output_type": "execute_result"
    }
   ],
   "source": [
    "my_car_list[0:5:3]"
   ]
  },
  {
   "cell_type": "code",
   "execution_count": 31,
   "id": "8c30bf95",
   "metadata": {},
   "outputs": [
    {
     "data": {
      "text/plain": [
       "['Toyota Corolla',\n",
       " 'Toyota Camry',\n",
       " 'Nissan Altima',\n",
       " 'Kia Soul',\n",
       " 'Kia Optima',\n",
       " 'Honda Civic']"
      ]
     },
     "execution_count": 31,
     "metadata": {},
     "output_type": "execute_result"
    }
   ],
   "source": [
    "my_car_list"
   ]
  },
  {
   "cell_type": "code",
   "execution_count": 32,
   "id": "9f409f49",
   "metadata": {},
   "outputs": [
    {
     "data": {
      "text/plain": [
       "['Nissan Altima', 'Toyota Camry']"
      ]
     },
     "execution_count": 32,
     "metadata": {},
     "output_type": "execute_result"
    }
   ],
   "source": [
    "my_car_list[2:0:-1]"
   ]
  },
  {
   "cell_type": "code",
   "execution_count": 33,
   "id": "a0dc106c",
   "metadata": {},
   "outputs": [
    {
     "data": {
      "text/plain": [
       "['Honda Civic',\n",
       " 'Kia Optima',\n",
       " 'Kia Soul',\n",
       " 'Nissan Altima',\n",
       " 'Toyota Camry',\n",
       " 'Toyota Corolla']"
      ]
     },
     "execution_count": 33,
     "metadata": {},
     "output_type": "execute_result"
    }
   ],
   "source": [
    "my_car_list[::-1]"
   ]
  },
  {
   "cell_type": "code",
   "execution_count": 34,
   "id": "230b7c11",
   "metadata": {},
   "outputs": [
    {
     "data": {
      "text/plain": [
       "[]"
      ]
     },
     "execution_count": 34,
     "metadata": {},
     "output_type": "execute_result"
    }
   ],
   "source": [
    "my_car_list[-4:0:1]"
   ]
  },
  {
   "cell_type": "code",
   "execution_count": 35,
   "id": "efb8dee8",
   "metadata": {},
   "outputs": [
    {
     "data": {
      "text/plain": [
       "['Nissan Altima', 'Toyota Camry']"
      ]
     },
     "execution_count": 35,
     "metadata": {},
     "output_type": "execute_result"
    }
   ],
   "source": [
    "my_car_list[-4:0:-1]"
   ]
  },
  {
   "cell_type": "code",
   "execution_count": 36,
   "id": "5ae27c04",
   "metadata": {},
   "outputs": [
    {
     "data": {
      "text/plain": [
       "['Honda Civic', 'Kia Soul', 'Toyota Camry']"
      ]
     },
     "execution_count": 36,
     "metadata": {},
     "output_type": "execute_result"
    }
   ],
   "source": [
    "my_car_list[::-2]"
   ]
  },
  {
   "cell_type": "code",
   "execution_count": 37,
   "id": "34e0d8bc",
   "metadata": {},
   "outputs": [
    {
     "ename": "NameError",
     "evalue": "name 'm_car_list' is not defined",
     "output_type": "error",
     "traceback": [
      "\u001b[1;31m---------------------------------------------------------------------------\u001b[0m",
      "\u001b[1;31mNameError\u001b[0m                                 Traceback (most recent call last)",
      "Cell \u001b[1;32mIn[37], line 1\u001b[0m\n\u001b[1;32m----> 1\u001b[0m m_car_list\n",
      "\u001b[1;31mNameError\u001b[0m: name 'm_car_list' is not defined"
     ]
    }
   ],
   "source": [
    "m_car_list"
   ]
  },
  {
   "cell_type": "code",
   "execution_count": 38,
   "id": "34f361ad",
   "metadata": {},
   "outputs": [
    {
     "data": {
      "text/plain": [
       "['Toyota Corolla',\n",
       " 'Toyota Camry',\n",
       " 'Nissan Altima',\n",
       " 'Kia Soul',\n",
       " 'Kia Optima',\n",
       " 'Honda Civic']"
      ]
     },
     "execution_count": 38,
     "metadata": {},
     "output_type": "execute_result"
    }
   ],
   "source": [
    "my_car_list"
   ]
  },
  {
   "cell_type": "code",
   "execution_count": 39,
   "id": "5592144c",
   "metadata": {},
   "outputs": [
    {
     "name": "stdout",
     "output_type": "stream",
     "text": [
      "['Toyota Corolla', 'Toyota Camry', 'Nissan Altima', 'Kia Soul', 'Kia Optima', 'Honda Civic']\n"
     ]
    }
   ],
   "source": [
    "print(my_car_list)"
   ]
  },
  {
   "cell_type": "code",
   "execution_count": 40,
   "id": "d907f012",
   "metadata": {},
   "outputs": [
    {
     "data": {
      "text/plain": [
       "6"
      ]
     },
     "execution_count": 40,
     "metadata": {},
     "output_type": "execute_result"
    }
   ],
   "source": [
    "len(my_car_list)"
   ]
  },
  {
   "cell_type": "code",
   "execution_count": 41,
   "id": "092b6933",
   "metadata": {},
   "outputs": [
    {
     "ename": "SyntaxError",
     "evalue": "invalid syntax (2352123349.py, line 1)",
     "output_type": "error",
     "traceback": [
      "\u001b[1;36m  Cell \u001b[1;32mIn[41], line 1\u001b[1;36m\u001b[0m\n\u001b[1;33m    my_car_list(6:-1) = ['Ford Focus', 'Dodge Charger']\u001b[0m\n\u001b[1;37m                 ^\u001b[0m\n\u001b[1;31mSyntaxError\u001b[0m\u001b[1;31m:\u001b[0m invalid syntax\n"
     ]
    }
   ],
   "source": [
    "my_car_list(6:-1) = ['Ford Focus', 'Dodge Charger']\n",
    "my_car_list"
   ]
  },
  {
   "cell_type": "code",
   "execution_count": 42,
   "id": "c14b18a4",
   "metadata": {},
   "outputs": [],
   "source": [
    "my_car_list[6:-1] = ['Ford Focus', 'Dodge Charger']"
   ]
  },
  {
   "cell_type": "code",
   "execution_count": 43,
   "id": "744df39c",
   "metadata": {},
   "outputs": [
    {
     "data": {
      "text/plain": [
       "['Toyota Corolla',\n",
       " 'Toyota Camry',\n",
       " 'Nissan Altima',\n",
       " 'Kia Soul',\n",
       " 'Kia Optima',\n",
       " 'Honda Civic',\n",
       " 'Ford Focus',\n",
       " 'Dodge Charger']"
      ]
     },
     "execution_count": 43,
     "metadata": {},
     "output_type": "execute_result"
    }
   ],
   "source": [
    "my_car_list"
   ]
  },
  {
   "cell_type": "code",
   "execution_count": 44,
   "id": "d5c7b356",
   "metadata": {},
   "outputs": [
    {
     "data": {
      "text/plain": [
       "True"
      ]
     },
     "execution_count": 44,
     "metadata": {},
     "output_type": "execute_result"
    }
   ],
   "source": [
    "'Ford Focus' in my_car_list"
   ]
  },
  {
   "cell_type": "code",
   "execution_count": 45,
   "id": "9c4b9ffc",
   "metadata": {},
   "outputs": [
    {
     "data": {
      "text/plain": [
       "'Ford Focus'"
      ]
     },
     "execution_count": 45,
     "metadata": {},
     "output_type": "execute_result"
    }
   ],
   "source": [
    "my_car_list.pop(-2)"
   ]
  },
  {
   "cell_type": "code",
   "execution_count": 46,
   "id": "3e7443db",
   "metadata": {},
   "outputs": [
    {
     "data": {
      "text/plain": [
       "['Toyota Corolla',\n",
       " 'Toyota Camry',\n",
       " 'Nissan Altima',\n",
       " 'Kia Soul',\n",
       " 'Kia Optima',\n",
       " 'Honda Civic',\n",
       " 'Dodge Charger']"
      ]
     },
     "execution_count": 46,
     "metadata": {},
     "output_type": "execute_result"
    }
   ],
   "source": [
    "my_car_list"
   ]
  },
  {
   "cell_type": "code",
   "execution_count": 47,
   "id": "9f601e2f",
   "metadata": {},
   "outputs": [
    {
     "data": {
      "text/plain": [
       "False"
      ]
     },
     "execution_count": 47,
     "metadata": {},
     "output_type": "execute_result"
    }
   ],
   "source": [
    "'Ford Focus' in my_car_list"
   ]
  },
  {
   "cell_type": "code",
   "execution_count": null,
   "id": "bc31feaa",
   "metadata": {},
   "outputs": [],
   "source": []
  }
 ],
 "metadata": {
  "kernelspec": {
   "display_name": "Python 3 (ipykernel)",
   "language": "python",
   "name": "python3"
  },
  "language_info": {
   "codemirror_mode": {
    "name": "ipython",
    "version": 3
   },
   "file_extension": ".py",
   "mimetype": "text/x-python",
   "name": "python",
   "nbconvert_exporter": "python",
   "pygments_lexer": "ipython3",
   "version": "3.11.5"
  }
 },
 "nbformat": 4,
 "nbformat_minor": 5
}
