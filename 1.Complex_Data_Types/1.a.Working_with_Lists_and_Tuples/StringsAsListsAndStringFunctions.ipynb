{
 "cells": [
  {
   "cell_type": "code",
   "execution_count": 1,
   "id": "4ce11a10",
   "metadata": {},
   "outputs": [
    {
     "name": "stdout",
     "output_type": "stream",
     "text": [
      "World\n"
     ]
    }
   ],
   "source": [
    "print('World')"
   ]
  },
  {
   "cell_type": "code",
   "execution_count": 2,
   "id": "b1381eea",
   "metadata": {},
   "outputs": [],
   "source": [
    "x='World'"
   ]
  },
  {
   "cell_type": "code",
   "execution_count": 3,
   "id": "a052697b",
   "metadata": {},
   "outputs": [
    {
     "data": {
      "text/plain": [
       "'W'"
      ]
     },
     "execution_count": 3,
     "metadata": {},
     "output_type": "execute_result"
    }
   ],
   "source": [
    "x[0]"
   ]
  },
  {
   "cell_type": "code",
   "execution_count": 4,
   "id": "d8333347",
   "metadata": {},
   "outputs": [
    {
     "data": {
      "text/plain": [
       "5"
      ]
     },
     "execution_count": 4,
     "metadata": {},
     "output_type": "execute_result"
    }
   ],
   "source": [
    "len(x)"
   ]
  },
  {
   "cell_type": "code",
   "execution_count": 5,
   "id": "ffeca4c2",
   "metadata": {},
   "outputs": [
    {
     "ename": "NameError",
     "evalue": "name 'print8a' is not defined",
     "output_type": "error",
     "traceback": [
      "\u001b[1;31m---------------------------------------------------------------------------\u001b[0m",
      "\u001b[1;31mNameError\u001b[0m                                 Traceback (most recent call last)",
      "Cell \u001b[1;32mIn[5], line 2\u001b[0m\n\u001b[0;32m      1\u001b[0m a, b, c, d, e \u001b[38;5;241m=\u001b[39m x\n\u001b[1;32m----> 2\u001b[0m print8a\n",
      "\u001b[1;31mNameError\u001b[0m: name 'print8a' is not defined"
     ]
    }
   ],
   "source": [
    "a, b, c, d, e = x\n",
    "print8a"
   ]
  },
  {
   "cell_type": "code",
   "execution_count": 6,
   "id": "ea226920",
   "metadata": {},
   "outputs": [
    {
     "name": "stdout",
     "output_type": "stream",
     "text": [
      "W\n"
     ]
    }
   ],
   "source": [
    "print(a)"
   ]
  },
  {
   "cell_type": "code",
   "execution_count": 7,
   "id": "e5c9c301",
   "metadata": {},
   "outputs": [
    {
     "data": {
      "text/plain": [
       "('W', 'o', 'r', 'l', 'd')"
      ]
     },
     "execution_count": 7,
     "metadata": {},
     "output_type": "execute_result"
    }
   ],
   "source": [
    "a,b,c,d,e,\n"
   ]
  },
  {
   "cell_type": "code",
   "execution_count": 8,
   "id": "0a2a774e",
   "metadata": {},
   "outputs": [
    {
     "name": "stdout",
     "output_type": "stream",
     "text": [
      "o\n"
     ]
    }
   ],
   "source": [
    "a, b, _, _, _ =x\n",
    "print(b)"
   ]
  },
  {
   "cell_type": "code",
   "execution_count": 9,
   "id": "fbdc2fad",
   "metadata": {},
   "outputs": [
    {
     "name": "stdout",
     "output_type": "stream",
     "text": [
      "How are you?: fine\n"
     ]
    },
    {
     "data": {
      "text/plain": [
       "'fine'"
      ]
     },
     "execution_count": 9,
     "metadata": {},
     "output_type": "execute_result"
    }
   ],
   "source": [
    "input('How are you?: ')"
   ]
  },
  {
   "cell_type": "code",
   "execution_count": 10,
   "id": "1b422c99",
   "metadata": {},
   "outputs": [
    {
     "ename": "SyntaxError",
     "evalue": "invalid syntax. Perhaps you forgot a comma? (198567265.py, line 1)",
     "output_type": "error",
     "traceback": [
      "\u001b[1;36m  Cell \u001b[1;32mIn[10], line 1\u001b[1;36m\u001b[0m\n\u001b[1;33m    place = input(Where are you from?: )\u001b[0m\n\u001b[1;37m                  ^\u001b[0m\n\u001b[1;31mSyntaxError\u001b[0m\u001b[1;31m:\u001b[0m invalid syntax. Perhaps you forgot a comma?\n"
     ]
    }
   ],
   "source": [
    "place = input(Where are you from?: )"
   ]
  },
  {
   "cell_type": "code",
   "execution_count": 11,
   "id": "84975e77",
   "metadata": {},
   "outputs": [
    {
     "name": "stdout",
     "output_type": "stream",
     "text": [
      "Where are you from?: Istanbul\n"
     ]
    }
   ],
   "source": [
    "place = input('Where are you from?: ')"
   ]
  },
  {
   "cell_type": "code",
   "execution_count": 12,
   "id": "a9affac7",
   "metadata": {},
   "outputs": [
    {
     "data": {
      "text/plain": [
       "'Istanbul'"
      ]
     },
     "execution_count": 12,
     "metadata": {},
     "output_type": "execute_result"
    }
   ],
   "source": [
    "place"
   ]
  },
  {
   "cell_type": "code",
   "execution_count": 13,
   "id": "8007d05e",
   "metadata": {},
   "outputs": [
    {
     "data": {
      "text/plain": [
       "8"
      ]
     },
     "execution_count": 13,
     "metadata": {},
     "output_type": "execute_result"
    }
   ],
   "source": [
    "len(place)"
   ]
  },
  {
   "cell_type": "code",
   "execution_count": 14,
   "id": "7d256dd6",
   "metadata": {},
   "outputs": [
    {
     "ename": "SyntaxError",
     "evalue": "invalid syntax (3135094530.py, line 1)",
     "output_type": "error",
     "traceback": [
      "\u001b[1;36m  Cell \u001b[1;32mIn[14], line 1\u001b[1;36m\u001b[0m\n\u001b[1;33m    place(9:)\u001b[0m\n\u001b[1;37m           ^\u001b[0m\n\u001b[1;31mSyntaxError\u001b[0m\u001b[1;31m:\u001b[0m invalid syntax\n"
     ]
    }
   ],
   "source": [
    "place(9:)"
   ]
  },
  {
   "cell_type": "code",
   "execution_count": 15,
   "id": "693c4113",
   "metadata": {},
   "outputs": [
    {
     "data": {
      "text/plain": [
       "''"
      ]
     },
     "execution_count": 15,
     "metadata": {},
     "output_type": "execute_result"
    }
   ],
   "source": [
    "place[9:]"
   ]
  },
  {
   "cell_type": "code",
   "execution_count": 16,
   "id": "7b17d4c0",
   "metadata": {},
   "outputs": [
    {
     "data": {
      "text/plain": [
       "'bul'"
      ]
     },
     "execution_count": 16,
     "metadata": {},
     "output_type": "execute_result"
    }
   ],
   "source": [
    "place[5:]"
   ]
  },
  {
   "cell_type": "code",
   "execution_count": 17,
   "id": "a8163bcd",
   "metadata": {},
   "outputs": [
    {
     "data": {
      "text/plain": [
       "'nbul'"
      ]
     },
     "execution_count": 17,
     "metadata": {},
     "output_type": "execute_result"
    }
   ],
   "source": [
    "place[-4:]"
   ]
  },
  {
   "cell_type": "code",
   "execution_count": 18,
   "id": "d11258ae",
   "metadata": {},
   "outputs": [
    {
     "data": {
      "text/plain": [
       "'Itnu'"
      ]
     },
     "execution_count": 18,
     "metadata": {},
     "output_type": "execute_result"
    }
   ],
   "source": [
    "place[0:8:2]"
   ]
  },
  {
   "cell_type": "code",
   "execution_count": 19,
   "id": "dc1759b4",
   "metadata": {},
   "outputs": [
    {
     "ename": "NameError",
     "evalue": "name 'city' is not defined",
     "output_type": "error",
     "traceback": [
      "\u001b[1;31m---------------------------------------------------------------------------\u001b[0m",
      "\u001b[1;31mNameError\u001b[0m                                 Traceback (most recent call last)",
      "Cell \u001b[1;32mIn[19], line 1\u001b[0m\n\u001b[1;32m----> 1\u001b[0m \u001b[38;5;28;01mdel\u001b[39;00m city\n",
      "\u001b[1;31mNameError\u001b[0m: name 'city' is not defined"
     ]
    }
   ],
   "source": [
    "del city"
   ]
  },
  {
   "cell_type": "code",
   "execution_count": 20,
   "id": "36fe66eb",
   "metadata": {},
   "outputs": [],
   "source": [
    "del place\n"
   ]
  },
  {
   "cell_type": "code",
   "execution_count": 21,
   "id": "766a6342",
   "metadata": {},
   "outputs": [
    {
     "name": "stdout",
     "output_type": "stream",
     "text": [
      "Where are you from?: New York City\n"
     ]
    }
   ],
   "source": [
    "place=input('Where are you from?: ')"
   ]
  },
  {
   "cell_type": "code",
   "execution_count": 22,
   "id": "86721911",
   "metadata": {},
   "outputs": [
    {
     "data": {
      "text/plain": [
       "'New York City'"
      ]
     },
     "execution_count": 22,
     "metadata": {},
     "output_type": "execute_result"
    }
   ],
   "source": [
    "place"
   ]
  },
  {
   "cell_type": "code",
   "execution_count": 23,
   "id": "08ecc32d",
   "metadata": {},
   "outputs": [
    {
     "data": {
      "text/plain": [
       "'New York City'"
      ]
     },
     "execution_count": 23,
     "metadata": {},
     "output_type": "execute_result"
    }
   ],
   "source": [
    "city=place\n",
    "city"
   ]
  },
  {
   "cell_type": "code",
   "execution_count": 24,
   "id": "c565b111",
   "metadata": {},
   "outputs": [],
   "source": [
    "del city"
   ]
  },
  {
   "cell_type": "code",
   "execution_count": 25,
   "id": "b0b00310",
   "metadata": {},
   "outputs": [
    {
     "ename": "NameError",
     "evalue": "name 'city' is not defined",
     "output_type": "error",
     "traceback": [
      "\u001b[1;31m---------------------------------------------------------------------------\u001b[0m",
      "\u001b[1;31mNameError\u001b[0m                                 Traceback (most recent call last)",
      "Cell \u001b[1;32mIn[25], line 1\u001b[0m\n\u001b[1;32m----> 1\u001b[0m city\n",
      "\u001b[1;31mNameError\u001b[0m: name 'city' is not defined"
     ]
    }
   ],
   "source": [
    "city"
   ]
  },
  {
   "cell_type": "code",
   "execution_count": 26,
   "id": "b87a45f9",
   "metadata": {},
   "outputs": [
    {
     "data": {
      "text/plain": [
       "'New York City'"
      ]
     },
     "execution_count": 26,
     "metadata": {},
     "output_type": "execute_result"
    }
   ],
   "source": [
    "place"
   ]
  },
  {
   "cell_type": "code",
   "execution_count": 27,
   "id": "4886c972",
   "metadata": {},
   "outputs": [
    {
     "name": "stdout",
     "output_type": "stream",
     "text": [
      "True\n"
     ]
    }
   ],
   "source": [
    "print(place.startswith('N'))"
   ]
  },
  {
   "cell_type": "code",
   "execution_count": 28,
   "id": "ed9f7e1d",
   "metadata": {},
   "outputs": [
    {
     "ename": "NameError",
     "evalue": "name 'pint' is not defined",
     "output_type": "error",
     "traceback": [
      "\u001b[1;31m---------------------------------------------------------------------------\u001b[0m",
      "\u001b[1;31mNameError\u001b[0m                                 Traceback (most recent call last)",
      "Cell \u001b[1;32mIn[28], line 1\u001b[0m\n\u001b[1;32m----> 1\u001b[0m pint(place\u001b[38;5;241m.\u001b[39mstartswith(\u001b[38;5;124m'\u001b[39m\u001b[38;5;124mn\u001b[39m\u001b[38;5;124m'\u001b[39m))\n",
      "\u001b[1;31mNameError\u001b[0m: name 'pint' is not defined"
     ]
    }
   ],
   "source": [
    "pint(place.startswith('n'))"
   ]
  },
  {
   "cell_type": "code",
   "execution_count": 29,
   "id": "4ec3617d",
   "metadata": {},
   "outputs": [
    {
     "name": "stdout",
     "output_type": "stream",
     "text": [
      "False\n"
     ]
    }
   ],
   "source": [
    "print(place.startswith('n'))"
   ]
  },
  {
   "cell_type": "code",
   "execution_count": 30,
   "id": "c46db930",
   "metadata": {},
   "outputs": [
    {
     "name": "stdout",
     "output_type": "stream",
     "text": [
      "True\n"
     ]
    }
   ],
   "source": [
    "print(place.endswith('y'))"
   ]
  },
  {
   "cell_type": "code",
   "execution_count": 31,
   "id": "1fd44727",
   "metadata": {},
   "outputs": [
    {
     "name": "stdout",
     "output_type": "stream",
     "text": [
      "True\n"
     ]
    }
   ],
   "source": [
    "print(place.endswith('City'))"
   ]
  },
  {
   "cell_type": "code",
   "execution_count": 32,
   "id": "932801a7",
   "metadata": {},
   "outputs": [
    {
     "data": {
      "text/plain": [
       "1"
      ]
     },
     "execution_count": 32,
     "metadata": {},
     "output_type": "execute_result"
    }
   ],
   "source": [
    "place.count('y')"
   ]
  },
  {
   "cell_type": "code",
   "execution_count": 33,
   "id": "4d40d2cc",
   "metadata": {},
   "outputs": [],
   "source": [
    "lower_place = place.lower()"
   ]
  },
  {
   "cell_type": "code",
   "execution_count": 34,
   "id": "9af9d713",
   "metadata": {},
   "outputs": [
    {
     "data": {
      "text/plain": [
       "'new york city'"
      ]
     },
     "execution_count": 34,
     "metadata": {},
     "output_type": "execute_result"
    }
   ],
   "source": [
    "lower_place"
   ]
  },
  {
   "cell_type": "code",
   "execution_count": 35,
   "id": "88a2a75f",
   "metadata": {},
   "outputs": [],
   "source": [
    "upper_place = place.upper()"
   ]
  },
  {
   "cell_type": "code",
   "execution_count": 36,
   "id": "d4e1aa50",
   "metadata": {},
   "outputs": [
    {
     "data": {
      "text/plain": [
       "'NEW YORK CITY'"
      ]
     },
     "execution_count": 36,
     "metadata": {},
     "output_type": "execute_result"
    }
   ],
   "source": [
    "upper_place"
   ]
  },
  {
   "cell_type": "code",
   "execution_count": 37,
   "id": "71e6ba51",
   "metadata": {},
   "outputs": [
    {
     "ename": "NameError",
     "evalue": "name 'lower_case' is not defined",
     "output_type": "error",
     "traceback": [
      "\u001b[1;31m---------------------------------------------------------------------------\u001b[0m",
      "\u001b[1;31mNameError\u001b[0m                                 Traceback (most recent call last)",
      "Cell \u001b[1;32mIn[37], line 1\u001b[0m\n\u001b[1;32m----> 1\u001b[0m lower_case \u001b[38;5;241m==\u001b[39m upper_case\n",
      "\u001b[1;31mNameError\u001b[0m: name 'lower_case' is not defined"
     ]
    }
   ],
   "source": [
    "lower_case == upper_case"
   ]
  },
  {
   "cell_type": "code",
   "execution_count": 38,
   "id": "9eacb16b",
   "metadata": {},
   "outputs": [
    {
     "data": {
      "text/plain": [
       "False"
      ]
     },
     "execution_count": 38,
     "metadata": {},
     "output_type": "execute_result"
    }
   ],
   "source": [
    "upper_place == lower_place"
   ]
  },
  {
   "cell_type": "code",
   "execution_count": 39,
   "id": "0129c0b9",
   "metadata": {},
   "outputs": [
    {
     "data": {
      "text/plain": [
       "9"
      ]
     },
     "execution_count": 39,
     "metadata": {},
     "output_type": "execute_result"
    }
   ],
   "source": [
    "place.find('C')"
   ]
  },
  {
   "cell_type": "code",
   "execution_count": 40,
   "id": "0a5f365e",
   "metadata": {},
   "outputs": [
    {
     "data": {
      "text/plain": [
       "9"
      ]
     },
     "execution_count": 40,
     "metadata": {},
     "output_type": "execute_result"
    }
   ],
   "source": [
    "place.find('City')"
   ]
  },
  {
   "cell_type": "code",
   "execution_count": 41,
   "id": "c629bdc7",
   "metadata": {},
   "outputs": [
    {
     "data": {
      "text/plain": [
       "-1"
      ]
     },
     "execution_count": 41,
     "metadata": {},
     "output_type": "execute_result"
    }
   ],
   "source": [
    "place.find('c')"
   ]
  },
  {
   "cell_type": "code",
   "execution_count": 42,
   "id": "559e9aa6",
   "metadata": {},
   "outputs": [],
   "source": [
    "split_place = place.split('k')"
   ]
  },
  {
   "cell_type": "code",
   "execution_count": 43,
   "id": "d5603dd2",
   "metadata": {},
   "outputs": [
    {
     "data": {
      "text/plain": [
       "['New Yor', ' City']"
      ]
     },
     "execution_count": 43,
     "metadata": {},
     "output_type": "execute_result"
    }
   ],
   "source": [
    "split_place"
   ]
  },
  {
   "cell_type": "code",
   "execution_count": 44,
   "id": "76c128d6",
   "metadata": {},
   "outputs": [
    {
     "data": {
      "text/plain": [
       "2"
      ]
     },
     "execution_count": 44,
     "metadata": {},
     "output_type": "execute_result"
    }
   ],
   "source": [
    "place.count(' ')"
   ]
  },
  {
   "cell_type": "code",
   "execution_count": 45,
   "id": "630fae45",
   "metadata": {},
   "outputs": [],
   "source": [
    "split_place=place.split(' ')"
   ]
  },
  {
   "cell_type": "code",
   "execution_count": 46,
   "id": "8515114b",
   "metadata": {},
   "outputs": [
    {
     "data": {
      "text/plain": [
       "['New', 'York', 'City']"
      ]
     },
     "execution_count": 46,
     "metadata": {},
     "output_type": "execute_result"
    }
   ],
   "source": [
    "split_place"
   ]
  },
  {
   "cell_type": "code",
   "execution_count": 47,
   "id": "fc7528f0",
   "metadata": {},
   "outputs": [
    {
     "data": {
      "text/plain": [
       "3"
      ]
     },
     "execution_count": 47,
     "metadata": {},
     "output_type": "execute_result"
    }
   ],
   "source": [
    "len(split_place)"
   ]
  },
  {
   "cell_type": "code",
   "execution_count": 48,
   "id": "7339c86b",
   "metadata": {},
   "outputs": [
    {
     "data": {
      "text/plain": [
       "'New,York,City'"
      ]
     },
     "execution_count": 48,
     "metadata": {},
     "output_type": "execute_result"
    }
   ],
   "source": [
    "join_char = ','\n",
    "join_char.join(split_place)"
   ]
  },
  {
   "cell_type": "code",
   "execution_count": 49,
   "id": "8fa4067e",
   "metadata": {},
   "outputs": [
    {
     "ename": "SyntaxError",
     "evalue": "unterminated string literal (detected at line 1) (1244617217.py, line 1)",
     "output_type": "error",
     "traceback": [
      "\u001b[1;36m  Cell \u001b[1;32mIn[49], line 1\u001b[1;36m\u001b[0m\n\u001b[1;33m    join_char1 = '\u001b[0m\n\u001b[1;37m                 ^\u001b[0m\n\u001b[1;31mSyntaxError\u001b[0m\u001b[1;31m:\u001b[0m unterminated string literal (detected at line 1)\n"
     ]
    }
   ],
   "source": [
    "join_char1 = ' \n",
    "join_char1.join(split_place)'"
   ]
  },
  {
   "cell_type": "code",
   "execution_count": 50,
   "id": "725d5022",
   "metadata": {},
   "outputs": [
    {
     "data": {
      "text/plain": [
       "'New York City'"
      ]
     },
     "execution_count": 50,
     "metadata": {},
     "output_type": "execute_result"
    }
   ],
   "source": [
    "join_char1 = ' '\n",
    "join_char1.join(split_place)"
   ]
  },
  {
   "cell_type": "code",
   "execution_count": 51,
   "id": "07302afd",
   "metadata": {},
   "outputs": [
    {
     "data": {
      "text/plain": [
       "'New|York|City'"
      ]
     },
     "execution_count": 51,
     "metadata": {},
     "output_type": "execute_result"
    }
   ],
   "source": [
    "join_char2 = '|'\n",
    "join_char2.join(split_place)"
   ]
  },
  {
   "cell_type": "code",
   "execution_count": 52,
   "id": "76bb5a8f",
   "metadata": {},
   "outputs": [
    {
     "data": {
      "text/plain": [
       "'New/York/City'"
      ]
     },
     "execution_count": 52,
     "metadata": {},
     "output_type": "execute_result"
    }
   ],
   "source": [
    "'/'.join(split_place)"
   ]
  },
  {
   "cell_type": "code",
   "execution_count": null,
   "id": "0347a4e4",
   "metadata": {},
   "outputs": [],
   "source": []
  }
 ],
 "metadata": {
  "kernelspec": {
   "display_name": "Python 3 (ipykernel)",
   "language": "python",
   "name": "python3"
  },
  "language_info": {
   "codemirror_mode": {
    "name": "ipython",
    "version": 3
   },
   "file_extension": ".py",
   "mimetype": "text/x-python",
   "name": "python",
   "nbconvert_exporter": "python",
   "pygments_lexer": "ipython3",
   "version": "3.11.5"
  }
 },
 "nbformat": 4,
 "nbformat_minor": 5
}
