{
 "cells": [
  {
   "cell_type": "markdown",
   "id": "be4dd1c8",
   "metadata": {},
   "source": [
    "13/5"
   ]
  },
  {
   "cell_type": "code",
   "execution_count": 1,
   "id": "19b1edc6",
   "metadata": {},
   "outputs": [
    {
     "data": {
      "text/plain": [
       "['Toyata Camry', 'Honda Accord', 'Honda Civic', 'toyota Corolla']"
      ]
     },
     "execution_count": 1,
     "metadata": {},
     "output_type": "execute_result"
    }
   ],
   "source": [
    "cars_list = ['Toyata Camry', 'Honda Accord', 'Honda Civic', 'toyota Corolla']\n",
    "cars_list"
   ]
  },
  {
   "cell_type": "raw",
   "id": "5a26320c",
   "metadata": {},
   "source": []
  },
  {
   "cell_type": "code",
   "execution_count": 2,
   "id": "de27c04f",
   "metadata": {},
   "outputs": [
    {
     "ename": "NameError",
     "evalue": "name 'Cars_list' is not defined",
     "output_type": "error",
     "traceback": [
      "\u001b[1;31m---------------------------------------------------------------------------\u001b[0m",
      "\u001b[1;31mNameError\u001b[0m                                 Traceback (most recent call last)",
      "Cell \u001b[1;32mIn[2], line 1\u001b[0m\n\u001b[1;32m----> 1\u001b[0m Cars_list[\u001b[38;5;241m1\u001b[39m]\n",
      "\u001b[1;31mNameError\u001b[0m: name 'Cars_list' is not defined"
     ]
    }
   ],
   "source": [
    "Cars_list[1]"
   ]
  },
  {
   "cell_type": "code",
   "execution_count": 3,
   "id": "14213dcb",
   "metadata": {},
   "outputs": [
    {
     "ename": "IndexError",
     "evalue": "list assignment index out of range",
     "output_type": "error",
     "traceback": [
      "\u001b[1;31m---------------------------------------------------------------------------\u001b[0m",
      "\u001b[1;31mIndexError\u001b[0m                                Traceback (most recent call last)",
      "Cell \u001b[1;32mIn[3], line 1\u001b[0m\n\u001b[1;32m----> 1\u001b[0m cars_list[\u001b[38;5;241m4\u001b[39m]\u001b[38;5;241m=\u001b[39m\u001b[38;5;124m'\u001b[39m\u001b[38;5;124mHyundai Electra\u001b[39m\u001b[38;5;124m'\u001b[39m\n",
      "\u001b[1;31mIndexError\u001b[0m: list assignment index out of range"
     ]
    }
   ],
   "source": [
    "cars_list[4]='Hyundai Electra'\n"
   ]
  },
  {
   "cell_type": "code",
   "execution_count": 4,
   "id": "5afe2dfe",
   "metadata": {},
   "outputs": [
    {
     "data": {
      "text/plain": [
       "['Toyata Camry',\n",
       " 'Honda Accord',\n",
       " 'Honda Civic',\n",
       " 'toyota Corolla',\n",
       " 'Hyndai Elantra']"
      ]
     },
     "execution_count": 4,
     "metadata": {},
     "output_type": "execute_result"
    }
   ],
   "source": [
    "cars_list.append('Hyndai Elantra')\n",
    "cars_list"
   ]
  },
  {
   "cell_type": "code",
   "execution_count": 5,
   "id": "213e471e",
   "metadata": {},
   "outputs": [
    {
     "ename": "TypeError",
     "evalue": "list.append() takes exactly one argument (2 given)",
     "output_type": "error",
     "traceback": [
      "\u001b[1;31m---------------------------------------------------------------------------\u001b[0m",
      "\u001b[1;31mTypeError\u001b[0m                                 Traceback (most recent call last)",
      "Cell \u001b[1;32mIn[5], line 1\u001b[0m\n\u001b[1;32m----> 1\u001b[0m cars_list\u001b[38;5;241m.\u001b[39mappend(\u001b[38;5;124m'\u001b[39m\u001b[38;5;124mNissan Sentra\u001b[39m\u001b[38;5;124m'\u001b[39m, \u001b[38;5;124m'\u001b[39m\u001b[38;5;124mFord Focus\u001b[39m\u001b[38;5;124m'\u001b[39m)\n",
      "\u001b[1;31mTypeError\u001b[0m: list.append() takes exactly one argument (2 given)"
     ]
    }
   ],
   "source": [
    "cars_list.append('Nissan Sentra', 'Ford Focus')"
   ]
  },
  {
   "cell_type": "code",
   "execution_count": 6,
   "id": "4c108970",
   "metadata": {},
   "outputs": [
    {
     "data": {
      "text/plain": [
       "5"
      ]
     },
     "execution_count": 6,
     "metadata": {},
     "output_type": "execute_result"
    }
   ],
   "source": [
    "len(cars_list)"
   ]
  },
  {
   "cell_type": "code",
   "execution_count": 7,
   "id": "dd8e53af",
   "metadata": {},
   "outputs": [],
   "source": [
    "cars_list.insert(6, 'Nissan Sentra')"
   ]
  },
  {
   "cell_type": "code",
   "execution_count": 8,
   "id": "10b449ac",
   "metadata": {},
   "outputs": [
    {
     "data": {
      "text/plain": [
       "['Toyata Camry',\n",
       " 'Honda Accord',\n",
       " 'Honda Civic',\n",
       " 'toyota Corolla',\n",
       " 'Hyndai Elantra',\n",
       " 'Nissan Sentra']"
      ]
     },
     "execution_count": 8,
     "metadata": {},
     "output_type": "execute_result"
    }
   ],
   "source": [
    "cars_list"
   ]
  },
  {
   "cell_type": "code",
   "execution_count": 9,
   "id": "38d74337",
   "metadata": {},
   "outputs": [
    {
     "data": {
      "text/plain": [
       "6"
      ]
     },
     "execution_count": 9,
     "metadata": {},
     "output_type": "execute_result"
    }
   ],
   "source": [
    "len(cars_list)"
   ]
  },
  {
   "cell_type": "code",
   "execution_count": 10,
   "id": "c85aae23",
   "metadata": {},
   "outputs": [],
   "source": [
    "cars_list.insert(5, 'Nissan Altima')"
   ]
  },
  {
   "cell_type": "code",
   "execution_count": 11,
   "id": "7981f300",
   "metadata": {},
   "outputs": [
    {
     "data": {
      "text/plain": [
       "['Toyata Camry',\n",
       " 'Honda Accord',\n",
       " 'Honda Civic',\n",
       " 'toyota Corolla',\n",
       " 'Hyndai Elantra',\n",
       " 'Nissan Altima',\n",
       " 'Nissan Sentra']"
      ]
     },
     "execution_count": 11,
     "metadata": {},
     "output_type": "execute_result"
    }
   ],
   "source": [
    "cars_list"
   ]
  },
  {
   "cell_type": "code",
   "execution_count": 12,
   "id": "facaa57c",
   "metadata": {},
   "outputs": [
    {
     "data": {
      "text/plain": [
       "['Toyata Camry',\n",
       " 'Honda Accord',\n",
       " 'Honda Civic',\n",
       " 'toyota Corolla',\n",
       " 'Hyndai Elantra',\n",
       " 'Nissan Altima',\n",
       " 'Nissan Sentra',\n",
       " 'Kia Optima',\n",
       " 'Kia Soul']"
      ]
     },
     "execution_count": 12,
     "metadata": {},
     "output_type": "execute_result"
    }
   ],
   "source": [
    "cars_list.extend(['Kia Optima', 'Kia Soul'])\n",
    "cars_list\n"
   ]
  },
  {
   "cell_type": "code",
   "execution_count": 13,
   "id": "5552ad98",
   "metadata": {},
   "outputs": [],
   "source": [
    "cars_list2 = ['Hennessey Venom GT', 'Bugatti Veyron', 'Koenigsegg Agera R']"
   ]
  },
  {
   "cell_type": "code",
   "execution_count": 14,
   "id": "4e743635",
   "metadata": {},
   "outputs": [
    {
     "data": {
      "text/plain": [
       "['Hennessey Venom GT', 'Bugatti Veyron', 'Koenigsegg Agera R']"
      ]
     },
     "execution_count": 14,
     "metadata": {},
     "output_type": "execute_result"
    }
   ],
   "source": [
    "cars_list2"
   ]
  },
  {
   "cell_type": "code",
   "execution_count": 15,
   "id": "498f8b1e",
   "metadata": {},
   "outputs": [
    {
     "data": {
      "text/plain": [
       "['Toyata Camry',\n",
       " 'Honda Accord',\n",
       " 'Honda Civic',\n",
       " 'toyota Corolla',\n",
       " 'Hyndai Elantra',\n",
       " 'Nissan Altima',\n",
       " 'Nissan Sentra',\n",
       " 'Kia Optima',\n",
       " 'Kia Soul',\n",
       " 'Hennessey Venom GT',\n",
       " 'Bugatti Veyron',\n",
       " 'Koenigsegg Agera R']"
      ]
     },
     "execution_count": 15,
     "metadata": {},
     "output_type": "execute_result"
    }
   ],
   "source": [
    "complete_cars_list = cars_list + cars_list2\n",
    "complete_cars_list"
   ]
  },
  {
   "cell_type": "code",
   "execution_count": 16,
   "id": "b80a1042",
   "metadata": {},
   "outputs": [
    {
     "data": {
      "text/plain": [
       "['Toyata Camry',\n",
       " 'Honda Accord',\n",
       " 'Honda Civic',\n",
       " 'toyota Corolla',\n",
       " 'Hyndai Elantra',\n",
       " 'Nissan Altima',\n",
       " 'Nissan Sentra',\n",
       " 'Kia Optima',\n",
       " 'Kia Soul']"
      ]
     },
     "execution_count": 16,
     "metadata": {},
     "output_type": "execute_result"
    }
   ],
   "source": [
    "cars_list"
   ]
  },
  {
   "cell_type": "code",
   "execution_count": 17,
   "id": "d8b65829",
   "metadata": {},
   "outputs": [
    {
     "ename": "NameError",
     "evalue": "name 'compelete_cars_list' is not defined",
     "output_type": "error",
     "traceback": [
      "\u001b[1;31m---------------------------------------------------------------------------\u001b[0m",
      "\u001b[1;31mNameError\u001b[0m                                 Traceback (most recent call last)",
      "Cell \u001b[1;32mIn[17], line 1\u001b[0m\n\u001b[1;32m----> 1\u001b[0m compelete_cars_list\u001b[38;5;241m.\u001b[39mindex(\u001b[38;5;124m'\u001b[39m\u001b[38;5;124mHonda Civic\u001b[39m\u001b[38;5;124m'\u001b[39m)\n",
      "\u001b[1;31mNameError\u001b[0m: name 'compelete_cars_list' is not defined"
     ]
    }
   ],
   "source": [
    "compelete_cars_list.index('Honda Civic')"
   ]
  },
  {
   "cell_type": "code",
   "execution_count": 18,
   "id": "352b77c9",
   "metadata": {},
   "outputs": [
    {
     "data": {
      "text/plain": [
       "2"
      ]
     },
     "execution_count": 18,
     "metadata": {},
     "output_type": "execute_result"
    }
   ],
   "source": [
    "complete_cars_list.index('Honda Civic')"
   ]
  },
  {
   "cell_type": "code",
   "execution_count": 19,
   "id": "f8a3482c",
   "metadata": {},
   "outputs": [
    {
     "ename": "SyntaxError",
     "evalue": "unterminated string literal (detected at line 1) (2235003022.py, line 1)",
     "output_type": "error",
     "traceback": [
      "\u001b[1;36m  Cell \u001b[1;32mIn[19], line 1\u001b[1;36m\u001b[0m\n\u001b[1;33m    complete_cars_list.index('hyndai Elentra\u001b[0m\n\u001b[1;37m                             ^\u001b[0m\n\u001b[1;31mSyntaxError\u001b[0m\u001b[1;31m:\u001b[0m unterminated string literal (detected at line 1)\n"
     ]
    }
   ],
   "source": [
    "complete_cars_list.index('hyndai Elentra\n",
    "                         ')"
   ]
  },
  {
   "cell_type": "code",
   "execution_count": 20,
   "id": "21149f62",
   "metadata": {},
   "outputs": [
    {
     "ename": "ValueError",
     "evalue": "'Hyndai Elentra' is not in list",
     "output_type": "error",
     "traceback": [
      "\u001b[1;31m---------------------------------------------------------------------------\u001b[0m",
      "\u001b[1;31mValueError\u001b[0m                                Traceback (most recent call last)",
      "Cell \u001b[1;32mIn[20], line 1\u001b[0m\n\u001b[1;32m----> 1\u001b[0m complete_cars_list\u001b[38;5;241m.\u001b[39mindex(\u001b[38;5;124m'\u001b[39m\u001b[38;5;124mHyndai Elentra\u001b[39m\u001b[38;5;124m'\u001b[39m)\n",
      "\u001b[1;31mValueError\u001b[0m: 'Hyndai Elentra' is not in list"
     ]
    }
   ],
   "source": [
    "complete_cars_list.index('Hyndai Elentra')"
   ]
  },
  {
   "cell_type": "code",
   "execution_count": 21,
   "id": "89fbecee",
   "metadata": {},
   "outputs": [
    {
     "data": {
      "text/plain": [
       "4"
      ]
     },
     "execution_count": 21,
     "metadata": {},
     "output_type": "execute_result"
    }
   ],
   "source": [
    "complete_cars_list.index('Hyndai Elantra')"
   ]
  },
  {
   "cell_type": "code",
   "execution_count": 22,
   "id": "55b56f89",
   "metadata": {},
   "outputs": [
    {
     "data": {
      "text/plain": [
       "['Toyata Camry',\n",
       " 'Honda Accord',\n",
       " 'Honda Civic',\n",
       " 'toyota Corolla',\n",
       " 'Hyndai Elantra',\n",
       " 'Nissan Altima',\n",
       " 'Nissan Sentra',\n",
       " 'Kia Optima',\n",
       " 'Kia Soul']"
      ]
     },
     "execution_count": 22,
     "metadata": {},
     "output_type": "execute_result"
    }
   ],
   "source": [
    "cars_list"
   ]
  },
  {
   "cell_type": "code",
   "execution_count": 23,
   "id": "b53a7a6a",
   "metadata": {},
   "outputs": [
    {
     "ename": "ValueError",
     "evalue": "list.remove(x): x not in list",
     "output_type": "error",
     "traceback": [
      "\u001b[1;31m---------------------------------------------------------------------------\u001b[0m",
      "\u001b[1;31mValueError\u001b[0m                                Traceback (most recent call last)",
      "Cell \u001b[1;32mIn[23], line 1\u001b[0m\n\u001b[1;32m----> 1\u001b[0m complete_cars_list\u001b[38;5;241m.\u001b[39mremove(\u001b[38;5;124m'\u001b[39m\u001b[38;5;124mHyndai Elentra\u001b[39m\u001b[38;5;124m'\u001b[39m)\n",
      "\u001b[1;31mValueError\u001b[0m: list.remove(x): x not in list"
     ]
    }
   ],
   "source": [
    "complete_cars_list.remove('Hyndai Elentra')"
   ]
  },
  {
   "cell_type": "code",
   "execution_count": 24,
   "id": "7bb4ed31",
   "metadata": {},
   "outputs": [
    {
     "data": {
      "text/plain": [
       "4"
      ]
     },
     "execution_count": 24,
     "metadata": {},
     "output_type": "execute_result"
    }
   ],
   "source": [
    "complete_cars_list.index('Hyndai Elantra')"
   ]
  },
  {
   "cell_type": "code",
   "execution_count": 25,
   "id": "f54a3e1f",
   "metadata": {},
   "outputs": [
    {
     "data": {
      "text/plain": [
       "['Toyata Camry',\n",
       " 'Honda Accord',\n",
       " 'Honda Civic',\n",
       " 'toyota Corolla',\n",
       " 'Hyndai Elantra',\n",
       " 'Nissan Altima',\n",
       " 'Nissan Sentra',\n",
       " 'Kia Optima',\n",
       " 'Kia Soul',\n",
       " 'Hennessey Venom GT',\n",
       " 'Bugatti Veyron',\n",
       " 'Koenigsegg Agera R']"
      ]
     },
     "execution_count": 25,
     "metadata": {},
     "output_type": "execute_result"
    }
   ],
   "source": [
    "complete_cars_list"
   ]
  },
  {
   "cell_type": "code",
   "execution_count": 26,
   "id": "6ba8dc6a",
   "metadata": {},
   "outputs": [
    {
     "ename": "NameError",
     "evalue": "name 'compelet_cars_list' is not defined",
     "output_type": "error",
     "traceback": [
      "\u001b[1;31m---------------------------------------------------------------------------\u001b[0m",
      "\u001b[1;31mNameError\u001b[0m                                 Traceback (most recent call last)",
      "Cell \u001b[1;32mIn[26], line 1\u001b[0m\n\u001b[1;32m----> 1\u001b[0m compelet_cars_list\u001b[38;5;241m.\u001b[39mremove(\u001b[38;5;124m'\u001b[39m\u001b[38;5;124mHyndai Elantra\u001b[39m\u001b[38;5;124m'\u001b[39m)\n",
      "\u001b[1;31mNameError\u001b[0m: name 'compelet_cars_list' is not defined"
     ]
    }
   ],
   "source": [
    "compelet_cars_list.remove('Hyndai Elantra')"
   ]
  },
  {
   "cell_type": "code",
   "execution_count": 27,
   "id": "345b3466",
   "metadata": {},
   "outputs": [
    {
     "ename": "ValueError",
     "evalue": "list.remove(x): x not in list",
     "output_type": "error",
     "traceback": [
      "\u001b[1;31m---------------------------------------------------------------------------\u001b[0m",
      "\u001b[1;31mValueError\u001b[0m                                Traceback (most recent call last)",
      "Cell \u001b[1;32mIn[27], line 1\u001b[0m\n\u001b[1;32m----> 1\u001b[0m complete_cars_list\u001b[38;5;241m.\u001b[39mremove(\u001b[38;5;124m'\u001b[39m\u001b[38;5;124mHyndai Elentra\u001b[39m\u001b[38;5;124m'\u001b[39m)\n",
      "\u001b[1;31mValueError\u001b[0m: list.remove(x): x not in list"
     ]
    }
   ],
   "source": [
    "complete_cars_list.remove('Hyndai Elentra')"
   ]
  },
  {
   "cell_type": "code",
   "execution_count": 28,
   "id": "5372d8ae",
   "metadata": {},
   "outputs": [],
   "source": [
    "complete_cars_list.remove('Hyndai Elantra')"
   ]
  },
  {
   "cell_type": "code",
   "execution_count": 29,
   "id": "ac2ff1e2",
   "metadata": {},
   "outputs": [
    {
     "data": {
      "text/plain": [
       "['Toyata Camry',\n",
       " 'Honda Accord',\n",
       " 'Honda Civic',\n",
       " 'toyota Corolla',\n",
       " 'Nissan Altima',\n",
       " 'Nissan Sentra',\n",
       " 'Kia Optima',\n",
       " 'Kia Soul',\n",
       " 'Hennessey Venom GT',\n",
       " 'Bugatti Veyron',\n",
       " 'Koenigsegg Agera R']"
      ]
     },
     "execution_count": 29,
     "metadata": {},
     "output_type": "execute_result"
    }
   ],
   "source": [
    "complete_cars_list\n"
   ]
  },
  {
   "cell_type": "code",
   "execution_count": 30,
   "id": "cf43e309",
   "metadata": {},
   "outputs": [
    {
     "data": {
      "text/plain": [
       "['Toyata Camry',\n",
       " 'Honda Accord',\n",
       " 'Honda Civic',\n",
       " 'toyota Corolla',\n",
       " 'Hyndai Elantra',\n",
       " 'Nissan Altima',\n",
       " 'Nissan Sentra',\n",
       " 'Kia Optima',\n",
       " 'Kia Soul']"
      ]
     },
     "execution_count": 30,
     "metadata": {},
     "output_type": "execute_result"
    }
   ],
   "source": [
    "cars_list"
   ]
  },
  {
   "cell_type": "code",
   "execution_count": 31,
   "id": "8c13adf4",
   "metadata": {},
   "outputs": [
    {
     "data": {
      "text/plain": [
       "11"
      ]
     },
     "execution_count": 31,
     "metadata": {},
     "output_type": "execute_result"
    }
   ],
   "source": [
    "a=10\n",
    "a+=1\n",
    "a"
   ]
  },
  {
   "cell_type": "code",
   "execution_count": 32,
   "id": "aab7c3f3",
   "metadata": {},
   "outputs": [
    {
     "ename": "NameError",
     "evalue": "name 'compelete_cars_list' is not defined",
     "output_type": "error",
     "traceback": [
      "\u001b[1;31m---------------------------------------------------------------------------\u001b[0m",
      "\u001b[1;31mNameError\u001b[0m                                 Traceback (most recent call last)",
      "Cell \u001b[1;32mIn[32], line 1\u001b[0m\n\u001b[1;32m----> 1\u001b[0m compelete_cars_list \u001b[38;5;241m+\u001b[39m\u001b[38;5;241m=\u001b[39m[\u001b[38;5;124m'\u001b[39m\u001b[38;5;124mChevrolet Cruze\u001b[39m\u001b[38;5;124m'\u001b[39m, \u001b[38;5;124m'\u001b[39m\u001b[38;5;124mChevrolet Malibu\u001b[39m\u001b[38;5;124m'\u001b[39m]\n",
      "\u001b[1;31mNameError\u001b[0m: name 'compelete_cars_list' is not defined"
     ]
    }
   ],
   "source": [
    "compelete_cars_list +=['Chevrolet Cruze', 'Chevrolet Malibu']"
   ]
  },
  {
   "cell_type": "code",
   "execution_count": 33,
   "id": "6df57a69",
   "metadata": {},
   "outputs": [],
   "source": [
    "complete_cars_list += ['Chevrolet Cruze', 'Chevrolet Malibu']"
   ]
  },
  {
   "cell_type": "code",
   "execution_count": 34,
   "id": "c63e3dc3",
   "metadata": {},
   "outputs": [
    {
     "data": {
      "text/plain": [
       "['Toyata Camry',\n",
       " 'Honda Accord',\n",
       " 'Honda Civic',\n",
       " 'toyota Corolla',\n",
       " 'Nissan Altima',\n",
       " 'Nissan Sentra',\n",
       " 'Kia Optima',\n",
       " 'Kia Soul',\n",
       " 'Hennessey Venom GT',\n",
       " 'Bugatti Veyron',\n",
       " 'Koenigsegg Agera R',\n",
       " 'Chevrolet Cruze',\n",
       " 'Chevrolet Malibu']"
      ]
     },
     "execution_count": 34,
     "metadata": {},
     "output_type": "execute_result"
    }
   ],
   "source": [
    "complete_cars_list"
   ]
  },
  {
   "cell_type": "code",
   "execution_count": 35,
   "id": "64d14e8d",
   "metadata": {},
   "outputs": [],
   "source": [
    "complete_cars_list.sort()"
   ]
  },
  {
   "cell_type": "code",
   "execution_count": 36,
   "id": "91bf6765",
   "metadata": {},
   "outputs": [
    {
     "data": {
      "text/plain": [
       "['Bugatti Veyron',\n",
       " 'Chevrolet Cruze',\n",
       " 'Chevrolet Malibu',\n",
       " 'Hennessey Venom GT',\n",
       " 'Honda Accord',\n",
       " 'Honda Civic',\n",
       " 'Kia Optima',\n",
       " 'Kia Soul',\n",
       " 'Koenigsegg Agera R',\n",
       " 'Nissan Altima',\n",
       " 'Nissan Sentra',\n",
       " 'Toyata Camry',\n",
       " 'toyota Corolla']"
      ]
     },
     "execution_count": 36,
     "metadata": {},
     "output_type": "execute_result"
    }
   ],
   "source": [
    "complete_cars_list"
   ]
  },
  {
   "cell_type": "code",
   "execution_count": 37,
   "id": "71944cdd",
   "metadata": {},
   "outputs": [
    {
     "data": {
      "text/plain": [
       "['toyota Corolla',\n",
       " 'Toyata Camry',\n",
       " 'Nissan Sentra',\n",
       " 'Nissan Altima',\n",
       " 'Koenigsegg Agera R',\n",
       " 'Kia Soul',\n",
       " 'Kia Optima',\n",
       " 'Honda Civic',\n",
       " 'Honda Accord',\n",
       " 'Hennessey Venom GT',\n",
       " 'Chevrolet Malibu',\n",
       " 'Chevrolet Cruze',\n",
       " 'Bugatti Veyron']"
      ]
     },
     "execution_count": 37,
     "metadata": {},
     "output_type": "execute_result"
    }
   ],
   "source": [
    "complete_cars_list.reverse()\n",
    "complete_cars_list"
   ]
  },
  {
   "cell_type": "code",
   "execution_count": 38,
   "id": "8257539f",
   "metadata": {},
   "outputs": [
    {
     "data": {
      "text/plain": [
       "'Bugatti Veyron'"
      ]
     },
     "execution_count": 38,
     "metadata": {},
     "output_type": "execute_result"
    }
   ],
   "source": [
    "complete_cars_list.pop()"
   ]
  },
  {
   "cell_type": "code",
   "execution_count": 39,
   "id": "fdd3fba6",
   "metadata": {},
   "outputs": [
    {
     "data": {
      "text/plain": [
       "['toyota Corolla',\n",
       " 'Toyata Camry',\n",
       " 'Nissan Sentra',\n",
       " 'Nissan Altima',\n",
       " 'Koenigsegg Agera R',\n",
       " 'Kia Soul',\n",
       " 'Kia Optima',\n",
       " 'Honda Civic',\n",
       " 'Honda Accord',\n",
       " 'Hennessey Venom GT',\n",
       " 'Chevrolet Malibu',\n",
       " 'Chevrolet Cruze']"
      ]
     },
     "execution_count": 39,
     "metadata": {},
     "output_type": "execute_result"
    }
   ],
   "source": [
    "complete_cars_list"
   ]
  },
  {
   "cell_type": "code",
   "execution_count": 40,
   "id": "5efe77ae",
   "metadata": {},
   "outputs": [
    {
     "data": {
      "text/plain": [
       "['toyota Corolla',\n",
       " 'Toyata Camry',\n",
       " 'Nissan Sentra',\n",
       " 'Nissan Altima',\n",
       " 'Koenigsegg Agera R',\n",
       " 'Kia Soul',\n",
       " 'Kia Optima',\n",
       " 'Honda Civic',\n",
       " 'Honda Accord',\n",
       " 'Hennessey Venom GT',\n",
       " 'Chevrolet Malibu',\n",
       " 'Chevrolet Cruze',\n",
       " 'Nissan Altima']"
      ]
     },
     "execution_count": 40,
     "metadata": {},
     "output_type": "execute_result"
    }
   ],
   "source": [
    "complete_cars_list.append('Nissan Altima')\n",
    "complete_cars_list"
   ]
  },
  {
   "cell_type": "code",
   "execution_count": 41,
   "id": "026bcef7",
   "metadata": {},
   "outputs": [
    {
     "data": {
      "text/plain": [
       "2"
      ]
     },
     "execution_count": 41,
     "metadata": {},
     "output_type": "execute_result"
    }
   ],
   "source": [
    "complete_cars_list.count('Nissan Altima')"
   ]
  },
  {
   "cell_type": "code",
   "execution_count": 42,
   "id": "88ff080c",
   "metadata": {},
   "outputs": [
    {
     "data": {
      "text/plain": [
       "{'Chevrolet Cruze',\n",
       " 'Chevrolet Malibu',\n",
       " 'Hennessey Venom GT',\n",
       " 'Honda Accord',\n",
       " 'Honda Civic',\n",
       " 'Kia Optima',\n",
       " 'Kia Soul',\n",
       " 'Koenigsegg Agera R',\n",
       " 'Nissan Altima',\n",
       " 'Nissan Sentra',\n",
       " 'Toyata Camry',\n",
       " 'toyota Corolla'}"
      ]
     },
     "execution_count": 42,
     "metadata": {},
     "output_type": "execute_result"
    }
   ],
   "source": [
    "set(complete_cars_list)"
   ]
  },
  {
   "cell_type": "code",
   "execution_count": 43,
   "id": "42e357a6",
   "metadata": {},
   "outputs": [
    {
     "name": "stdout",
     "output_type": "stream",
     "text": [
      "['Toyata Camry', 'Honda Accord', 'Honda Civic', 'toyota Corolla', 'Hyndai Elantra', 'Nissan Altima', 'Nissan Sentra', 'Kia Optima', 'Kia Soul']\n"
     ]
    }
   ],
   "source": [
    "print(cars_list)"
   ]
  },
  {
   "cell_type": "code",
   "execution_count": 44,
   "id": "af54f260",
   "metadata": {},
   "outputs": [],
   "source": [
    "cars_list.clear()"
   ]
  },
  {
   "cell_type": "code",
   "execution_count": 45,
   "id": "dc08e424",
   "metadata": {},
   "outputs": [
    {
     "data": {
      "text/plain": [
       "[]"
      ]
     },
     "execution_count": 45,
     "metadata": {},
     "output_type": "execute_result"
    }
   ],
   "source": [
    "cars_list"
   ]
  },
  {
   "cell_type": "code",
   "execution_count": 46,
   "id": "42f3c965",
   "metadata": {},
   "outputs": [
    {
     "data": {
      "text/plain": [
       "['toyota Corolla',\n",
       " 'Toyata Camry',\n",
       " 'Nissan Sentra',\n",
       " 'Nissan Altima',\n",
       " 'Koenigsegg Agera R',\n",
       " 'Kia Soul',\n",
       " 'Kia Optima',\n",
       " 'Honda Civic',\n",
       " 'Honda Accord',\n",
       " 'Hennessey Venom GT',\n",
       " 'Chevrolet Malibu',\n",
       " 'Chevrolet Cruze',\n",
       " 'Nissan Altima']"
      ]
     },
     "execution_count": 46,
     "metadata": {},
     "output_type": "execute_result"
    }
   ],
   "source": [
    "complete_cars_list"
   ]
  },
  {
   "cell_type": "code",
   "execution_count": 47,
   "id": "fb7adc1c",
   "metadata": {},
   "outputs": [],
   "source": [
    "import copy"
   ]
  },
  {
   "cell_type": "code",
   "execution_count": 48,
   "id": "f4284974",
   "metadata": {},
   "outputs": [],
   "source": [
    "new_cars_list = copy.deepcopy(complete_cars_list)"
   ]
  },
  {
   "cell_type": "code",
   "execution_count": 49,
   "id": "d843c499",
   "metadata": {},
   "outputs": [
    {
     "data": {
      "text/plain": [
       "['toyota Corolla',\n",
       " 'Toyata Camry',\n",
       " 'Nissan Sentra',\n",
       " 'Nissan Altima',\n",
       " 'Koenigsegg Agera R',\n",
       " 'Kia Soul',\n",
       " 'Kia Optima',\n",
       " 'Honda Civic',\n",
       " 'Honda Accord',\n",
       " 'Hennessey Venom GT',\n",
       " 'Chevrolet Malibu',\n",
       " 'Chevrolet Cruze',\n",
       " 'Nissan Altima']"
      ]
     },
     "execution_count": 49,
     "metadata": {},
     "output_type": "execute_result"
    }
   ],
   "source": [
    "new_cars_list"
   ]
  },
  {
   "cell_type": "code",
   "execution_count": 50,
   "id": "b2759a81",
   "metadata": {},
   "outputs": [],
   "source": [
    "del complete_cars_list"
   ]
  },
  {
   "cell_type": "code",
   "execution_count": 51,
   "id": "baaebea4",
   "metadata": {},
   "outputs": [
    {
     "ename": "NameError",
     "evalue": "name 'complete_cars_list' is not defined",
     "output_type": "error",
     "traceback": [
      "\u001b[1;31m---------------------------------------------------------------------------\u001b[0m",
      "\u001b[1;31mNameError\u001b[0m                                 Traceback (most recent call last)",
      "Cell \u001b[1;32mIn[51], line 1\u001b[0m\n\u001b[1;32m----> 1\u001b[0m complete_cars_list\n",
      "\u001b[1;31mNameError\u001b[0m: name 'complete_cars_list' is not defined"
     ]
    }
   ],
   "source": [
    "complete_cars_list"
   ]
  },
  {
   "cell_type": "code",
   "execution_count": 52,
   "id": "f45f27d5",
   "metadata": {},
   "outputs": [
    {
     "data": {
      "text/plain": [
       "['toyota Corolla',\n",
       " 'Toyata Camry',\n",
       " 'Nissan Sentra',\n",
       " 'Nissan Altima',\n",
       " 'Koenigsegg Agera R',\n",
       " 'Kia Soul',\n",
       " 'Kia Optima',\n",
       " 'Honda Civic',\n",
       " 'Honda Accord',\n",
       " 'Hennessey Venom GT',\n",
       " 'Chevrolet Malibu',\n",
       " 'Chevrolet Cruze',\n",
       " 'Nissan Altima']"
      ]
     },
     "execution_count": 52,
     "metadata": {},
     "output_type": "execute_result"
    }
   ],
   "source": [
    "new_cars_list"
   ]
  },
  {
   "cell_type": "code",
   "execution_count": 53,
   "id": "0efd44cd",
   "metadata": {},
   "outputs": [],
   "source": [
    "another_cars_list = new_cars_list\n"
   ]
  },
  {
   "cell_type": "code",
   "execution_count": 54,
   "id": "e73374f9",
   "metadata": {},
   "outputs": [
    {
     "ename": "ValueError",
     "evalue": "list.remove(x): x not in list",
     "output_type": "error",
     "traceback": [
      "\u001b[1;31m---------------------------------------------------------------------------\u001b[0m",
      "\u001b[1;31mValueError\u001b[0m                                Traceback (most recent call last)",
      "Cell \u001b[1;32mIn[54], line 1\u001b[0m\n\u001b[1;32m----> 1\u001b[0m another_cars_list\u001b[38;5;241m.\u001b[39mremove(\u001b[38;5;124m'\u001b[39m\u001b[38;5;124mhennessey Venom GT\u001b[39m\u001b[38;5;124m'\u001b[39m)\n",
      "\u001b[1;31mValueError\u001b[0m: list.remove(x): x not in list"
     ]
    }
   ],
   "source": [
    "another_cars_list.remove('hennessey Venom GT')"
   ]
  },
  {
   "cell_type": "code",
   "execution_count": 55,
   "id": "ba1d22a5",
   "metadata": {},
   "outputs": [],
   "source": [
    "another_cars_list.remove('Hennessey Venom GT')"
   ]
  },
  {
   "cell_type": "code",
   "execution_count": 56,
   "id": "0922edfc",
   "metadata": {},
   "outputs": [
    {
     "data": {
      "text/plain": [
       "['toyota Corolla',\n",
       " 'Toyata Camry',\n",
       " 'Nissan Sentra',\n",
       " 'Nissan Altima',\n",
       " 'Koenigsegg Agera R',\n",
       " 'Kia Soul',\n",
       " 'Kia Optima',\n",
       " 'Honda Civic',\n",
       " 'Honda Accord',\n",
       " 'Chevrolet Malibu',\n",
       " 'Chevrolet Cruze',\n",
       " 'Nissan Altima']"
      ]
     },
     "execution_count": 56,
     "metadata": {},
     "output_type": "execute_result"
    }
   ],
   "source": [
    "another_cars_list"
   ]
  },
  {
   "cell_type": "code",
   "execution_count": 57,
   "id": "660ffa76",
   "metadata": {},
   "outputs": [
    {
     "data": {
      "text/plain": [
       "['toyota Corolla',\n",
       " 'Toyata Camry',\n",
       " 'Nissan Sentra',\n",
       " 'Nissan Altima',\n",
       " 'Koenigsegg Agera R',\n",
       " 'Kia Soul',\n",
       " 'Kia Optima',\n",
       " 'Honda Civic',\n",
       " 'Honda Accord',\n",
       " 'Chevrolet Malibu',\n",
       " 'Chevrolet Cruze',\n",
       " 'Nissan Altima']"
      ]
     },
     "execution_count": 57,
     "metadata": {},
     "output_type": "execute_result"
    }
   ],
   "source": [
    "new_cars_list"
   ]
  },
  {
   "cell_type": "code",
   "execution_count": 58,
   "id": "024d4848",
   "metadata": {},
   "outputs": [],
   "source": [
    "new_cars_list.remove('Nissan Sentra')"
   ]
  },
  {
   "cell_type": "code",
   "execution_count": 59,
   "id": "ef33e9e1",
   "metadata": {},
   "outputs": [
    {
     "data": {
      "text/plain": [
       "['toyota Corolla',\n",
       " 'Toyata Camry',\n",
       " 'Nissan Altima',\n",
       " 'Koenigsegg Agera R',\n",
       " 'Kia Soul',\n",
       " 'Kia Optima',\n",
       " 'Honda Civic',\n",
       " 'Honda Accord',\n",
       " 'Chevrolet Malibu',\n",
       " 'Chevrolet Cruze',\n",
       " 'Nissan Altima']"
      ]
     },
     "execution_count": 59,
     "metadata": {},
     "output_type": "execute_result"
    }
   ],
   "source": [
    "another_cars_list"
   ]
  },
  {
   "cell_type": "code",
   "execution_count": null,
   "id": "97b65853",
   "metadata": {},
   "outputs": [],
   "source": []
  }
 ],
 "metadata": {
  "kernelspec": {
   "display_name": "Python 3 (ipykernel)",
   "language": "python",
   "name": "python3"
  },
  "language_info": {
   "codemirror_mode": {
    "name": "ipython",
    "version": 3
   },
   "file_extension": ".py",
   "mimetype": "text/x-python",
   "name": "python",
   "nbconvert_exporter": "python",
   "pygments_lexer": "ipython3",
   "version": "3.11.5"
  }
 },
 "nbformat": 4,
 "nbformat_minor": 5
}
