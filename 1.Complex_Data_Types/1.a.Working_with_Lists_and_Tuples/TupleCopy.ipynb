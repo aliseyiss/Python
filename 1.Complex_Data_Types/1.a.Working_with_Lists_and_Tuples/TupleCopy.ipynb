{
 "cells": [
  {
   "cell_type": "code",
   "execution_count": 7,
   "id": "6f64f732",
   "metadata": {},
   "outputs": [
    {
     "data": {
      "text/plain": [
       "('apple', 'banana', 'cherry')"
      ]
     },
     "execution_count": 7,
     "metadata": {},
     "output_type": "execute_result"
    }
   ],
   "source": [
    "fruits = ('apple', 'banana', 'cherry')\n",
    "fruits"
   ]
  },
  {
   "cell_type": "code",
   "execution_count": 8,
   "id": "a459284a",
   "metadata": {},
   "outputs": [
    {
     "name": "stdout",
     "output_type": "stream",
     "text": [
      "Original:  ('apple', 'banana', 'cherry')\n",
      "Modified:  ('apple', 'banana', 'cherry')\n"
     ]
    }
   ],
   "source": [
    "new_fruits = fruits\n",
    "print('Original: ', fruits)\n",
    "print('Modified: ', new_fruits)"
   ]
  },
  {
   "cell_type": "code",
   "execution_count": 9,
   "id": "baa263ba",
   "metadata": {},
   "outputs": [
    {
     "data": {
      "text/plain": [
       "'cherry'"
      ]
     },
     "execution_count": 9,
     "metadata": {},
     "output_type": "execute_result"
    }
   ],
   "source": [
    "new_fruits[2]"
   ]
  },
  {
   "cell_type": "code",
   "execution_count": 10,
   "id": "c36e3fee",
   "metadata": {},
   "outputs": [
    {
     "ename": "TypeError",
     "evalue": "'tuple' object does not support item assignment",
     "output_type": "error",
     "traceback": [
      "\u001b[1;31m---------------------------------------------------------------------------\u001b[0m",
      "\u001b[1;31mTypeError\u001b[0m                                 Traceback (most recent call last)",
      "Cell \u001b[1;32mIn[10], line 1\u001b[0m\n\u001b[1;32m----> 1\u001b[0m new_fruits[\u001b[38;5;241m2\u001b[39m]\u001b[38;5;241m=\u001b[39m\u001b[38;5;124m'\u001b[39m\u001b[38;5;124morange\u001b[39m\u001b[38;5;124m'\u001b[39m\n",
      "\u001b[1;31mTypeError\u001b[0m: 'tuple' object does not support item assignment"
     ]
    }
   ],
   "source": [
    "new_fruits[2]='orange'"
   ]
  },
  {
   "cell_type": "code",
   "execution_count": 11,
   "id": "a5ebe909",
   "metadata": {},
   "outputs": [
    {
     "data": {
      "text/plain": [
       "('apple', 'banana', 'cherry')"
      ]
     },
     "execution_count": 11,
     "metadata": {},
     "output_type": "execute_result"
    }
   ],
   "source": [
    "new_fruits"
   ]
  },
  {
   "cell_type": "code",
   "execution_count": 12,
   "id": "af839143",
   "metadata": {},
   "outputs": [
    {
     "data": {
      "text/plain": [
       "('apple', ['banana', 'cherry'], 'blackcurrant')"
      ]
     },
     "execution_count": 12,
     "metadata": {},
     "output_type": "execute_result"
    }
   ],
   "source": [
    "fruits = ('apple', ['banana', 'cherry'], 'blackcurrant')\n",
    "fruits\n"
   ]
  },
  {
   "cell_type": "code",
   "execution_count": 13,
   "id": "1e9b4896",
   "metadata": {},
   "outputs": [
    {
     "name": "stdout",
     "output_type": "stream",
     "text": [
      "Original:  ('apple', ['banana', 'cherry'], 'blackcurrant')\n",
      "Modified:  ('apple', ['banana', 'cherry'], 'blackcurrant')\n"
     ]
    }
   ],
   "source": [
    "new_fruits = fruits\n",
    "print('Original: ', fruits)\n",
    "print('Modified: ', new_fruits)"
   ]
  },
  {
   "cell_type": "code",
   "execution_count": 14,
   "id": "0836e351",
   "metadata": {},
   "outputs": [
    {
     "data": {
      "text/plain": [
       "'banana'"
      ]
     },
     "execution_count": 14,
     "metadata": {},
     "output_type": "execute_result"
    }
   ],
   "source": [
    "new_fruits[1][0]"
   ]
  },
  {
   "cell_type": "code",
   "execution_count": 15,
   "id": "b6b59664",
   "metadata": {},
   "outputs": [
    {
     "name": "stdout",
     "output_type": "stream",
     "text": [
      "Original:  ('apple', ['orange', 'cherry'], 'blackcurrant')\n",
      "Modified:  ('apple', ['orange', 'cherry'], 'blackcurrant')\n"
     ]
    }
   ],
   "source": [
    "new_fruits[1][0] = 'orange'\n",
    "print('Original: ', fruits)\n",
    "print('Modified: ', new_fruits)"
   ]
  },
  {
   "cell_type": "code",
   "execution_count": 16,
   "id": "8937a881",
   "metadata": {},
   "outputs": [],
   "source": [
    "import copy"
   ]
  },
  {
   "cell_type": "code",
   "execution_count": 18,
   "id": "bf9c4ab8",
   "metadata": {},
   "outputs": [
    {
     "data": {
      "text/plain": [
       "('Honda', ' Suzuki', 'Triumph', ['Kawasaki', 'Ducati'])"
      ]
     },
     "execution_count": 18,
     "metadata": {},
     "output_type": "execute_result"
    }
   ],
   "source": [
    "bikes = ('Honda', ' Suzuki', 'Triumph', ['Kawasaki', 'Ducati'])\n",
    "bikes"
   ]
  },
  {
   "cell_type": "code",
   "execution_count": 19,
   "id": "2d5deb12",
   "metadata": {},
   "outputs": [
    {
     "name": "stdout",
     "output_type": "stream",
     "text": [
      "Original:  ('Honda', ' Suzuki', 'Triumph', ['Kawasaki', 'Ducati'])\n",
      "Modified:  ('Honda', ' Suzuki', 'Triumph', ['Kawasaki', 'Ducati'])\n"
     ]
    }
   ],
   "source": [
    "new_bikes=copy.copy(bikes)\n",
    "print('Original: ', bikes)\n",
    "print('Modified: ', new_bikes)"
   ]
  },
  {
   "cell_type": "code",
   "execution_count": 20,
   "id": "33e7e671",
   "metadata": {},
   "outputs": [
    {
     "data": {
      "text/plain": [
       "'Kawasaki'"
      ]
     },
     "execution_count": 20,
     "metadata": {},
     "output_type": "execute_result"
    }
   ],
   "source": [
    "new_bikes[3][0] "
   ]
  },
  {
   "cell_type": "code",
   "execution_count": 21,
   "id": "53f447b8",
   "metadata": {},
   "outputs": [
    {
     "name": "stdout",
     "output_type": "stream",
     "text": [
      "Original:  ('Honda', ' Suzuki', 'Triumph', ['Dodge', 'Ducati'])\n",
      "Modified:  ('Honda', ' Suzuki', 'Triumph', ['Dodge', 'Ducati'])\n"
     ]
    }
   ],
   "source": [
    "new_bikes[3][0] = 'Dodge'\n",
    "print('Original: ', bikes)\n",
    "print('Modified: ', new_bikes)"
   ]
  },
  {
   "cell_type": "code",
   "execution_count": 23,
   "id": "f9eeaaed",
   "metadata": {},
   "outputs": [
    {
     "name": "stdout",
     "output_type": "stream",
     "text": [
      "Original:  ('Honda', ' Suzuki', 'Triumph', ['Dodge', 'Ducati'])\n",
      "Modified:  ('Honda', ' Suzuki', 'Triumph', ['Dodge', 'Ducati'])\n"
     ]
    }
   ],
   "source": [
    "new_bikes=copy.deepcopy(bikes)\n",
    "print('Original: ', bikes)\n",
    "print('Modified: ', new_bikes)"
   ]
  },
  {
   "cell_type": "code",
   "execution_count": 24,
   "id": "ca913753",
   "metadata": {},
   "outputs": [
    {
     "name": "stdout",
     "output_type": "stream",
     "text": [
      "Original:  ('Honda', ' Suzuki', 'Triumph', ['Dodge', 'Ducati'])\n",
      "Modified:  ('Honda', ' Suzuki', 'Triumph', ['Harley Davidson', 'Ducati'])\n"
     ]
    }
   ],
   "source": [
    "new_bikes[3][0] = 'Harley Davidson'\n",
    "print('Original: ', bikes)\n",
    "print('Modified: ', new_bikes)"
   ]
  },
  {
   "cell_type": "code",
   "execution_count": null,
   "id": "2935f091",
   "metadata": {},
   "outputs": [],
   "source": []
  }
 ],
 "metadata": {
  "kernelspec": {
   "display_name": "Python 3 (ipykernel)",
   "language": "python",
   "name": "python3"
  },
  "language_info": {
   "codemirror_mode": {
    "name": "ipython",
    "version": 3
   },
   "file_extension": ".py",
   "mimetype": "text/x-python",
   "name": "python",
   "nbconvert_exporter": "python",
   "pygments_lexer": "ipython3",
   "version": "3.11.5"
  }
 },
 "nbformat": 4,
 "nbformat_minor": 5
}
