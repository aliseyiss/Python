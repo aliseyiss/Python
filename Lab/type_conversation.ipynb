{
 "cells": [
  {
   "cell_type": "code",
   "execution_count": 1,
   "id": "26ec9645",
   "metadata": {},
   "outputs": [],
   "source": [
    "# Assuming my_double is a double-precision floating-point number\n",
    "my_double = 12.34\n",
    "\n",
    "# Convert to single-precision floating-point number\n",
    "my_float = float(my_double)\n"
   ]
  },
  {
   "cell_type": "code",
   "execution_count": 2,
   "id": "4411f9b2",
   "metadata": {},
   "outputs": [
    {
     "data": {
      "text/plain": [
       "12.34"
      ]
     },
     "execution_count": 2,
     "metadata": {},
     "output_type": "execute_result"
    }
   ],
   "source": [
    "my_float"
   ]
  },
  {
   "cell_type": "code",
   "execution_count": 5,
   "id": "f27350d6",
   "metadata": {
    "scrolled": true
   },
   "outputs": [
    {
     "name": "stdout",
     "output_type": "stream",
     "text": [
      "List: [1, 2, 3]\n",
      "List: [4, 5, 6]\n",
      "Named argument name: Alice\n",
      "Named argument age: 30\n"
     ]
    }
   ],
   "source": [
    "#perform an operation on the list of arguments\n",
    "\n",
    "\n",
    "def my_function(*args, **kwargs):\n",
    "    # Iterate over the variable arguments (lists)\n",
    "    for arg in args:\n",
    "        print(\"List:\", arg)\n",
    "    \n",
    "    # Access and print named arguments\n",
    "    for key, value in kwargs.items():\n",
    "        print(f\"Named argument {key}: {value}\")\n",
    "\n",
    "# Example usage of the function\n",
    "my_function([1, 2, 3], [4, 5, 6], name=\"Alice\", age=30)\n"
   ]
  },
  {
   "cell_type": "code",
   "execution_count": 4,
   "id": "f67763ad",
   "metadata": {},
   "outputs": [
    {
     "name": "stdout",
     "output_type": "stream",
     "text": [
      "Result: 24\n"
     ]
    }
   ],
   "source": [
    "#perform an operation on the named argumenets\n",
    "\n",
    "\n",
    "def multiply_named_arguments(**kwargs):\n",
    "    result = 1\n",
    "    for value in kwargs.values():\n",
    "        result *= value\n",
    "    return result\n",
    "\n",
    "# Example usage of the function\n",
    "result = multiply_named_arguments(a=2, b=3, c=4)\n",
    "print(\"Result:\", result)\n"
   ]
  },
  {
   "cell_type": "code",
   "execution_count": null,
   "id": "f506141a",
   "metadata": {},
   "outputs": [],
   "source": [
    "#return different return values based on arguments\n",
    "\n",
    "\n",
    "def return_based_on_arguments(*args):\n",
    "    if len(args) == 0:\n",
    "        return \"No arguments provided\"\n",
    "    elif len(args) == 1:\n",
    "        return \"Only one argument provided\"\n",
    "    else:\n",
    "        return \"Multiple arguments provided\"\n",
    "\n",
    "# Example usage of the function\n",
    "print(return_based_on_arguments())          # Output: No arguments provided\n",
    "print(return_based_on_arguments(10))        # Output: Only one argument provided\n",
    "print(return_based_on_arguments(10, 20))    # Output: Multiple arguments provided\n"
   ]
  },
  {
   "cell_type": "code",
   "execution_count": 6,
   "id": "8884e17d",
   "metadata": {},
   "outputs": [
    {
     "name": "stdout",
     "output_type": "stream",
     "text": [
      "15\n"
     ]
    }
   ],
   "source": [
    "#\n",
    "def outer_function(x):\n",
    "    def inner_function(y):\n",
    "        return x + y\n",
    "    return inner_function\n",
    "\n",
    "# Example usage\n",
    "closure = outer_function(10)\n",
    "result = closure(5)\n",
    "print(result)  # Output: 15\n"
   ]
  },
  {
   "cell_type": "code",
   "execution_count": 7,
   "id": "3011d179",
   "metadata": {},
   "outputs": [
    {
     "name": "stdout",
     "output_type": "stream",
     "text": [
      "1\n",
      "2\n",
      "3\n"
     ]
    }
   ],
   "source": [
    "#call the function to return value that changes each time it is called\n",
    "\n",
    "def outer_function():\n",
    "    counter = [0]  # Mutable state\n",
    "    \n",
    "    def inner_function():\n",
    "        counter[0] += 1\n",
    "        return counter[0]\n",
    "    \n",
    "    return inner_function\n",
    "\n",
    "# Example usage\n",
    "closure_function = outer_function()\n",
    "\n",
    "# Call the closure function multiple times\n",
    "print(closure_function())  # Output: 1\n",
    "print(closure_function())  # Output: 2\n",
    "print(closure_function())  # Output: 3\n"
   ]
  },
  {
   "cell_type": "code",
   "execution_count": null,
   "id": "7fa078dc",
   "metadata": {},
   "outputs": [],
   "source": []
  }
 ],
 "metadata": {
  "kernelspec": {
   "display_name": "Python 3 (ipykernel)",
   "language": "python",
   "name": "python3"
  },
  "language_info": {
   "codemirror_mode": {
    "name": "ipython",
    "version": 3
   },
   "file_extension": ".py",
   "mimetype": "text/x-python",
   "name": "python",
   "nbconvert_exporter": "python",
   "pygments_lexer": "ipython3",
   "version": "3.11.5"
  }
 },
 "nbformat": 4,
 "nbformat_minor": 5
}
