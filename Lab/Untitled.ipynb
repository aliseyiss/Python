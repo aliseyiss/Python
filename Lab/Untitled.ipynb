{
 "cells": [
  {
   "cell_type": "code",
   "execution_count": 1,
   "id": "63e191d5",
   "metadata": {},
   "outputs": [
    {
     "name": "stdout",
     "output_type": "stream",
     "text": [
      "<class 'int'>\n",
      "<class 'float'>\n",
      "<class 'str'>\n",
      "<class 'bool'>\n",
      "<class 'bool'>\n"
     ]
    }
   ],
   "source": [
    "a = 100\n",
    "b = 500.34524\n",
    "c = 'Hello World'\n",
    "d = False\n",
    "e = True\n",
    "\n",
    "print(type(a))\n",
    "print(type(b))\n",
    "print(type(c))\n",
    "print(type(d))\n",
    "print(type(e))"
   ]
  },
  {
   "cell_type": "code",
   "execution_count": 3,
   "id": "c7673ad3",
   "metadata": {},
   "outputs": [
    {
     "name": "stdout",
     "output_type": "stream",
     "text": [
      "100, 500.345, Hello World, False, True\n"
     ]
    }
   ],
   "source": [
    "print('%i, %.3f, %s, %s, %s' % (a,b,c,d,e))"
   ]
  },
  {
   "cell_type": "code",
   "execution_count": 6,
   "id": "0e720b08",
   "metadata": {},
   "outputs": [
    {
     "name": "stdout",
     "output_type": "stream",
     "text": [
      "False: 0\tFalse:0\tTrue\t100\t500.34524\n"
     ]
    }
   ],
   "source": [
    "s = '{0}: {1:d}\\t{0}:{1:d}\\t{3}\\t{4}\\t{5}'.format(d,d,e,e,a,b,c)\n",
    "print(s)"
   ]
  },
  {
   "cell_type": "code",
   "execution_count": 8,
   "id": "be6087f6",
   "metadata": {},
   "outputs": [
    {
     "name": "stdout",
     "output_type": "stream",
     "text": [
      "True False\n",
      "1 0\n"
     ]
    }
   ],
   "source": [
    "print('%s %s' % ( True, False))\n",
    "print('%i %i' % (True, False))"
   ]
  },
  {
   "cell_type": "code",
   "execution_count": 12,
   "id": "de4d796e",
   "metadata": {},
   "outputs": [
    {
     "name": "stdout",
     "output_type": "stream",
     "text": [
      "100 500.35\n",
      "Hello W\n",
      "False\n"
     ]
    }
   ],
   "source": [
    "t = f'{a} {b:,.2f}\\n{c[:7]}\\n{d}'\n",
    "print(t)"
   ]
  },
  {
   "cell_type": "code",
   "execution_count": null,
   "id": "ec6b85f6",
   "metadata": {},
   "outputs": [],
   "source": []
  }
 ],
 "metadata": {
  "kernelspec": {
   "display_name": "Python 3 (ipykernel)",
   "language": "python",
   "name": "python3"
  },
  "language_info": {
   "codemirror_mode": {
    "name": "ipython",
    "version": 3
   },
   "file_extension": ".py",
   "mimetype": "text/x-python",
   "name": "python",
   "nbconvert_exporter": "python",
   "pygments_lexer": "ipython3",
   "version": "3.11.5"
  }
 },
 "nbformat": 4,
 "nbformat_minor": 5
}
