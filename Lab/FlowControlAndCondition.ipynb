{
 "cells": [
  {
   "cell_type": "code",
   "execution_count": 1,
   "id": "df1dcd6b",
   "metadata": {},
   "outputs": [
    {
     "name": "stdout",
     "output_type": "stream",
     "text": [
      "3\n",
      "53\n",
      "19\n",
      "-5\n",
      "60\n",
      "41\n",
      "5\n",
      "22\n"
     ]
    }
   ],
   "source": [
    "my_list = [3, 53, 19, -5, 60, 41, 'test', 5, 22, 9, 22]\n",
    "\n",
    "for i in my_list:\n",
    "    if i == 9:\n",
    "        break\n",
    "    elif isinstance(i, str):\n",
    "        continue\n",
    "    else:\n",
    "        print(i)"
   ]
  },
  {
   "cell_type": "code",
   "execution_count": 4,
   "id": "f787a61a",
   "metadata": {},
   "outputs": [
    {
     "name": "stdout",
     "output_type": "stream",
     "text": [
      "skipping -5\n",
      "sum: 203, loop: 9\n"
     ]
    }
   ],
   "source": [
    "total = 0\n",
    "loop = 0\n",
    "\n",
    "while total < 200:\n",
    "    if isinstance(my_list[loop], str):\n",
    "        loop += 1\n",
    "        continue\n",
    "        \n",
    "    elif my_list[loop] > 0:\n",
    "        total += my_list[loop]\n",
    "    else:\n",
    "        print(f'skipping {my_list[loop]}')\n",
    "        \n",
    "    if loop == len(my_list) - 1:\n",
    "        break\n",
    "    loop += 1\n",
    "    \n",
    "print(f'sum: {total}, loop: {loop}')"
   ]
  },
  {
   "cell_type": "code",
   "execution_count": null,
   "id": "8a183c26",
   "metadata": {},
   "outputs": [],
   "source": []
  }
 ],
 "metadata": {
  "kernelspec": {
   "display_name": "Python 3 (ipykernel)",
   "language": "python",
   "name": "python3"
  },
  "language_info": {
   "codemirror_mode": {
    "name": "ipython",
    "version": 3
   },
   "file_extension": ".py",
   "mimetype": "text/x-python",
   "name": "python",
   "nbconvert_exporter": "python",
   "pygments_lexer": "ipython3",
   "version": "3.11.5"
  }
 },
 "nbformat": 4,
 "nbformat_minor": 5
}
