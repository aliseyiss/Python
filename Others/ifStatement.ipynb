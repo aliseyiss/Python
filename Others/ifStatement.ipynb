{
 "cells": [
  {
   "cell_type": "code",
   "execution_count": 1,
   "id": "06f8dbf8",
   "metadata": {},
   "outputs": [
    {
     "name": "stdout",
     "output_type": "stream",
     "text": [
      "10 is greater than 15\n"
     ]
    }
   ],
   "source": [
    "if 10 < 15:\n",
    "    print('10 is greater than 15')"
   ]
  },
  {
   "cell_type": "code",
   "execution_count": 5,
   "id": "dd46eddf",
   "metadata": {},
   "outputs": [
    {
     "ename": "IndentationError",
     "evalue": "expected an indented block after 'if' statement on line 1 (1748776748.py, line 2)",
     "output_type": "error",
     "traceback": [
      "\u001b[1;36m  Cell \u001b[1;32mIn[5], line 2\u001b[1;36m\u001b[0m\n\u001b[1;33m    print('46 is greater than 45')\u001b[0m\n\u001b[1;37m    ^\u001b[0m\n\u001b[1;31mIndentationError\u001b[0m\u001b[1;31m:\u001b[0m expected an indented block after 'if' statement on line 1\n"
     ]
    }
   ],
   "source": [
    "if 46 > 45:\n",
    "print('46 is greater than 45')"
   ]
  },
  {
   "cell_type": "code",
   "execution_count": 6,
   "id": "e0bdb77f",
   "metadata": {},
   "outputs": [],
   "source": [
    "my_string = \"Hello python world\""
   ]
  },
  {
   "cell_type": "code",
   "execution_count": 7,
   "id": "3e2cb3d4",
   "metadata": {},
   "outputs": [
    {
     "name": "stdout",
     "output_type": "stream",
     "text": [
      "Yes, 'python' is in my string\n"
     ]
    }
   ],
   "source": [
    "if  'python' in my_string:\n",
    "    print(\"Yes, 'python' is in my string\")"
   ]
  },
  {
   "cell_type": "code",
   "execution_count": 8,
   "id": "37cbd477",
   "metadata": {},
   "outputs": [
    {
     "data": {
      "text/plain": [
       "['Ayden', 'Gavin', 'Ian', 'Jose', 'Jane']"
      ]
     },
     "execution_count": 8,
     "metadata": {},
     "output_type": "execute_result"
    }
   ],
   "source": [
    "list_student = [\"Ayden\", \"Gavin\", \"Ian\", \"Jose\", \"Jane\"]\n",
    "list_student"
   ]
  },
  {
   "cell_type": "code",
   "execution_count": 9,
   "id": "774608a2",
   "metadata": {},
   "outputs": [
    {
     "name": "stdout",
     "output_type": "stream",
     "text": [
      "Jose is a student\n"
     ]
    }
   ],
   "source": [
    "if 'Jose' in list_student:\n",
    "    print(\"Jose is a student\")"
   ]
  },
  {
   "cell_type": "code",
   "execution_count": 10,
   "id": "0b18a8f1",
   "metadata": {},
   "outputs": [],
   "source": [
    "if 'eva' in list_student:\n",
    "    print(\"eva is Student\")"
   ]
  },
  {
   "cell_type": "code",
   "execution_count": 11,
   "id": "57261190",
   "metadata": {},
   "outputs": [
    {
     "data": {
      "text/plain": [
       "{'Ayden': 60, 'Gavin': 85, 'Ian': 76, 'Jose': 70, 'Jane': 82}"
      ]
     },
     "execution_count": 11,
     "metadata": {},
     "output_type": "execute_result"
    }
   ],
   "source": [
    "student_score = {\"Ayden\":60, \"Gavin\":85, \"Ian\":76, \"Jose\":70, \"Jane\":82}\n",
    "student_score"
   ]
  },
  {
   "cell_type": "code",
   "execution_count": 18,
   "id": "c0a2c0ee",
   "metadata": {},
   "outputs": [
    {
     "name": "stdout",
     "output_type": "stream",
     "text": [
      "Ian is in student score dictionary and his note is  76\n"
     ]
    }
   ],
   "source": [
    "if 'Ian' in student_score:\n",
    "    print(\"Ian is in student score dictionary and his note is \", student_score['Ian'])"
   ]
  },
  {
   "cell_type": "code",
   "execution_count": 19,
   "id": "2aa7d81b",
   "metadata": {},
   "outputs": [
    {
     "name": "stdout",
     "output_type": "stream",
     "text": [
      "Jane's score:  82\n"
     ]
    }
   ],
   "source": [
    "if \"Jane\" in student_score:\n",
    "    print(\"Jane's score: \", student_score[\"Jane\"])"
   ]
  },
  {
   "cell_type": "code",
   "execution_count": null,
   "id": "58a329f6",
   "metadata": {},
   "outputs": [],
   "source": []
  },
  {
   "cell_type": "code",
   "execution_count": null,
   "id": "9934f7ad",
   "metadata": {},
   "outputs": [],
   "source": []
  },
  {
   "cell_type": "code",
   "execution_count": null,
   "id": "162aa44d",
   "metadata": {},
   "outputs": [],
   "source": []
  },
  {
   "cell_type": "code",
   "execution_count": null,
   "id": "0ad30c76",
   "metadata": {},
   "outputs": [],
   "source": []
  },
  {
   "cell_type": "code",
   "execution_count": null,
   "id": "46c107af",
   "metadata": {},
   "outputs": [],
   "source": []
  },
  {
   "cell_type": "code",
   "execution_count": null,
   "id": "733a2607",
   "metadata": {},
   "outputs": [],
   "source": []
  },
  {
   "cell_type": "code",
   "execution_count": null,
   "id": "5c4f7e0b",
   "metadata": {},
   "outputs": [],
   "source": []
  },
  {
   "cell_type": "code",
   "execution_count": null,
   "id": "772b8806",
   "metadata": {},
   "outputs": [],
   "source": []
  },
  {
   "cell_type": "code",
   "execution_count": null,
   "id": "44f26c30",
   "metadata": {},
   "outputs": [],
   "source": []
  },
  {
   "cell_type": "code",
   "execution_count": null,
   "id": "284c8b8b",
   "metadata": {},
   "outputs": [],
   "source": []
  },
  {
   "cell_type": "code",
   "execution_count": null,
   "id": "488c1239",
   "metadata": {},
   "outputs": [],
   "source": []
  },
  {
   "cell_type": "code",
   "execution_count": null,
   "id": "547616d3",
   "metadata": {},
   "outputs": [],
   "source": []
  },
  {
   "cell_type": "code",
   "execution_count": null,
   "id": "a07399ff",
   "metadata": {},
   "outputs": [],
   "source": []
  },
  {
   "cell_type": "code",
   "execution_count": null,
   "id": "5171f99d",
   "metadata": {},
   "outputs": [],
   "source": []
  }
 ],
 "metadata": {
  "kernelspec": {
   "display_name": "Python 3 (ipykernel)",
   "language": "python",
   "name": "python3"
  },
  "language_info": {
   "codemirror_mode": {
    "name": "ipython",
    "version": 3
   },
   "file_extension": ".py",
   "mimetype": "text/x-python",
   "name": "python",
   "nbconvert_exporter": "python",
   "pygments_lexer": "ipython3",
   "version": "3.11.5"
  }
 },
 "nbformat": 4,
 "nbformat_minor": 5
}
