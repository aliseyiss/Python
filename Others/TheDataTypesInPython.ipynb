{
 "cells": [
  {
   "cell_type": "code",
   "execution_count": 1,
   "id": "4ae4978f",
   "metadata": {},
   "outputs": [
    {
     "data": {
      "text/plain": [
       "int"
      ]
     },
     "execution_count": 1,
     "metadata": {},
     "output_type": "execute_result"
    }
   ],
   "source": [
    "type(23)"
   ]
  },
  {
   "cell_type": "code",
   "execution_count": 2,
   "id": "23e75a93",
   "metadata": {},
   "outputs": [
    {
     "data": {
      "text/plain": [
       "float"
      ]
     },
     "execution_count": 2,
     "metadata": {},
     "output_type": "execute_result"
    }
   ],
   "source": [
    "type(23.5)"
   ]
  },
  {
   "cell_type": "code",
   "execution_count": 3,
   "id": "50ba4202",
   "metadata": {},
   "outputs": [
    {
     "name": "stdout",
     "output_type": "stream",
     "text": [
      "Data type of  25 is <class 'int'>\n"
     ]
    }
   ],
   "source": [
    "x = 25\n",
    "print(\"Data type of \", x, 'is', type(x))"
   ]
  },
  {
   "cell_type": "code",
   "execution_count": 6,
   "id": "13f99281",
   "metadata": {},
   "outputs": [
    {
     "name": "stdout",
     "output_type": "stream",
     "text": [
      "data type of  5j is <class 'complex'>\n"
     ]
    }
   ],
   "source": [
    "z = 5j\n",
    "print(\"data type of \", z, 'is', type(z))"
   ]
  },
  {
   "cell_type": "code",
   "execution_count": 7,
   "id": "e49f1494",
   "metadata": {},
   "outputs": [
    {
     "name": "stdout",
     "output_type": "stream",
     "text": [
      "(-25+0j)\n"
     ]
    }
   ],
   "source": [
    "print(5j*5j)"
   ]
  },
  {
   "cell_type": "code",
   "execution_count": 8,
   "id": "e2f824d8",
   "metadata": {},
   "outputs": [
    {
     "data": {
      "text/plain": [
       "bool"
      ]
     },
     "execution_count": 8,
     "metadata": {},
     "output_type": "execute_result"
    }
   ],
   "source": [
    "boolen_value = True\n",
    "type(boolen_value)"
   ]
  },
  {
   "cell_type": "code",
   "execution_count": 9,
   "id": "15728359",
   "metadata": {},
   "outputs": [
    {
     "data": {
      "text/plain": [
       "str"
      ]
     },
     "execution_count": 9,
     "metadata": {},
     "output_type": "execute_result"
    }
   ],
   "source": [
    "str_value = \"commamdo\"\n",
    "type(str_value)"
   ]
  },
  {
   "cell_type": "code",
   "execution_count": 10,
   "id": "2228c996",
   "metadata": {},
   "outputs": [
    {
     "name": "stdout",
     "output_type": "stream",
     "text": [
      "7\n"
     ]
    }
   ],
   "source": [
    "print(0b111)"
   ]
  },
  {
   "cell_type": "code",
   "execution_count": 11,
   "id": "472f1987",
   "metadata": {},
   "outputs": [
    {
     "data": {
      "text/plain": [
       "7"
      ]
     },
     "execution_count": 11,
     "metadata": {},
     "output_type": "execute_result"
    }
   ],
   "source": [
    "value = 0b111\n",
    "value"
   ]
  },
  {
   "cell_type": "code",
   "execution_count": null,
   "id": "c70b925a",
   "metadata": {},
   "outputs": [],
   "source": [
    "type(0b11)"
   ]
  }
 ],
 "metadata": {
  "kernelspec": {
   "display_name": "Python 3 (ipykernel)",
   "language": "python",
   "name": "python3"
  },
  "language_info": {
   "codemirror_mode": {
    "name": "ipython",
    "version": 3
   },
   "file_extension": ".py",
   "mimetype": "text/x-python",
   "name": "python",
   "nbconvert_exporter": "python",
   "pygments_lexer": "ipython3",
   "version": "3.11.5"
  }
 },
 "nbformat": 4,
 "nbformat_minor": 5
}
