{
 "cells": [
  {
   "cell_type": "code",
   "execution_count": 1,
   "id": "5ac3b082",
   "metadata": {},
   "outputs": [
    {
     "name": "stdout",
     "output_type": "stream",
     "text": [
      "I am a single quoted string\n"
     ]
    }
   ],
   "source": [
    "print('I am a single quoted string')"
   ]
  },
  {
   "cell_type": "code",
   "execution_count": 2,
   "id": "09e36406",
   "metadata": {},
   "outputs": [
    {
     "name": "stdout",
     "output_type": "stream",
     "text": [
      "python is  awesome!\n"
     ]
    }
   ],
   "source": [
    "print(\"python\", 'is ', \"\"\"awesome!\"\"\")"
   ]
  },
  {
   "cell_type": "code",
   "execution_count": 3,
   "id": "04bb66c7",
   "metadata": {},
   "outputs": [
    {
     "name": "stdout",
     "output_type": "stream",
     "text": [
      "python is awesome!\n"
     ]
    }
   ],
   "source": [
    "print(\"python\", 'is',\"\"\"awesome!\"\"\")"
   ]
  },
  {
   "cell_type": "code",
   "execution_count": 4,
   "id": "a2de424c",
   "metadata": {},
   "outputs": [
    {
     "name": "stdout",
     "output_type": "stream",
     "text": [
      "python python python \n"
     ]
    }
   ],
   "source": [
    "print('python ' * 3)"
   ]
  },
  {
   "cell_type": "code",
   "execution_count": 5,
   "id": "f180e6e0",
   "metadata": {},
   "outputs": [
    {
     "name": "stdout",
     "output_type": "stream",
     "text": [
      "pasta\n",
      "You had pasta! that sounds delicious!\n"
     ]
    }
   ],
   "source": [
    "question = \"What did you have for lunch\"\n",
    "answer = input()\n",
    "print(\"You had \" + answer + \"!\" + \" that sounds delicious!\")"
   ]
  },
  {
   "cell_type": "code",
   "execution_count": 6,
   "id": "4d2b309a",
   "metadata": {},
   "outputs": [
    {
     "ename": "SyntaxError",
     "evalue": "invalid syntax. Perhaps you forgot a comma? (3416018342.py, line 1)",
     "output_type": "error",
     "traceback": [
      "\u001b[1;36m  Cell \u001b[1;32mIn[6], line 1\u001b[1;36m\u001b[0m\n\u001b[1;33m    print('I'm learning python)\u001b[0m\n\u001b[1;37m          ^\u001b[0m\n\u001b[1;31mSyntaxError\u001b[0m\u001b[1;31m:\u001b[0m invalid syntax. Perhaps you forgot a comma?\n"
     ]
    }
   ],
   "source": [
    "print('I'm learning python)"
   ]
  },
  {
   "cell_type": "code",
   "execution_count": 7,
   "id": "7d321be5",
   "metadata": {},
   "outputs": [
    {
     "name": "stdout",
     "output_type": "stream",
     "text": [
      "I'm learning pythom\n"
     ]
    }
   ],
   "source": [
    "print(\"I'm learning pythom\")"
   ]
  },
  {
   "cell_type": "code",
   "execution_count": 8,
   "id": "b839e07e",
   "metadata": {},
   "outputs": [
    {
     "name": "stdout",
     "output_type": "stream",
     "text": [
      "John said \"hello there!\"\n"
     ]
    }
   ],
   "source": [
    "print('John said \"hello there!\"')"
   ]
  },
  {
   "cell_type": "code",
   "execution_count": 9,
   "id": "42946eb5",
   "metadata": {},
   "outputs": [
    {
     "ename": "SyntaxError",
     "evalue": "invalid syntax. Perhaps you forgot a comma? (2528882898.py, line 1)",
     "output_type": "error",
     "traceback": [
      "\u001b[1;36m  Cell \u001b[1;32mIn[9], line 1\u001b[1;36m\u001b[0m\n\u001b[1;33m    print('I/'m learning)\u001b[0m\n\u001b[1;37m          ^\u001b[0m\n\u001b[1;31mSyntaxError\u001b[0m\u001b[1;31m:\u001b[0m invalid syntax. Perhaps you forgot a comma?\n"
     ]
    }
   ],
   "source": [
    "print('I/'m learning)"
   ]
  },
  {
   "cell_type": "code",
   "execution_count": 10,
   "id": "c19cb749",
   "metadata": {},
   "outputs": [
    {
     "ename": "SyntaxError",
     "evalue": "unterminated string literal (detected at line 1) (1205172194.py, line 1)",
     "output_type": "error",
     "traceback": [
      "\u001b[1;36m  Cell \u001b[1;32mIn[10], line 1\u001b[1;36m\u001b[0m\n\u001b[1;33m    print('I/'m learning')\u001b[0m\n\u001b[1;37m                        ^\u001b[0m\n\u001b[1;31mSyntaxError\u001b[0m\u001b[1;31m:\u001b[0m unterminated string literal (detected at line 1)\n"
     ]
    }
   ],
   "source": [
    "print('I/'m learning')"
   ]
  },
  {
   "cell_type": "code",
   "execution_count": 11,
   "id": "6496b2b5",
   "metadata": {},
   "outputs": [
    {
     "name": "stdout",
     "output_type": "stream",
     "text": [
      "I'm learning\n"
     ]
    }
   ],
   "source": [
    "print('I\\'m learning')"
   ]
  },
  {
   "cell_type": "code",
   "execution_count": 12,
   "id": "84e840b0",
   "metadata": {},
   "outputs": [
    {
     "name": "stdout",
     "output_type": "stream",
     "text": [
      "John said \"Hello World!\"\n"
     ]
    }
   ],
   "source": [
    "print(\"John said \\\"Hello World!\\\"\")"
   ]
  },
  {
   "cell_type": "code",
   "execution_count": 13,
   "id": "428b5f99",
   "metadata": {},
   "outputs": [
    {
     "ename": "SyntaxError",
     "evalue": "unterminated string literal (detected at line 1) (1856066761.py, line 1)",
     "output_type": "error",
     "traceback": [
      "\u001b[1;36m  Cell \u001b[1;32mIn[13], line 1\u001b[1;36m\u001b[0m\n\u001b[1;33m    print('I\\'m learning \"python\"'' )\u001b[0m\n\u001b[1;37m                                  ^\u001b[0m\n\u001b[1;31mSyntaxError\u001b[0m\u001b[1;31m:\u001b[0m unterminated string literal (detected at line 1)\n"
     ]
    }
   ],
   "source": [
    "print('I\\'m learning \"python\"'' )"
   ]
  },
  {
   "cell_type": "code",
   "execution_count": 14,
   "id": "ef25e133",
   "metadata": {},
   "outputs": [
    {
     "ename": "SyntaxError",
     "evalue": "unterminated string literal (detected at line 1) (3229410170.py, line 1)",
     "output_type": "error",
     "traceback": [
      "\u001b[1;36m  Cell \u001b[1;32mIn[14], line 1\u001b[1;36m\u001b[0m\n\u001b[1;33m    print('I\\'m learning \"python\")\u001b[0m\n\u001b[1;37m          ^\u001b[0m\n\u001b[1;31mSyntaxError\u001b[0m\u001b[1;31m:\u001b[0m unterminated string literal (detected at line 1)\n"
     ]
    }
   ],
   "source": [
    "print('I\\'m learning \"python\")"
   ]
  },
  {
   "cell_type": "code",
   "execution_count": 15,
   "id": "b5e8183b",
   "metadata": {},
   "outputs": [
    {
     "name": "stdout",
     "output_type": "stream",
     "text": [
      "I'm learning \"python\"\n"
     ]
    }
   ],
   "source": [
    "print('I\\'m learning \"python\"')"
   ]
  },
  {
   "cell_type": "code",
   "execution_count": 16,
   "id": "a8310a15",
   "metadata": {},
   "outputs": [
    {
     "name": "stdout",
     "output_type": "stream",
     "text": [
      " Hello John! \n",
      "How are you doing\n"
     ]
    }
   ],
   "source": [
    "print(\" Hello John! \\nHow are you doing\")"
   ]
  },
  {
   "cell_type": "code",
   "execution_count": 17,
   "id": "2d23df08",
   "metadata": {},
   "outputs": [
    {
     "name": "stdout",
     "output_type": "stream",
     "text": [
      " This is a very long line \n",
      "but we can have it span \n",
      "multiple lines.\n"
     ]
    }
   ],
   "source": [
    "print(\" This is a very long line \\nbut we can have it span \\nmultiple lines.\")"
   ]
  },
  {
   "cell_type": "code",
   "execution_count": 18,
   "id": "ac09be84",
   "metadata": {},
   "outputs": [
    {
     "name": "stdout",
     "output_type": "stream",
     "text": [
      "This is very long sentence \n",
      "but we can span it \n",
      "right now\n"
     ]
    }
   ],
   "source": [
    "print(\"This is very long sentence \\nbut we can span it \\nright now\")"
   ]
  },
  {
   "cell_type": "code",
   "execution_count": 19,
   "id": "c3d00c9f",
   "metadata": {},
   "outputs": [
    {
     "name": "stdout",
     "output_type": "stream",
     "text": [
      "this is very long\n",
      "string in python\n"
     ]
    }
   ],
   "source": [
    "print(\"\"\"this is very long\n",
    "string in python\"\"\")"
   ]
  },
  {
   "cell_type": "code",
   "execution_count": 20,
   "id": "bfd2aee1",
   "metadata": {},
   "outputs": [
    {
     "name": "stdout",
     "output_type": "stream",
     "text": [
      "this\n",
      "is\n",
      "very gut\n"
     ]
    }
   ],
   "source": [
    "print(\"\"\"this\n",
    "is\n",
    "very gut\"\"\")"
   ]
  },
  {
   "cell_type": "code",
   "execution_count": 21,
   "id": "d74e1921",
   "metadata": {},
   "outputs": [
    {
     "ename": "SyntaxError",
     "evalue": "invalid syntax (2736959597.py, line 1)",
     "output_type": "error",
     "traceback": [
      "\u001b[1;36m  Cell \u001b[1;32mIn[21], line 1\u001b[1;36m\u001b[0m\n\u001b[1;33m    print(\"This is a very long string\", in python)\u001b[0m\n\u001b[1;37m                                        ^\u001b[0m\n\u001b[1;31mSyntaxError\u001b[0m\u001b[1;31m:\u001b[0m invalid syntax\n"
     ]
    }
   ],
   "source": [
    "print(\"This is a very long string\", in python)"
   ]
  },
  {
   "cell_type": "code",
   "execution_count": 22,
   "id": "fe3c1c25",
   "metadata": {},
   "outputs": [
    {
     "name": "stdout",
     "output_type": "stream",
     "text": [
      "A dogbarks!\n"
     ]
    }
   ],
   "source": [
    "my_var = 'barks'\n",
    "print('A dog' + my_var + '!')"
   ]
  },
  {
   "cell_type": "code",
   "execution_count": 23,
   "id": "9a0be2c4",
   "metadata": {},
   "outputs": [
    {
     "name": "stdout",
     "output_type": "stream",
     "text": [
      "A dog barks1\n"
     ]
    }
   ],
   "source": [
    "print('A dog ' + my_var + '1')"
   ]
  },
  {
   "cell_type": "code",
   "execution_count": 24,
   "id": "b2b598fa",
   "metadata": {},
   "outputs": [
    {
     "ename": "SyntaxError",
     "evalue": "unterminated string literal (detected at line 1) (891704206.py, line 1)",
     "output_type": "error",
     "traceback": [
      "\u001b[1;36m  Cell \u001b[1;32mIn[24], line 1\u001b[1;36m\u001b[0m\n\u001b[1;33m    print(f'A dog {my_var}!)\u001b[0m\n\u001b[1;37m          ^\u001b[0m\n\u001b[1;31mSyntaxError\u001b[0m\u001b[1;31m:\u001b[0m unterminated string literal (detected at line 1)\n"
     ]
    }
   ],
   "source": [
    "print(f'A dog {my_var}!)"
   ]
  },
  {
   "cell_type": "code",
   "execution_count": 25,
   "id": "85835915",
   "metadata": {},
   "outputs": [
    {
     "name": "stdout",
     "output_type": "stream",
     "text": [
      "A dog barks!\n"
     ]
    }
   ],
   "source": [
    "print(f'A dog {my_var}!')"
   ]
  },
  {
   "cell_type": "code",
   "execution_count": 26,
   "id": "edaf3479",
   "metadata": {},
   "outputs": [
    {
     "name": "stdout",
     "output_type": "stream",
     "text": [
      "A dog barks!\n"
     ]
    }
   ],
   "source": [
    "print(f'''A dog {my_var}!''')"
   ]
  },
  {
   "cell_type": "code",
   "execution_count": 27,
   "id": "8e46697c",
   "metadata": {},
   "outputs": [
    {
     "ename": "ValueError",
     "evalue": "unmatched '{' in format spec",
     "output_type": "error",
     "traceback": [
      "\u001b[1;31m---------------------------------------------------------------------------\u001b[0m",
      "\u001b[1;31mValueError\u001b[0m                                Traceback (most recent call last)",
      "Cell \u001b[1;32mIn[27], line 1\u001b[0m\n\u001b[1;32m----> 1\u001b[0m \u001b[38;5;28mprint\u001b[39m(\u001b[38;5;124m'\u001b[39m\u001b[38;5;124mA dog \u001b[39m\u001b[38;5;124m{\u001b[39m\u001b[38;5;124m!}\u001b[39m\u001b[38;5;124m'\u001b[39m\u001b[38;5;241m.\u001b[39mformat(my_var))\n",
      "\u001b[1;31mValueError\u001b[0m: unmatched '{' in format spec"
     ]
    }
   ],
   "source": [
    "print('A dog {!}'.format(my_var))"
   ]
  },
  {
   "cell_type": "code",
   "execution_count": 28,
   "id": "de7b4e61",
   "metadata": {},
   "outputs": [
    {
     "name": "stdout",
     "output_type": "stream",
     "text": [
      "A dog barks!\n"
     ]
    }
   ],
   "source": [
    "print('A dog {}!'.format(my_var))"
   ]
  },
  {
   "cell_type": "code",
   "execution_count": 29,
   "id": "4a83f93e",
   "metadata": {},
   "outputs": [
    {
     "name": "stdout",
     "output_type": "stream",
     "text": [
      " John asked \t'Hoew are your'\n"
     ]
    }
   ],
   "source": [
    "print(\" John asked \\t'Hoew are your'\")"
   ]
  },
  {
   "cell_type": "code",
   "execution_count": 30,
   "id": "7d790c31",
   "metadata": {},
   "outputs": [
    {
     "name": "stdout",
     "output_type": "stream",
     "text": [
      "C:\\Users\\File\n"
     ]
    }
   ],
   "source": [
    "print('C:\\\\Users\\\\File')"
   ]
  },
  {
   "cell_type": "code",
   "execution_count": null,
   "id": "3ad600a4",
   "metadata": {},
   "outputs": [],
   "source": []
  }
 ],
 "metadata": {
  "kernelspec": {
   "display_name": "Python 3 (ipykernel)",
   "language": "python",
   "name": "python3"
  },
  "language_info": {
   "codemirror_mode": {
    "name": "ipython",
    "version": 3
   },
   "file_extension": ".py",
   "mimetype": "text/x-python",
   "name": "python",
   "nbconvert_exporter": "python",
   "pygments_lexer": "ipython3",
   "version": "3.11.5"
  }
 },
 "nbformat": 4,
 "nbformat_minor": 5
}
