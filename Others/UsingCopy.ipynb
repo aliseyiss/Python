{
 "cells": [
  {
   "cell_type": "code",
   "execution_count": 1,
   "id": "e0e74e54",
   "metadata": {},
   "outputs": [
    {
     "data": {
      "text/plain": [
       "'Python'"
      ]
     },
     "execution_count": 1,
     "metadata": {},
     "output_type": "execute_result"
    }
   ],
   "source": [
    "old_str = \"Python\"\n",
    "old_str"
   ]
  },
  {
   "cell_type": "code",
   "execution_count": 4,
   "id": "84548759",
   "metadata": {},
   "outputs": [],
   "source": [
    "new_str = old_str"
   ]
  },
  {
   "cell_type": "code",
   "execution_count": 5,
   "id": "63195ca7",
   "metadata": {},
   "outputs": [
    {
     "name": "stdout",
     "output_type": "stream",
     "text": [
      "Python\n",
      "Python\n"
     ]
    }
   ],
   "source": [
    "print(old_str)\n",
    "print(new_str)"
   ]
  },
  {
   "cell_type": "code",
   "execution_count": 6,
   "id": "e038c436",
   "metadata": {},
   "outputs": [
    {
     "data": {
      "text/plain": [
       "'t'"
      ]
     },
     "execution_count": 6,
     "metadata": {},
     "output_type": "execute_result"
    }
   ],
   "source": [
    "new_str[2]"
   ]
  },
  {
   "cell_type": "code",
   "execution_count": 7,
   "id": "f42d362f",
   "metadata": {},
   "outputs": [
    {
     "ename": "TypeError",
     "evalue": "'str' object does not support item assignment",
     "output_type": "error",
     "traceback": [
      "\u001b[1;31m---------------------------------------------------------------------------\u001b[0m",
      "\u001b[1;31mTypeError\u001b[0m                                 Traceback (most recent call last)",
      "Cell \u001b[1;32mIn[7], line 1\u001b[0m\n\u001b[1;32m----> 1\u001b[0m new_str[\u001b[38;5;241m2\u001b[39m] \u001b[38;5;241m=\u001b[39m \u001b[38;5;124m\"\u001b[39m\u001b[38;5;124mT\u001b[39m\u001b[38;5;124m\"\u001b[39m\n",
      "\u001b[1;31mTypeError\u001b[0m: 'str' object does not support item assignment"
     ]
    }
   ],
   "source": [
    "new_str[2] = \"T\""
   ]
  },
  {
   "cell_type": "code",
   "execution_count": 8,
   "id": "0f0dfbec",
   "metadata": {},
   "outputs": [],
   "source": [
    "import copy"
   ]
  },
  {
   "cell_type": "code",
   "execution_count": 9,
   "id": "07af7002",
   "metadata": {},
   "outputs": [
    {
     "data": {
      "text/plain": [
       "'Will'"
      ]
     },
     "execution_count": 9,
     "metadata": {},
     "output_type": "execute_result"
    }
   ],
   "source": [
    "first_str = 'Will'\n",
    "first_str"
   ]
  },
  {
   "cell_type": "code",
   "execution_count": 10,
   "id": "18606cc5",
   "metadata": {},
   "outputs": [],
   "source": [
    "second_str = copy.copy(first_str)"
   ]
  },
  {
   "cell_type": "code",
   "execution_count": 11,
   "id": "351df537",
   "metadata": {},
   "outputs": [
    {
     "name": "stdout",
     "output_type": "stream",
     "text": [
      "First string:  Will\n"
     ]
    }
   ],
   "source": [
    "print(\"First string: \", first_str)"
   ]
  },
  {
   "cell_type": "code",
   "execution_count": 12,
   "id": "a026e841",
   "metadata": {},
   "outputs": [
    {
     "name": "stdout",
     "output_type": "stream",
     "text": [
      "Second string:  Will\n"
     ]
    }
   ],
   "source": [
    "print(\"Second string: \", second_str)"
   ]
  },
  {
   "cell_type": "code",
   "execution_count": 13,
   "id": "21bc96c5",
   "metadata": {},
   "outputs": [],
   "source": [
    "second_str = 'Smith'"
   ]
  },
  {
   "cell_type": "code",
   "execution_count": 14,
   "id": "cf8fec84",
   "metadata": {},
   "outputs": [
    {
     "data": {
      "text/plain": [
       "'Smith'"
      ]
     },
     "execution_count": 14,
     "metadata": {},
     "output_type": "execute_result"
    }
   ],
   "source": [
    "second_str"
   ]
  },
  {
   "cell_type": "code",
   "execution_count": 15,
   "id": "2ada4da4",
   "metadata": {},
   "outputs": [],
   "source": [
    "first_str = 'Jonny'"
   ]
  },
  {
   "cell_type": "code",
   "execution_count": 16,
   "id": "ad9fc103",
   "metadata": {},
   "outputs": [
    {
     "data": {
      "text/plain": [
       "'Jonny'"
      ]
     },
     "execution_count": 16,
     "metadata": {},
     "output_type": "execute_result"
    }
   ],
   "source": [
    "first_str"
   ]
  },
  {
   "cell_type": "code",
   "execution_count": 18,
   "id": "5b891c84",
   "metadata": {},
   "outputs": [
    {
     "data": {
      "text/plain": [
       "'Smith'"
      ]
     },
     "execution_count": 18,
     "metadata": {},
     "output_type": "execute_result"
    }
   ],
   "source": [
    "second_str"
   ]
  },
  {
   "cell_type": "code",
   "execution_count": null,
   "id": "a07468fd",
   "metadata": {},
   "outputs": [],
   "source": []
  }
 ],
 "metadata": {
  "kernelspec": {
   "display_name": "Python 3 (ipykernel)",
   "language": "python",
   "name": "python3"
  },
  "language_info": {
   "codemirror_mode": {
    "name": "ipython",
    "version": 3
   },
   "file_extension": ".py",
   "mimetype": "text/x-python",
   "name": "python",
   "nbconvert_exporter": "python",
   "pygments_lexer": "ipython3",
   "version": "3.11.5"
  }
 },
 "nbformat": 4,
 "nbformat_minor": 5
}
