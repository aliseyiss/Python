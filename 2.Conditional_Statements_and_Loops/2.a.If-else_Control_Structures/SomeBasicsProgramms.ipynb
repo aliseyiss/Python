{
 "cells": [
  {
   "cell_type": "code",
   "execution_count": 8,
   "id": "eefc6e74",
   "metadata": {},
   "outputs": [
    {
     "name": "stdout",
     "output_type": "stream",
     "text": [
      "Giben Sie Ihren Lohn ein: 100\n",
      "Geben Sie Ihre Ausgaben ein: 200\n",
      "Du musst Geld ausleihen, um deine Rechnungen zu zahlen: circa 100 €\n"
     ]
    }
   ],
   "source": [
    "# Saving or debt\n",
    "my_salary = int(input(\"Giben Sie Ihren Lohn ein: \"))\n",
    "my_spendings = int(input(\"Geben Sie Ihre Ausgaben ein: \"))\n",
    "my_saving = my_salary - my_spendings\n",
    "if my_saving >0:\n",
    "    print(\"Du hast da geschafft und so viel geld gesparrt: \", my_saving)\n",
    "else:\n",
    "    print(\"Du musst Geld ausleihen, um deine Rechnungen zu zahlen: circa {} €\".format(abs(my_saving)))"
   ]
  },
  {
   "cell_type": "code",
   "execution_count": 15,
   "id": "11e5fbfe",
   "metadata": {},
   "outputs": [
    {
     "name": "stdout",
     "output_type": "stream",
     "text": [
      "Gib ein Nummer ein: 10\n",
      "10  +  1010  +  101010  =  102030\n"
     ]
    }
   ],
   "source": [
    "# Strange calculation\n",
    "num = int(input(\"Gib ein Nummer ein: \"))\n",
    "\n",
    "temp1 = str(num)\n",
    "temp2 = temp1 + temp1\n",
    "temp3 = temp1 + temp1 + temp1\n",
    "total= num + int(temp2) + int(temp3)\n",
    "\n",
    "print(temp1, ' + ', temp2, ' + ', temp3, ' = ',total )"
   ]
  },
  {
   "cell_type": "code",
   "execution_count": 17,
   "id": "ed1aa63d",
   "metadata": {},
   "outputs": [
    {
     "name": "stdout",
     "output_type": "stream",
     "text": [
      " Gib eine Nummer ein: 50\n",
      " Gib einen Teiler ein: 8\n",
      "\n",
      "Quotinent:  6\n",
      "\n",
      "Remainder:  2\n"
     ]
    }
   ],
   "source": [
    "#Quotinent and remainder\n",
    "num_1 = int(input(\" Gib eine Nummer ein: \"))\n",
    "num_2 = int(input(\" Gib einen Teiler ein: \"))\n",
    "\n",
    "quotinent = int(num_1 / num_2)\n",
    "remainder = int(num_1 % num_2)\n",
    "print(\"\\nQuotinent: \", quotinent)\n",
    "print(\"\\nRemainder: \", remainder)\n"
   ]
  },
  {
   "cell_type": "code",
   "execution_count": 18,
   "id": "356d2cfc",
   "metadata": {},
   "outputs": [
    {
     "name": "stdout",
     "output_type": "stream",
     "text": [
      "Enter the principle amount: 5000\n",
      "Enter the time(years): 5\n",
      "Enter the interest rate: 4.0\n",
      "The simple interest is:  1000.0\n"
     ]
    }
   ],
   "source": [
    "#simple interest\n",
    "principle = float(input(\"Enter the principle amount: \"))\n",
    "time = int(input(\"Enter the time(years): \"))\n",
    "rate = float(input(\"Enter the interest rate: \"))\n",
    "\n",
    "simp_int = (principle * time * rate) / 100\n",
    "print(\"The simple interest is: \", simp_int)\n"
   ]
  },
  {
   "cell_type": "code",
   "execution_count": 21,
   "id": "b0d972b7",
   "metadata": {},
   "outputs": [
    {
     "name": "stdout",
     "output_type": "stream",
     "text": [
      "List of cars after the swap  ['Volkswagen Polo', 'Honda Accord', 'Toyota Camry', 'Volkswagen Golf', 'Honda Civic']\n"
     ]
    }
   ],
   "source": [
    "#swapping positions\n",
    "cars_list = [\"Honda Civic\", \"Honda Accord\", \"Toyota Camry\", \"Volkswagen Golf\", \"Volkswagen Polo\"]\n",
    "\n",
    "temp_car = cars_list[0]\n",
    "cars_list[0] = cars_list[4]\n",
    "cars_list[4] = temp_car\n",
    "\n",
    "print(\"List of cars after the swap \", cars_list)"
   ]
  },
  {
   "cell_type": "code",
   "execution_count": 27,
   "id": "8037ccb8",
   "metadata": {},
   "outputs": [
    {
     "name": "stdout",
     "output_type": "stream",
     "text": [
      "\n",
      " ['Honda Civic', 'Honda Accord', 'Toyota Camry', 'Volkswagen Golf', 'Volkswagen Polo']\n",
      "\n",
      " ['Volkswagen Golf', 'Volkswagen Polo', 'Toyota Camry', 'Honda Accord', 'Honda Civic']\n"
     ]
    }
   ],
   "source": [
    "#multi-swap\n",
    "cars_list = [\"Honda Civic\", \"Honda Accord\", \"Toyota Camry\", \"Volkswagen Golf\", \"Volkswagen Polo\"]\n",
    "print('\\n', cars_list)\n",
    "cars_list[0], cars_list[1], cars_list[3], cars_list[4] = cars_list[3], cars_list[4], cars_list[1], cars_list[0]\n",
    "print('\\n', cars_list)"
   ]
  },
  {
   "cell_type": "code",
   "execution_count": 28,
   "id": "cd755efc",
   "metadata": {},
   "outputs": [
    {
     "name": "stdout",
     "output_type": "stream",
     "text": [
      "There is 2 dublicate in this list.\n"
     ]
    }
   ],
   "source": [
    "#dublicates in list?\n",
    "list_str = [\"Sofia\", \"Ella\", \"Samuel\", \"Ella\", \"Aiden\", \"Sofia\"]\n",
    "len_list_str = len(list_str)\n",
    "len_set_list_str = len(set(list_str))\n",
    "if len_list_str == len_set_list_str:\n",
    "    print(\"There is no dublicate in list.\")\n",
    "else : print(\"There is {} dublicate in this list.\".format(len_list_str - len_set_list_str))"
   ]
  },
  {
   "cell_type": "code",
   "execution_count": 29,
   "id": "1f99ef45",
   "metadata": {},
   "outputs": [
    {
     "name": "stdout",
     "output_type": "stream",
     "text": [
      "Geben Sie eine Nummer ein: 5\n",
      "5 ist ungerade Zahl\n"
     ]
    }
   ],
   "source": [
    "# odd or even number\n",
    "num = int(input(\"Geben Sie eine Nummer ein: \"))\n",
    "\n",
    "if (num % 2) == 0:\n",
    "    print(\"{} ist gerade Zahl\",format(num))\n",
    "else :\n",
    "    print(\"{} ist ungerade Zahl\".format(num))"
   ]
  },
  {
   "cell_type": "code",
   "execution_count": 39,
   "id": "67751347",
   "metadata": {},
   "outputs": [
    {
     "name": "stdout",
     "output_type": "stream",
     "text": [
      "Geben Sie einige durch comma getrennte Werte ein: 11, 12\n",
      "Values in a list:  ['11', ' 12']\n",
      "Values in a tuple:  ('11', ' 12')\n",
      "Unable to convert the entire list to an integer. Individual elements should be converted.\n"
     ]
    }
   ],
   "source": [
    "values = input(\"Geben Sie einige durch comma getrennte Werte ein: \")\n",
    "\n",
    "list_values = values.split(\",\")\n",
    "tuple_values = tuple(list_values)\n",
    "\n",
    "print(\"Values in a list: \", list_values)\n",
    "print(\"Values in a tuple: \", tuple_values)\n"
   ]
  },
  {
   "cell_type": "code",
   "execution_count": null,
   "id": "9c906f8b",
   "metadata": {},
   "outputs": [],
   "source": []
  }
 ],
 "metadata": {
  "kernelspec": {
   "display_name": "Python 3 (ipykernel)",
   "language": "python",
   "name": "python3"
  },
  "language_info": {
   "codemirror_mode": {
    "name": "ipython",
    "version": 3
   },
   "file_extension": ".py",
   "mimetype": "text/x-python",
   "name": "python",
   "nbconvert_exporter": "python",
   "pygments_lexer": "ipython3",
   "version": "3.11.5"
  }
 },
 "nbformat": 4,
 "nbformat_minor": 5
}
