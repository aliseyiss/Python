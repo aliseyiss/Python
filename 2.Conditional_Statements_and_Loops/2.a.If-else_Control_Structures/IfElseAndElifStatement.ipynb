{
 "cells": [
  {
   "cell_type": "code",
   "execution_count": 4,
   "id": "a15819d9",
   "metadata": {},
   "outputs": [
    {
     "name": "stdout",
     "output_type": "stream",
     "text": [
      "10 is less than 20\n",
      "else block activated\n"
     ]
    }
   ],
   "source": [
    "if 10 > 20:\n",
    "    print(\"10 is greater then 20\")\n",
    "    print(\"if block activated\")\n",
    "else:\n",
    "    print(\"10 is less than 20\")\n",
    "    print(\"else block activated\")"
   ]
  },
  {
   "cell_type": "code",
   "execution_count": 6,
   "id": "35593ae4",
   "metadata": {},
   "outputs": [
    {
     "name": "stdout",
     "output_type": "stream",
     "text": [
      "num before expression:  50\n",
      "num after expression:  30\n"
     ]
    }
   ],
   "source": [
    "num = 50\n",
    "print(\"num before expression: \", num)\n",
    "\n",
    "num = num - 20 if num > 20 else num + 20\n",
    "\n",
    "print(\"num after expression: \", num)"
   ]
  },
  {
   "cell_type": "code",
   "execution_count": 10,
   "id": "9677a3d8",
   "metadata": {},
   "outputs": [
    {
     "name": "stdout",
     "output_type": "stream",
     "text": [
      "num be4 expression:  50\n",
      "Num after expression:  30\n"
     ]
    }
   ],
   "source": [
    "num = 50\n",
    "print(\"num be4 expression: \", num)\n",
    "\n",
    "if num > 20:\n",
    "    num -=20\n",
    "else: num += 20\n",
    "\n",
    "print(\"Num after expression: \", num)"
   ]
  },
  {
   "cell_type": "code",
   "execution_count": 11,
   "id": "134678a6",
   "metadata": {},
   "outputs": [
    {
     "name": "stdout",
     "output_type": "stream",
     "text": [
      "Number be4 expression:  100\n",
      "Number after expression:  500\n"
     ]
    }
   ],
   "source": [
    "num = 100\n",
    "print(\"Number be4 expression: \", num)\n",
    "result = num / 5 if num < 50 else num * 5\n",
    "print(\"Number after expression: \", result)"
   ]
  },
  {
   "cell_type": "code",
   "execution_count": 12,
   "id": "69fdf2a2",
   "metadata": {},
   "outputs": [
    {
     "data": {
      "text/plain": [
       "100"
      ]
     },
     "execution_count": 12,
     "metadata": {},
     "output_type": "execute_result"
    }
   ],
   "source": [
    "num"
   ]
  },
  {
   "cell_type": "code",
   "execution_count": 13,
   "id": "04a8476b",
   "metadata": {},
   "outputs": [],
   "source": [
    "bike_price = 20000"
   ]
  },
  {
   "cell_type": "code",
   "execution_count": 20,
   "id": "2cae9110",
   "metadata": {},
   "outputs": [
    {
     "name": "stdout",
     "output_type": "stream",
     "text": [
      "It's an expensive bike\n"
     ]
    }
   ],
   "source": [
    "if bike_price < 6000:\n",
    "    print(\"It's a cheap bike\")\n",
    "    \n",
    "elif bike_price >= 6000 and bike_price < 10000:\n",
    "    print(\"It's a moderate priced bike\")\n",
    "    \n",
    "elif bike_price >= 10000 and bike_price  < 15000:\n",
    "    print(\"It's a somewhat expensive bike\")\n",
    "    \n",
    "else: print(\"It's an expensive bike\")\n"
   ]
  },
  {
   "cell_type": "code",
   "execution_count": 23,
   "id": "22106bd1",
   "metadata": {},
   "outputs": [],
   "source": [
    "x = 25\n",
    "y = 35\n",
    "z = 45"
   ]
  },
  {
   "cell_type": "code",
   "execution_count": 25,
   "id": "c30d31ea",
   "metadata": {},
   "outputs": [
    {
     "name": "stdout",
     "output_type": "stream",
     "text": [
      "The first condition is true\n",
      "Both conditions are true\n"
     ]
    }
   ],
   "source": [
    "if x < y:\n",
    "    print(\"The first condition is true\")\n",
    "    \n",
    "    if x<z:\n",
    "        print(\"Both conditions are true\")\n",
    "        \n",
    "    else: print(\"The first condition in true, the second one is false\")"
   ]
  },
  {
   "cell_type": "code",
   "execution_count": 26,
   "id": "44d02e90",
   "metadata": {},
   "outputs": [
    {
     "name": "stdout",
     "output_type": "stream",
     "text": [
      "The first condition is false\n"
     ]
    }
   ],
   "source": [
    "x = 55\n",
    "\n",
    "if x < y:\n",
    "    print(\"The first condition is true\")\n",
    "    \n",
    "    if x < z:\n",
    "        print(\"Both condition are true\")\n",
    "    \n",
    "    else: \n",
    "        print(\"the first contion is true, the second one is false\")\n",
    "\n",
    "else:\n",
    "    print(\"The first condition is false\")"
   ]
  },
  {
   "cell_type": "code",
   "execution_count": 28,
   "id": "35721d03",
   "metadata": {},
   "outputs": [
    {
     "name": "stdout",
     "output_type": "stream",
     "text": [
      "Enter your age: 19\n",
      "You are right age for this camping trip\n"
     ]
    }
   ],
   "source": [
    "age = int(input(\"Enter your age: \"))\n",
    "\n",
    "if age >= 15 :\n",
    "    \n",
    "    if age > 20 :\n",
    "        print(\"You are too old for thos camping trip!\")\n",
    "    \n",
    "    else:\n",
    "        print(\"You are of the right age for this camping trip\")\n",
    "\n",
    "else :\n",
    "    print(\"You are too young for this trip!\")"
   ]
  },
  {
   "cell_type": "code",
   "execution_count": null,
   "id": "7813bcf6",
   "metadata": {},
   "outputs": [],
   "source": [
    "total = int(input(\"what is the total amount of your online shopping? \"))\n",
    "country = input(\"USA or Canada\")\n",
    "\n",
    "if country == \"USA\":\n",
    "    if total <= 50;\n",
    "        print(\"Shipping costs $9.00\")\n",
    "    elif total>50 and total<=100:\n",
    "        print(\"Shipping costs $6.00\")\n",
    "    else :\n",
    "        print(\"Shipping is free\")\n",
    "\n",
    "if country == \"Canada\":\n",
    "    \n",
    "    if total <= 50:\n",
    "        print(\"Shipping costs $12.00\")\n",
    "    elif total >50 and total <= 100:\n",
    "        print(\"Shipping costs $8.00\")\n",
    "    else :\n",
    "        print()\n",
    "        "
   ]
  },
  {
   "cell_type": "code",
   "execution_count": null,
   "id": "0d020517",
   "metadata": {},
   "outputs": [],
   "source": []
  },
  {
   "cell_type": "code",
   "execution_count": null,
   "id": "57134a61",
   "metadata": {},
   "outputs": [],
   "source": []
  },
  {
   "cell_type": "code",
   "execution_count": null,
   "id": "a2b4124c",
   "metadata": {},
   "outputs": [],
   "source": []
  },
  {
   "cell_type": "code",
   "execution_count": null,
   "id": "743e1455",
   "metadata": {},
   "outputs": [],
   "source": []
  },
  {
   "cell_type": "code",
   "execution_count": null,
   "id": "45692761",
   "metadata": {},
   "outputs": [],
   "source": []
  },
  {
   "cell_type": "code",
   "execution_count": null,
   "id": "fdc04728",
   "metadata": {},
   "outputs": [],
   "source": []
  },
  {
   "cell_type": "code",
   "execution_count": null,
   "id": "047ab7d5",
   "metadata": {},
   "outputs": [],
   "source": []
  },
  {
   "cell_type": "code",
   "execution_count": null,
   "id": "d98f4042",
   "metadata": {},
   "outputs": [],
   "source": []
  },
  {
   "cell_type": "code",
   "execution_count": null,
   "id": "d3311748",
   "metadata": {},
   "outputs": [],
   "source": []
  }
 ],
 "metadata": {
  "kernelspec": {
   "display_name": "Python 3 (ipykernel)",
   "language": "python",
   "name": "python3"
  },
  "language_info": {
   "codemirror_mode": {
    "name": "ipython",
    "version": 3
   },
   "file_extension": ".py",
   "mimetype": "text/x-python",
   "name": "python",
   "nbconvert_exporter": "python",
   "pygments_lexer": "ipython3",
   "version": "3.11.5"
  }
 },
 "nbformat": 4,
 "nbformat_minor": 5
}
