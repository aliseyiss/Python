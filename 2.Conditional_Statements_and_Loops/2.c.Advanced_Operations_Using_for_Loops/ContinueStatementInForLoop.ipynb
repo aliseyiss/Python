{
 "cells": [
  {
   "cell_type": "code",
   "execution_count": 2,
   "id": "19df8d3c",
   "metadata": {},
   "outputs": [
    {
     "name": "stdout",
     "output_type": "stream",
     "text": [
      "s\n",
      "t\n",
      "r\n",
      "n\n",
      "g\n",
      "The end\n"
     ]
    }
   ],
   "source": [
    "for letter in \"string\":\n",
    "    \n",
    "    if letter == \"i\":\n",
    "        continue\n",
    "        \n",
    "    print(letter)\n",
    "    \n",
    "print(\"The end\")"
   ]
  },
  {
   "cell_type": "code",
   "execution_count": 3,
   "id": "a37750ce",
   "metadata": {},
   "outputs": [
    {
     "name": "stdout",
     "output_type": "stream",
     "text": [
      "S\n",
      "t\n",
      "u\n",
      "d\n",
      "n\n",
      "t\n",
      "Das Ende\n"
     ]
    }
   ],
   "source": [
    "my_string = \"Students\"\n",
    "\n",
    "for letter in my_string:\n",
    "    \n",
    "    if letter == 'e' or letter == 's':\n",
    "        \n",
    "        continue\n",
    "    \n",
    "    else:\n",
    "        print(letter)\n",
    "print(\"Das Ende\")"
   ]
  },
  {
   "cell_type": "code",
   "execution_count": 4,
   "id": "0434d588",
   "metadata": {},
   "outputs": [
    {
     "name": "stdout",
     "output_type": "stream",
     "text": [
      "Ist die Nummer 2 eine gerade Zahl?\n",
      "Yes\n",
      "Ist die Nummer 4 eine gerade Zahl?\n",
      "Yes\n",
      "Ist die Nummer 6 eine gerade Zahl?\n",
      "Yes\n",
      "Ist die Nummer 8 eine gerade Zahl?\n",
      "Yes\n"
     ]
    }
   ],
   "source": [
    "for num in range(1,10):\n",
    "    \n",
    "    if num % 2 == 0:\n",
    "        print(\"Ist die Nummer %d eine gerade Zahl?\" % num)\n",
    "    else:\n",
    "        continue\n",
    "    \n",
    "    print(\"Yes\")"
   ]
  },
  {
   "cell_type": "code",
   "execution_count": 5,
   "id": "f3953044",
   "metadata": {},
   "outputs": [
    {
     "name": "stdout",
     "output_type": "stream",
     "text": [
      "Vor dem Shritt 'Fortsetzen' :  1\n",
      "Nachdem Schritte 'Fortsetzen' :  1\n",
      "Vor dem Shritt 'Fortsetzen' :  2\n",
      "Nachdem Schritte 'Fortsetzen' :  2\n",
      "Vor dem Shritt 'Fortsetzen' :  3\n",
      "Vor dem Shritt 'Fortsetzen' :  4\n",
      "Nachdem Schritte 'Fortsetzen' :  4\n",
      "Vor dem Shritt 'Fortsetzen' :  5\n",
      "Nachdem Schritte 'Fortsetzen' :  5\n",
      "Vor dem Shritt 'Fortsetzen' :  6\n",
      "Vor dem Shritt 'Fortsetzen' :  7\n",
      "Nachdem Schritte 'Fortsetzen' :  7\n",
      "Vor dem Shritt 'Fortsetzen' :  8\n",
      "Nachdem Schritte 'Fortsetzen' :  8\n",
      "Vor dem Shritt 'Fortsetzen' :  9\n",
      "Vor dem Shritt 'Fortsetzen' :  10\n",
      "Nachdem Schritte 'Fortsetzen' :  10\n",
      "Vor dem Shritt 'Fortsetzen' :  11\n",
      "Nachdem Schritte 'Fortsetzen' :  11\n"
     ]
    }
   ],
   "source": [
    "for i in range (1, 12):\n",
    "    print(\"Vor dem Shritt 'Fortsetzen' : \", i)\n",
    "    \n",
    "    if i % 3 == 0:\n",
    "        continue\n",
    "    \n",
    "    print(\"Nachdem Schritte 'Fortsetzen' : \", i)"
   ]
  },
  {
   "cell_type": "code",
   "execution_count": 7,
   "id": "2d5e3403",
   "metadata": {},
   "outputs": [
    {
     "name": "stdout",
     "output_type": "stream",
     "text": [
      "Jan Monat hat  31  Tages.\n",
      "März Monat hat  31  Tages.\n",
      "Apr Monat hat  30  Tages.\n",
      "Mai Monat hat  31  Tages.\n",
      "Jun Monat hat  30  Tages.\n",
      "Jul Monat hat  31  Tages.\n",
      "Aug Monat hat  31  Tages.\n",
      "Sep Monat hat  30  Tages.\n",
      "Okt Monat hat  31  Tages.\n",
      "Nov Monat hat  30  Tages.\n",
      "Dec Monat hat  31  Tages.\n"
     ]
    }
   ],
   "source": [
    "tag_nummer = [31, 28, 31, 30, 31, 30, 31, 31, 30, 31, 30, 31]\n",
    "monat = ['Jan', 'Feb', 'März', 'Apr', 'Mai', 'Jun', 'Jul', 'Aug', 'Sep', 'Okt', 'Nov', 'Dec']\n",
    "dict_monat = dict()\n",
    "\n",
    "for i, j in zip(monat, tag_nummer):\n",
    "    dict_monat.update({i:j})\n",
    "    \n",
    "    if dict_monat[i] < 29:\n",
    "        continue\n",
    "    \n",
    "    else:\n",
    "        print(i, \"Monat hat \", dict_monat[i], \" Tages.\")\n",
    "    "
   ]
  },
  {
   "cell_type": "code",
   "execution_count": null,
   "id": "feba23f9",
   "metadata": {},
   "outputs": [],
   "source": []
  },
  {
   "cell_type": "code",
   "execution_count": null,
   "id": "fb2319a0",
   "metadata": {},
   "outputs": [],
   "source": []
  },
  {
   "cell_type": "code",
   "execution_count": null,
   "id": "7df96573",
   "metadata": {},
   "outputs": [],
   "source": []
  },
  {
   "cell_type": "code",
   "execution_count": null,
   "id": "ccea0c5b",
   "metadata": {},
   "outputs": [],
   "source": []
  },
  {
   "cell_type": "code",
   "execution_count": null,
   "id": "c47dd9b9",
   "metadata": {},
   "outputs": [],
   "source": []
  },
  {
   "cell_type": "code",
   "execution_count": null,
   "id": "adc09321",
   "metadata": {},
   "outputs": [],
   "source": []
  },
  {
   "cell_type": "code",
   "execution_count": null,
   "id": "b68d62b9",
   "metadata": {},
   "outputs": [],
   "source": []
  },
  {
   "cell_type": "code",
   "execution_count": null,
   "id": "1a987ab7",
   "metadata": {},
   "outputs": [],
   "source": []
  },
  {
   "cell_type": "code",
   "execution_count": null,
   "id": "225fbdcb",
   "metadata": {},
   "outputs": [],
   "source": []
  },
  {
   "cell_type": "code",
   "execution_count": null,
   "id": "90bbe8bd",
   "metadata": {},
   "outputs": [],
   "source": []
  },
  {
   "cell_type": "code",
   "execution_count": null,
   "id": "2bf5bca4",
   "metadata": {},
   "outputs": [],
   "source": []
  }
 ],
 "metadata": {
  "kernelspec": {
   "display_name": "Python 3 (ipykernel)",
   "language": "python",
   "name": "python3"
  },
  "language_info": {
   "codemirror_mode": {
    "name": "ipython",
    "version": 3
   },
   "file_extension": ".py",
   "mimetype": "text/x-python",
   "name": "python",
   "nbconvert_exporter": "python",
   "pygments_lexer": "ipython3",
   "version": "3.11.5"
  }
 },
 "nbformat": 4,
 "nbformat_minor": 5
}
