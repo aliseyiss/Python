{
 "cells": [
  {
   "cell_type": "code",
   "execution_count": 1,
   "id": "4901f6ae",
   "metadata": {},
   "outputs": [],
   "source": [
    "num =range(10)"
   ]
  },
  {
   "cell_type": "code",
   "execution_count": 2,
   "id": "2fee8555",
   "metadata": {},
   "outputs": [
    {
     "data": {
      "text/plain": [
       "[0, 1, 4, 9, 16, 25, 36, 49, 64, 81]"
      ]
     },
     "execution_count": 2,
     "metadata": {},
     "output_type": "execute_result"
    }
   ],
   "source": [
    "[x*x for x in num]"
   ]
  },
  {
   "cell_type": "code",
   "execution_count": 4,
   "id": "3c79c746",
   "metadata": {},
   "outputs": [
    {
     "name": "stdout",
     "output_type": "stream",
     "text": [
      "['a', 'n', 'x', 'i', 'e', 't', 'y']\n"
     ]
    }
   ],
   "source": [
    "letters = [letter for letter in \"anxiety\"]\n",
    "print(letters)"
   ]
  },
  {
   "cell_type": "code",
   "execution_count": 7,
   "id": "d87dfab4",
   "metadata": {},
   "outputs": [
    {
     "name": "stdout",
     "output_type": "stream",
     "text": [
      "['d', 'i', 'e', 'Ü']\n"
     ]
    }
   ],
   "source": [
    "list_of_words = ['das', 'ist', 'eine', 'Übung']\n",
    "items = [word[0] for word in list_of_words]\n",
    "print(items)"
   ]
  },
  {
   "cell_type": "code",
   "execution_count": 9,
   "id": "5878159b",
   "metadata": {},
   "outputs": [
    {
     "data": {
      "text/plain": [
       "['D', 'I', 'E', 'Ü']"
      ]
     },
     "execution_count": 9,
     "metadata": {},
     "output_type": "execute_result"
    }
   ],
   "source": [
    "[word[0].upper() for word in list_of_words ]"
   ]
  },
  {
   "cell_type": "code",
   "execution_count": 11,
   "id": "28a6f87a",
   "metadata": {},
   "outputs": [
    {
     "data": {
      "text/plain": [
       "['DAS', 'IST', 'EINE', 'ÜBUNG']"
      ]
     },
     "execution_count": 11,
     "metadata": {},
     "output_type": "execute_result"
    }
   ],
   "source": [
    "[word.upper() for word in list_of_words ]"
   ]
  },
  {
   "cell_type": "code",
   "execution_count": 12,
   "id": "b757de14",
   "metadata": {},
   "outputs": [
    {
     "data": {
      "text/plain": [
       "[1, 9, 25, 49, 81]"
      ]
     },
     "execution_count": 12,
     "metadata": {},
     "output_type": "execute_result"
    }
   ],
   "source": [
    "[x * x for x in num if x %2 != 0]"
   ]
  },
  {
   "cell_type": "code",
   "execution_count": 13,
   "id": "2ae94599",
   "metadata": {},
   "outputs": [
    {
     "name": "stdout",
     "output_type": "stream",
     "text": [
      "[2, 4, 6, 8, 10, 12, 14, 16, 18]\n"
     ]
    }
   ],
   "source": [
    "list_of_number = [num for num in range(1,20) if num % 2 == 0 ]\n",
    "print(list_of_number)"
   ]
  },
  {
   "cell_type": "code",
   "execution_count": 18,
   "id": "750a75c3",
   "metadata": {},
   "outputs": [
    {
     "name": "stdout",
     "output_type": "stream",
     "text": [
      "[1, 2, 3, 4, 5]\n"
     ]
    }
   ],
   "source": [
    "Zeihenfolge = \" Hallo 123r45, wie\"\n",
    "NumListe= [int(x) for x in Zeihenfolge if x.isdigit()]\n",
    "print(NumListe)"
   ]
  },
  {
   "cell_type": "code",
   "execution_count": 21,
   "id": "d690657b",
   "metadata": {},
   "outputs": [
    {
     "name": "stdout",
     "output_type": "stream",
     "text": [
      "['H', 'a', 'l', 'l', 'o', 'M', 'a', 'n', 'n']\n"
     ]
    }
   ],
   "source": [
    "Zeihenfolge = \"Hallo Mann\"\n",
    "Alphaliste = [x for x in Zeihenfolge if x.isalpha()]\n",
    "print(Alphaliste)"
   ]
  },
  {
   "cell_type": "code",
   "execution_count": 22,
   "id": "12b0c5e8",
   "metadata": {},
   "outputs": [
    {
     "data": {
      "text/plain": [
       "[('Pen', 'red'),\n",
       " ('Pen', 'black'),\n",
       " ('Pen', 'orange'),\n",
       " ('Marker', 'red'),\n",
       " ('Marker', 'black'),\n",
       " ('Marker', 'orange'),\n",
       " ('Ink', 'red'),\n",
       " ('Ink', 'black'),\n",
       " ('Ink', 'orange')]"
      ]
     },
     "execution_count": 22,
     "metadata": {},
     "output_type": "execute_result"
    }
   ],
   "source": [
    "stationary = ['Pen', 'Marker', 'Ink']\n",
    "color =['red', 'black', 'orange']\n",
    "\n",
    "combined = [(i,j) for i in stationary for j in color]\n",
    "combined"
   ]
  },
  {
   "cell_type": "code",
   "execution_count": 24,
   "id": "58a34610",
   "metadata": {},
   "outputs": [
    {
     "data": {
      "text/plain": [
       "['Even', 'Odd', 'Even', 'Odd', 'Even', 'Odd', 'Even', 'Odd', 'Even', 'Odd']"
      ]
     },
     "execution_count": 24,
     "metadata": {},
     "output_type": "execute_result"
    }
   ],
   "source": [
    "num = [\"Even\" if i % 2 == 0 else \"Odd\" for i in range(10)]\n",
    "num"
   ]
  },
  {
   "cell_type": "code",
   "execution_count": 26,
   "id": "d4fad0f4",
   "metadata": {},
   "outputs": [
    {
     "name": "stdout",
     "output_type": "stream",
     "text": [
      "['Gerade', 'Ungerade', 'Gerade', 'Ungerade', 'Gerade', 'Ungerade', 'Gerade', 'Ungerade', 'Gerade', 'Ungerade']\n"
     ]
    }
   ],
   "source": [
    "num = [\"Gerade\" if i % 2 == 0 else \"Ungerade\" for i in range(10) ]\n",
    "print(num)"
   ]
  },
  {
   "cell_type": "code",
   "execution_count": 27,
   "id": "716bc009",
   "metadata": {},
   "outputs": [
    {
     "data": {
      "text/plain": [
       "[27, 38, 49, 46, 56, 67]"
      ]
     },
     "execution_count": 27,
     "metadata": {},
     "output_type": "execute_result"
    }
   ],
   "source": [
    "numbers = [22, 33, 44, 45, 55, 66]\n",
    "my_list =[num + 5 if num < 45 else num +1 for num in numbers]\n",
    "my_list"
   ]
  },
  {
   "cell_type": "code",
   "execution_count": 28,
   "id": "52f67101",
   "metadata": {},
   "outputs": [
    {
     "name": "stdout",
     "output_type": "stream",
     "text": [
      "[' big']\n"
     ]
    }
   ],
   "source": [
    "z = [\"small\" if num < 40 else \" big\" for num in numbers if num % 2 == 0 if num % 3 ==0]\n",
    "print(z)"
   ]
  },
  {
   "cell_type": "code",
   "execution_count": null,
   "id": "54d59440",
   "metadata": {},
   "outputs": [],
   "source": []
  }
 ],
 "metadata": {
  "kernelspec": {
   "display_name": "Python 3 (ipykernel)",
   "language": "python",
   "name": "python3"
  },
  "language_info": {
   "codemirror_mode": {
    "name": "ipython",
    "version": 3
   },
   "file_extension": ".py",
   "mimetype": "text/x-python",
   "name": "python",
   "nbconvert_exporter": "python",
   "pygments_lexer": "ipython3",
   "version": "3.11.5"
  }
 },
 "nbformat": 4,
 "nbformat_minor": 5
}
