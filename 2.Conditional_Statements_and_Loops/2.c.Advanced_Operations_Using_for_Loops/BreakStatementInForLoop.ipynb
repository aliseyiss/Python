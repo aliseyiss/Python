{
 "cells": [
  {
   "cell_type": "code",
   "execution_count": 1,
   "id": "e700075b",
   "metadata": {},
   "outputs": [
    {
     "name": "stdout",
     "output_type": "stream",
     "text": [
      "p\n",
      "y\n",
      "t\n",
      "h\n"
     ]
    }
   ],
   "source": [
    "for letter in \"pythom\":\n",
    "    if letter == \"o\":\n",
    "        \n",
    "        break\n",
    "    print(letter)"
   ]
  },
  {
   "cell_type": "code",
   "execution_count": 2,
   "id": "9c63789e",
   "metadata": {},
   "outputs": [
    {
     "name": "stdout",
     "output_type": "stream",
     "text": [
      "p\n",
      "y\n",
      "t\n",
      "h\n",
      "o\n"
     ]
    }
   ],
   "source": [
    "for letter in \"pythom\":\n",
    "    print(letter)\n",
    "    \n",
    "    if letter == \"o\":\n",
    "        \n",
    "        break\n",
    "    "
   ]
  },
  {
   "cell_type": "code",
   "execution_count": 3,
   "id": "cc91a990",
   "metadata": {},
   "outputs": [
    {
     "name": "stdout",
     "output_type": "stream",
     "text": [
      "Die Buschtabe c ist im String gefunden\n"
     ]
    }
   ],
   "source": [
    "for char in 'icecream':\n",
    "    if char == 'c':\n",
    "        \n",
    "        print('Die Buschtabe %s ist im String gefunden'%char)\n",
    "        break\n",
    "else:\n",
    "    print('Die Buschtabe %s befindet sich nicht im String'%char)"
   ]
  },
  {
   "cell_type": "code",
   "execution_count": 5,
   "id": "65895014",
   "metadata": {},
   "outputs": [
    {
     "name": "stdout",
     "output_type": "stream",
     "text": [
      "3\n",
      "11\n",
      "22\n",
      "Die Nummer 22 ist gerade gefunden worden\n",
      "Beenden die Schleife...\n"
     ]
    }
   ],
   "source": [
    "for num in [3, 11, 22, 35, 90]:\n",
    "    print(num)\n",
    "    \n",
    "    if (num == 22):\n",
    "        print(\"Die Nummer %d ist gerade gefunden worden\" % num)\n",
    "        print(\"Beenden die Schleife...\")\n",
    "        \n",
    "        break"
   ]
  },
  {
   "cell_type": "code",
   "execution_count": 7,
   "id": "dbad40c6",
   "metadata": {},
   "outputs": [
    {
     "name": "stdout",
     "output_type": "stream",
     "text": [
      "0\n",
      "1\n",
      "2\n",
      "3\n"
     ]
    }
   ],
   "source": [
    "for i in range (5):\n",
    "    \n",
    "    if i==4:\n",
    "        break\n",
    "        \n",
    "    print(i)"
   ]
  },
  {
   "cell_type": "code",
   "execution_count": 10,
   "id": "9620230f",
   "metadata": {},
   "outputs": [
    {
     "name": "stdout",
     "output_type": "stream",
     "text": [
      "0 is less than 5\n",
      "1 is less than 5\n",
      "2 is less than 5\n",
      "3 is less than 5\n",
      "4 is less than 5\n"
     ]
    }
   ],
   "source": [
    "for i in range (9):\n",
    "    if i < 5:\n",
    "        print(i, \"is less than 5\")"
   ]
  },
  {
   "cell_type": "code",
   "execution_count": 17,
   "id": "904386ca",
   "metadata": {},
   "outputs": [
    {
     "name": "stdout",
     "output_type": "stream",
     "text": [
      "0 is less than 5\n",
      "1 is less than 5\n",
      "2 is less than 5\n",
      "3 is less than 5\n",
      "4 is less than 5\n",
      "5 is less than 5\n"
     ]
    }
   ],
   "source": [
    "for i in range (9):\n",
    "    print(i, \"is less than 5\")\n",
    "\n",
    "    if i == 5:\n",
    "        break"
   ]
  },
  {
   "cell_type": "code",
   "execution_count": 20,
   "id": "806ca563",
   "metadata": {},
   "outputs": [
    {
     "name": "stdout",
     "output_type": "stream",
     "text": [
      "0 square 0\n",
      "1 square 1\n",
      "2 square 4\n",
      "3 square 9\n",
      "4 square 16\n"
     ]
    }
   ],
   "source": [
    "my_list=range(10)\n",
    "\n",
    "for num in my_list:\n",
    "    if num**2 > 20:\n",
    "        \n",
    "        break\n",
    "    print(num, \"square\", num**2)"
   ]
  },
  {
   "cell_type": "code",
   "execution_count": 30,
   "id": "b2c78b59",
   "metadata": {},
   "outputs": [
    {
     "name": "stdout",
     "output_type": "stream",
     "text": [
      "Enter a number: 7\n",
      "7 is a prime number\n"
     ]
    }
   ],
   "source": [
    "num = int(input(\"Enter a number: \"))\n",
    "\n",
    "for i in range (2, num):\n",
    "    if num % 2 == 0:\n",
    "      \n",
    "        print(\"It is not a prime number\")\n",
    "        break\n",
    "    \n",
    "else:\n",
    "    print( num, \"is a prime number\")"
   ]
  },
  {
   "cell_type": "code",
   "execution_count": 26,
   "id": "3594d1aa",
   "metadata": {},
   "outputs": [
    {
     "name": "stdout",
     "output_type": "stream",
     "text": [
      "Enter a number: 7\n",
      "2\n",
      "3\n",
      "4\n",
      "5\n",
      "6\n"
     ]
    }
   ],
   "source": [
    "num = int(input(\"Enter a number: \"))\n",
    "\n",
    "for i in range (2, num):\n",
    "    print(i)"
   ]
  },
  {
   "cell_type": "code",
   "execution_count": null,
   "id": "9aabb8d2",
   "metadata": {},
   "outputs": [],
   "source": [
    "for a in range(3):\n",
    "    password = input(\"Geben Sie Ihr Password ein: \")\n",
    "    \n",
    "    if password == \"geheim\":\n",
    "        print(\"Sie haben erfolgreich Ihr Password erraten\")\n",
    "        break\n",
    "    \n",
    "else:\n",
    "    print(\"Sie haben 3 mal Ihr Password falch eingetippt, deswegen ist ihr Konto gesperrt worden\")"
   ]
  },
  {
   "cell_type": "code",
   "execution_count": null,
   "id": "5744e78e",
   "metadata": {},
   "outputs": [],
   "source": [
    "for _ in range(3):\n",
    "    password = input(\"Geben Sie Ihr Passwort ein: \")\n",
    "    \n",
    "    if password == \"geheim\":\n",
    "        print(\"Sie haben Ihr Passwort erfolgreich erraten.\")\n",
    "        break\n",
    "    \n",
    "else:\n",
    "    print(\"Sie haben Ihr Passwort dreimal falsch eingegeben. Ihr Konto wurde gesperrt.\")\n"
   ]
  },
  {
   "cell_type": "code",
   "execution_count": null,
   "id": "826b8a1d",
   "metadata": {},
   "outputs": [],
   "source": []
  },
  {
   "cell_type": "code",
   "execution_count": null,
   "id": "df5a8b7f",
   "metadata": {},
   "outputs": [],
   "source": []
  },
  {
   "cell_type": "code",
   "execution_count": null,
   "id": "338076e9",
   "metadata": {},
   "outputs": [],
   "source": []
  },
  {
   "cell_type": "code",
   "execution_count": null,
   "id": "6acad189",
   "metadata": {},
   "outputs": [],
   "source": []
  },
  {
   "cell_type": "code",
   "execution_count": null,
   "id": "a06fabb5",
   "metadata": {},
   "outputs": [],
   "source": []
  },
  {
   "cell_type": "code",
   "execution_count": null,
   "id": "1536f206",
   "metadata": {},
   "outputs": [],
   "source": []
  }
 ],
 "metadata": {
  "kernelspec": {
   "display_name": "Python 3 (ipykernel)",
   "language": "python",
   "name": "python3"
  },
  "language_info": {
   "codemirror_mode": {
    "name": "ipython",
    "version": 3
   },
   "file_extension": ".py",
   "mimetype": "text/x-python",
   "name": "python",
   "nbconvert_exporter": "python",
   "pygments_lexer": "ipython3",
   "version": "3.11.5"
  }
 },
 "nbformat": 4,
 "nbformat_minor": 5
}
