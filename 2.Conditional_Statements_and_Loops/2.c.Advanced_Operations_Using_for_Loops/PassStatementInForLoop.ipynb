{
 "cells": [
  {
   "cell_type": "code",
   "execution_count": 5,
   "id": "ce468647",
   "metadata": {},
   "outputs": [
    {
     "name": "stdout",
     "output_type": "stream",
     "text": [
      "input a string: ku77\n",
      "Digits =  2\n",
      "Letters=  2\n"
     ]
    }
   ],
   "source": [
    "my_string = input(\"input a string: \")\n",
    "\n",
    "digits = 0\n",
    "letters = 0\n",
    "\n",
    "for i in my_string:\n",
    "    if i.isdigit():\n",
    "        digits = digits + 1\n",
    "        \n",
    "    elif i.isalpha():\n",
    "        letters = letters + 1\n",
    "    \n",
    "    else:\n",
    "        pass\n",
    "\n",
    "print(\"Digits = \", digits)\n",
    "print(\"Letters= \", letters)"
   ]
  },
  {
   "cell_type": "code",
   "execution_count": null,
   "id": "fda2ce6f",
   "metadata": {},
   "outputs": [],
   "source": []
  }
 ],
 "metadata": {
  "kernelspec": {
   "display_name": "Python 3 (ipykernel)",
   "language": "python",
   "name": "python3"
  },
  "language_info": {
   "codemirror_mode": {
    "name": "ipython",
    "version": 3
   },
   "file_extension": ".py",
   "mimetype": "text/x-python",
   "name": "python",
   "nbconvert_exporter": "python",
   "pygments_lexer": "ipython3",
   "version": "3.11.5"
  }
 },
 "nbformat": 4,
 "nbformat_minor": 5
}
