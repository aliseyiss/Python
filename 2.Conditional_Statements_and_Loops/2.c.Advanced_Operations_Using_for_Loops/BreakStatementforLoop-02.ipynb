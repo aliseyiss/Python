{
 "cells": [
  {
   "cell_type": "code",
   "execution_count": 1,
   "id": "de1dce3c",
   "metadata": {},
   "outputs": [
    {
     "name": "stdout",
     "output_type": "stream",
     "text": [
      "Geben Sie Ihr Passwort ein: secret\n",
      "Geben Sie Ihr Passwort ein: keineAhnung\n",
      "Geben Sie Ihr Passwort ein: geheim\n",
      "Sie haben Ihr Passwort erfolgreich erraten.\n"
     ]
    }
   ],
   "source": [
    "for _ in range(3):\n",
    "    password = input(\"Geben Sie Ihr Passwort ein: \")\n",
    "    \n",
    "    if password == \"geheim\":\n",
    "        print(\"Sie haben Ihr Passwort erfolgreich erraten.\")\n",
    "        break\n",
    "    \n",
    "else:\n",
    "    print(\"Sie haben Ihr Passwort dreimal falsch eingegeben. Ihr Konto wurde gesperrt.\")\n",
    "\n"
   ]
  },
  {
   "cell_type": "code",
   "execution_count": null,
   "id": "13754ea7",
   "metadata": {},
   "outputs": [],
   "source": []
  }
 ],
 "metadata": {
  "kernelspec": {
   "display_name": "Python 3 (ipykernel)",
   "language": "python",
   "name": "python3"
  },
  "language_info": {
   "codemirror_mode": {
    "name": "ipython",
    "version": 3
   },
   "file_extension": ".py",
   "mimetype": "text/x-python",
   "name": "python",
   "nbconvert_exporter": "python",
   "pygments_lexer": "ipython3",
   "version": "3.11.5"
  }
 },
 "nbformat": 4,
 "nbformat_minor": 5
}
