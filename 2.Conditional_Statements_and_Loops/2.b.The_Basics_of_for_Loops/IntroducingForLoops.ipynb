{
 "cells": [
  {
   "cell_type": "code",
   "execution_count": 1,
   "id": "77598625",
   "metadata": {},
   "outputs": [
    {
     "name": "stdout",
     "output_type": "stream",
     "text": [
      "H\n",
      "e\n",
      "l\n",
      "l\n",
      "o\n"
     ]
    }
   ],
   "source": [
    "my_string = ['H', 'e', 'l', 'l', 'o']\n",
    "for letter in ['H', 'e', 'l', 'l', 'o'] :\n",
    "    print(letter)"
   ]
  },
  {
   "cell_type": "code",
   "execution_count": 3,
   "id": "24544af2",
   "metadata": {},
   "outputs": [
    {
     "name": "stdout",
     "output_type": "stream",
     "text": [
      "H\n",
      "e\n",
      "l\n",
      "l\n",
      "o\n"
     ]
    }
   ],
   "source": [
    "for letter in \"Hello\":\n",
    "    print(letter)"
   ]
  },
  {
   "cell_type": "code",
   "execution_count": 4,
   "id": "0819815e",
   "metadata": {},
   "outputs": [
    {
     "name": "stdout",
     "output_type": "stream",
     "text": [
      "H\n",
      "e\n",
      "l\n",
      "l\n",
      "o\n"
     ]
    }
   ],
   "source": [
    "my_string = \"Hello\"\n",
    "for char in my_string:\n",
    "    print(char)"
   ]
  },
  {
   "cell_type": "code",
   "execution_count": 5,
   "id": "ef81cad5",
   "metadata": {},
   "outputs": [
    {
     "name": "stdout",
     "output_type": "stream",
     "text": [
      "1\n",
      "0\n"
     ]
    }
   ],
   "source": [
    "for digit in \"10\":\n",
    "    print(digit)"
   ]
  },
  {
   "cell_type": "code",
   "execution_count": 6,
   "id": "e6f43499",
   "metadata": {},
   "outputs": [
    {
     "ename": "TypeError",
     "evalue": "'int' object is not iterable",
     "output_type": "error",
     "traceback": [
      "\u001b[1;31m---------------------------------------------------------------------------\u001b[0m",
      "\u001b[1;31mTypeError\u001b[0m                                 Traceback (most recent call last)",
      "Cell \u001b[1;32mIn[6], line 1\u001b[0m\n\u001b[1;32m----> 1\u001b[0m \u001b[38;5;28;01mfor\u001b[39;00m digit \u001b[38;5;129;01min\u001b[39;00m \u001b[38;5;241m10\u001b[39m:\n\u001b[0;32m      2\u001b[0m     \u001b[38;5;28mprint\u001b[39m(digit)\n",
      "\u001b[1;31mTypeError\u001b[0m: 'int' object is not iterable"
     ]
    }
   ],
   "source": [
    "for digit in 10:\n",
    "    print(digit)"
   ]
  },
  {
   "cell_type": "code",
   "execution_count": 7,
   "id": "1aac0c19",
   "metadata": {},
   "outputs": [
    {
     "name": "stdout",
     "output_type": "stream",
     "text": [
      "Germany\n",
      "Italy\n",
      "France\n"
     ]
    }
   ],
   "source": [
    "for country in \"Germany\", \"Italy\",\"France\":\n",
    "    print(country)"
   ]
  },
  {
   "cell_type": "code",
   "execution_count": 8,
   "id": "507ef292",
   "metadata": {},
   "outputs": [
    {
     "name": "stdout",
     "output_type": "stream",
     "text": [
      "Pug\n",
      "Doberman\n",
      "Golden Retriever\n"
     ]
    }
   ],
   "source": [
    "dogs = (\"Pug\", \"Doberman\", \"Golden Retriever\")\n",
    "for dog in dogs:\n",
    "    print(dog)"
   ]
  },
  {
   "cell_type": "code",
   "execution_count": 13,
   "id": "29f75e0a",
   "metadata": {},
   "outputs": [
    {
     "name": "stdout",
     "output_type": "stream",
     "text": [
      "it's 0sdog, its' breed Pug and its' weight 20 pounds\n",
      "it's 1sdog, its' breed Doberman and its' weight 80 pounds\n",
      "it's 2sdog, its' breed Golden Retriever and its' weight 50 pounds\n"
     ]
    }
   ],
   "source": [
    "dogs = ((\"Pug\", 20), (\"Doberman\", 80), (\"Golden Retriever\", 50))\n",
    "for i, (dog, weight) in enumerate (dogs):\n",
    "    print(\"The dog in the index %d is a  %s and it weighs %s pounds\"%(i, dog, weight))"
   ]
  },
  {
   "cell_type": "code",
   "execution_count": 14,
   "id": "3fab7e5f",
   "metadata": {},
   "outputs": [
    {
     "name": "stdout",
     "output_type": "stream",
     "text": [
      "Frohes neues Jahr, Dincer!\n",
      "Frohes neues Jahr, Taha!\n",
      "Frohes neues Jahr, Ibo!\n"
     ]
    }
   ],
   "source": [
    "friends =[\"Dincer\", \"Taha\", \"Ibo\"]\n",
    "for friend in friends:\n",
    "    print(\"Frohes neues Jahr, %s!\"%(friend))"
   ]
  },
  {
   "cell_type": "code",
   "execution_count": 16,
   "id": "ca01b07c",
   "metadata": {},
   "outputs": [
    {
     "name": "stdout",
     "output_type": "stream",
     "text": [
      "Christoph\n",
      "John\n",
      "Sam\n",
      "Jill\n"
     ]
    }
   ],
   "source": [
    "student_scores = {\"Christoph\": 80,\n",
    "                 \"John\": 70,\n",
    "                 \"Sam\":50,\n",
    "                 \"Jill\":90}\n",
    "for score in student_scores:\n",
    "    print(score)"
   ]
  },
  {
   "cell_type": "code",
   "execution_count": 21,
   "id": "723e2249",
   "metadata": {},
   "outputs": [
    {
     "name": "stdout",
     "output_type": "stream",
     "text": [
      "dict_keys(['Christoph', 'John', 'Sam', 'Jill'])\n",
      "Christoph\n",
      "John\n",
      "Sam\n",
      "Jill\n"
     ]
    }
   ],
   "source": [
    "student = student_scores.keys()\n",
    "print(student)\n",
    "for student in student_scores:\n",
    "    print(student)"
   ]
  },
  {
   "cell_type": "code",
   "execution_count": 22,
   "id": "35ecf76c",
   "metadata": {},
   "outputs": [
    {
     "name": "stdout",
     "output_type": "stream",
     "text": [
      "dict_values([80, 70, 50, 90])\n",
      "80\n",
      "70\n",
      "50\n",
      "90\n"
     ]
    }
   ],
   "source": [
    "scores = student_scores.values()\n",
    "print(scores)\n",
    "for score in scores:\n",
    "    print(score)"
   ]
  },
  {
   "cell_type": "code",
   "execution_count": 29,
   "id": "f1f304e4",
   "metadata": {},
   "outputs": [
    {
     "name": "stdout",
     "output_type": "stream",
     "text": [
      "('Christoph', 80)\n",
      "('John', 70)\n",
      "('Sam', 50)\n",
      "('Jill', 90)\n"
     ]
    }
   ],
   "source": [
    "for s in student_scores.items():\n",
    "    print(s)"
   ]
  },
  {
   "cell_type": "code",
   "execution_count": 30,
   "id": "29848802",
   "metadata": {},
   "outputs": [
    {
     "name": "stdout",
     "output_type": "stream",
     "text": [
      "Key value paar is - Christoph \t:\t 80\n",
      "Key value paar is - John \t:\t 70\n",
      "Key value paar is - Sam \t:\t 50\n",
      "Key value paar is - Jill \t:\t 90\n"
     ]
    }
   ],
   "source": [
    "for key in student_scores:\n",
    "    print(\"Key value paar is -\", key, \"\\t:\\t\", student_scores[key])"
   ]
  },
  {
   "cell_type": "code",
   "execution_count": 33,
   "id": "997574a5",
   "metadata": {},
   "outputs": [
    {
     "name": "stdout",
     "output_type": "stream",
     "text": [
      "Student: Christoph \t Score 80\n",
      "Student: John \t Score 70\n",
      "Student: Sam \t Score 50\n",
      "Student: Jill \t Score 90\n"
     ]
    }
   ],
   "source": [
    "for student, score in student_scores.items():\n",
    "    print(\"Student:\", student, \"\\t Score\", score)"
   ]
  },
  {
   "cell_type": "code",
   "execution_count": null,
   "id": "3e3985b3",
   "metadata": {},
   "outputs": [],
   "source": []
  }
 ],
 "metadata": {
  "kernelspec": {
   "display_name": "Python 3 (ipykernel)",
   "language": "python",
   "name": "python3"
  },
  "language_info": {
   "codemirror_mode": {
    "name": "ipython",
    "version": 3
   },
   "file_extension": ".py",
   "mimetype": "text/x-python",
   "name": "python",
   "nbconvert_exporter": "python",
   "pygments_lexer": "ipython3",
   "version": "3.11.5"
  }
 },
 "nbformat": 4,
 "nbformat_minor": 5
}
