{
 "cells": [
  {
   "cell_type": "code",
   "execution_count": 5,
   "id": "81c51c1e",
   "metadata": {},
   "outputs": [
    {
     "name": "stdout",
     "output_type": "stream",
     "text": [
      "2.0  is a quatient of  4  / 2\n",
      "3.0  is a quatient of  6  / 2\n",
      "4.5  is a quatient of  9  / 2\n",
      "5.0  is a quatient of  10  / 2\n"
     ]
    }
   ],
   "source": [
    "number = [4, 6, 9, 10]\n",
    "for num in number:\n",
    "    quotient = num // 2\n",
    "\n",
    "    print(quotient, \" is a quatient of \", num, \" / 2\")"
   ]
  },
  {
   "cell_type": "code",
   "execution_count": 8,
   "id": "11fc0824",
   "metadata": {},
   "outputs": [
    {
     "name": "stdout",
     "output_type": "stream",
     "text": [
      "The type of  10 is  <class 'int'>\n",
      "The type of  5.6 is  <class 'float'>\n",
      "The type of  -20 is  <class 'int'>\n",
      "The type of  (1+3j) is  <class 'complex'>\n",
      "The type of  Hello is  <class 'str'>\n",
      "The type of  (1, 2, 3) is  <class 'tuple'>\n",
      "The type of  ['hihi'] is  <class 'list'>\n",
      "The type of  {'ohohio'} is  <class 'set'>\n",
      "The type of  {'a': 44, 'b': 33} is  <class 'dict'>\n"
     ]
    }
   ],
   "source": [
    "mixed_types = [10, 5.6, -20, 1+3j, \"Hello\", (1, 2, 3), [\"hihi\"], {\"ohohio\"}, {\"a\":44, \"b\":33}]\n",
    "for typ in mixed_types:\n",
    "    print(\"The type of \", typ, \"is \", type(typ))"
   ]
  },
  {
   "cell_type": "code",
   "execution_count": 10,
   "id": "a6d4a0d5",
   "metadata": {},
   "outputs": [
    {
     "name": "stdout",
     "output_type": "stream",
     "text": [
      "The square of  2 is  4\n",
      "The square of  4 is  16\n",
      "The square of  6 is  36\n",
      "The square of  8 is  64\n"
     ]
    }
   ],
   "source": [
    "num_list = [2, 4, 6, 8]\n",
    "for val in num_list:\n",
    "    square = val**2\n",
    "    print(\"The square of \", val, \"is \", square)"
   ]
  },
  {
   "cell_type": "code",
   "execution_count": 12,
   "id": "530feb5f",
   "metadata": {},
   "outputs": [
    {
     "name": "stdout",
     "output_type": "stream",
     "text": [
      "Geben Sie schriftlich was ein: Wie stellen Sie sich in diesem fall\n",
      "35\n"
     ]
    }
   ],
   "source": [
    "eintrag = input(\"Geben Sie schriftlich was ein: \")\n",
    "count=0\n",
    "for i in eintrag:\n",
    "    count = count + 1\n",
    "\n",
    "print(count)"
   ]
  },
  {
   "cell_type": "code",
   "execution_count": 31,
   "id": "1f521131",
   "metadata": {},
   "outputs": [
    {
     "name": "stdout",
     "output_type": "stream",
     "text": [
      "['Rot', 'Blau', 'Green']\n",
      "['Stift', 'Notebook', 'Gummi']\n"
     ]
    }
   ],
   "source": [
    "my_list =[[\"Rot\", \"Blau\", \"Green\"],\n",
    "         [\"Stift\", \"Notebook\", \"Gummi\"]]\n",
    "for col in my_list:\n",
    "        print(col)"
   ]
  },
  {
   "cell_type": "code",
   "execution_count": 33,
   "id": "96c30f70",
   "metadata": {},
   "outputs": [
    {
     "name": "stdout",
     "output_type": "stream",
     "text": [
      "Rot Stift\n",
      "Rot Notebook\n",
      "Rot Gummi\n",
      "Blau Stift\n",
      "Blau Notebook\n",
      "Blau Gummi\n",
      "Green Stift\n",
      "Green Notebook\n",
      "Green Gummi\n"
     ]
    }
   ],
   "source": [
    "my_list =[\"Rot\", \"Blau\", \"Green\"]\n",
    "objects_list=[\"Stift\", \"Notebook\", \"Gummi\"]\n",
    "\n",
    "for col in my_list:\n",
    "    for dinge in objects_list:\n",
    "        print(col, dinge)"
   ]
  },
  {
   "cell_type": "code",
   "execution_count": 27,
   "id": "3f01abab",
   "metadata": {},
   "outputs": [
    {
     "name": "stdout",
     "output_type": "stream",
     "text": [
      "2016  ist ein Schaltjahr\n",
      "2017  ist kein Schaltjahr\n",
      "2018  ist kein Schaltjahr\n",
      "2019  ist kein Schaltjahr\n",
      "2020  ist ein Schaltjahr\n"
     ]
    }
   ],
   "source": [
    "years = [2016, 2017, 2018, 2019, 2020]\n",
    "for year in years:\n",
    "    if year % 4 == 0:\n",
    "        print(year, \" ist ein Schaltjahr\")\n",
    "    else : \n",
    "        print(year, \" ist kein Schaltjahr\")\n",
    "        "
   ]
  },
  {
   "cell_type": "code",
   "execution_count": null,
   "id": "ff18e6b7",
   "metadata": {},
   "outputs": [],
   "source": []
  },
  {
   "cell_type": "code",
   "execution_count": null,
   "id": "5c7bc374",
   "metadata": {},
   "outputs": [],
   "source": []
  },
  {
   "cell_type": "code",
   "execution_count": null,
   "id": "d82b6a51",
   "metadata": {},
   "outputs": [],
   "source": []
  },
  {
   "cell_type": "code",
   "execution_count": null,
   "id": "1efa354d",
   "metadata": {},
   "outputs": [],
   "source": []
  },
  {
   "cell_type": "code",
   "execution_count": null,
   "id": "76d5273c",
   "metadata": {},
   "outputs": [],
   "source": []
  },
  {
   "cell_type": "code",
   "execution_count": null,
   "id": "d354886a",
   "metadata": {},
   "outputs": [],
   "source": []
  },
  {
   "cell_type": "code",
   "execution_count": null,
   "id": "75aa2fac",
   "metadata": {},
   "outputs": [],
   "source": []
  },
  {
   "cell_type": "code",
   "execution_count": null,
   "id": "6ad9450c",
   "metadata": {},
   "outputs": [],
   "source": []
  },
  {
   "cell_type": "code",
   "execution_count": null,
   "id": "3770e3a0",
   "metadata": {},
   "outputs": [],
   "source": []
  },
  {
   "cell_type": "code",
   "execution_count": null,
   "id": "ce346cdd",
   "metadata": {},
   "outputs": [],
   "source": []
  },
  {
   "cell_type": "code",
   "execution_count": null,
   "id": "6685dafa",
   "metadata": {},
   "outputs": [],
   "source": []
  }
 ],
 "metadata": {
  "kernelspec": {
   "display_name": "Python 3 (ipykernel)",
   "language": "python",
   "name": "python3"
  },
  "language_info": {
   "codemirror_mode": {
    "name": "ipython",
    "version": 3
   },
   "file_extension": ".py",
   "mimetype": "text/x-python",
   "name": "python",
   "nbconvert_exporter": "python",
   "pygments_lexer": "ipython3",
   "version": "3.11.5"
  }
 },
 "nbformat": 4,
 "nbformat_minor": 5
}
