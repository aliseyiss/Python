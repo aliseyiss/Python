{
 "cells": [
  {
   "cell_type": "code",
   "execution_count": 2,
   "id": "a04f5523",
   "metadata": {},
   "outputs": [
    {
     "data": {
      "text/plain": [
       "range(0, 5)"
      ]
     },
     "execution_count": 2,
     "metadata": {},
     "output_type": "execute_result"
    }
   ],
   "source": [
    "my_range = range(5)\n",
    "my_range"
   ]
  },
  {
   "cell_type": "code",
   "execution_count": 3,
   "id": "d09dc4fb",
   "metadata": {},
   "outputs": [
    {
     "data": {
      "text/plain": [
       "(0, 1, 2, 3, 4)"
      ]
     },
     "execution_count": 3,
     "metadata": {},
     "output_type": "execute_result"
    }
   ],
   "source": [
    "tuple(my_range)"
   ]
  },
  {
   "cell_type": "code",
   "execution_count": 4,
   "id": "b165342c",
   "metadata": {},
   "outputs": [
    {
     "data": {
      "text/plain": [
       "[0, 1, 2, 3, 4]"
      ]
     },
     "execution_count": 4,
     "metadata": {},
     "output_type": "execute_result"
    }
   ],
   "source": [
    "list(my_range)"
   ]
  },
  {
   "cell_type": "code",
   "execution_count": 5,
   "id": "87d89704",
   "metadata": {},
   "outputs": [
    {
     "data": {
      "text/plain": [
       "[5, 6, 7, 8, 9]"
      ]
     },
     "execution_count": 5,
     "metadata": {},
     "output_type": "execute_result"
    }
   ],
   "source": [
    "list(range(5,10))"
   ]
  },
  {
   "cell_type": "code",
   "execution_count": 8,
   "id": "c9e22cde",
   "metadata": {},
   "outputs": [
    {
     "data": {
      "text/plain": [
       "[-5, -4, -3, -2, -1, 0, 1, 2, 3, 4]"
      ]
     },
     "execution_count": 8,
     "metadata": {},
     "output_type": "execute_result"
    }
   ],
   "source": [
    "list(range(-5,5))"
   ]
  },
  {
   "cell_type": "code",
   "execution_count": 9,
   "id": "ac55f2da",
   "metadata": {},
   "outputs": [
    {
     "ename": "SyntaxError",
     "evalue": "expected ':' (2731792122.py, line 1)",
     "output_type": "error",
     "traceback": [
      "\u001b[1;36m  Cell \u001b[1;32mIn[9], line 1\u001b[1;36m\u001b[0m\n\u001b[1;33m    for i in range (\"c\", \"Y\")\u001b[0m\n\u001b[1;37m                             ^\u001b[0m\n\u001b[1;31mSyntaxError\u001b[0m\u001b[1;31m:\u001b[0m expected ':'\n"
     ]
    }
   ],
   "source": [
    "for i in range (\"c\", \"Y\")"
   ]
  },
  {
   "cell_type": "code",
   "execution_count": 30,
   "id": "9980e98e",
   "metadata": {},
   "outputs": [
    {
     "name": "stdout",
     "output_type": "stream",
     "text": [
      "0\n",
      "1\n",
      "2\n",
      "3\n",
      "4\n",
      "5\n"
     ]
    }
   ],
   "source": [
    "for i in range(6):\n",
    "    print(i)"
   ]
  },
  {
   "cell_type": "code",
   "execution_count": 13,
   "id": "7090e1a0",
   "metadata": {},
   "outputs": [
    {
     "name": "stdout",
     "output_type": "stream",
     "text": [
      "[5, 7, 9]\n"
     ]
    }
   ],
   "source": [
    "x = list(range(5,10,2))\n",
    "print(x)"
   ]
  },
  {
   "cell_type": "code",
   "execution_count": 19,
   "id": "ce76c285",
   "metadata": {},
   "outputs": [
    {
     "name": "stdout",
     "output_type": "stream",
     "text": [
      "[5, 3, 1, -1, -3, -5, -7, -9]\n"
     ]
    }
   ],
   "source": [
    "y = list(range(5, -10, -2))\n",
    "print(y)"
   ]
  },
  {
   "cell_type": "code",
   "execution_count": 23,
   "id": "45fb0c02",
   "metadata": {},
   "outputs": [
    {
     "name": "stdout",
     "output_type": "stream",
     "text": [
      "1 is not dividable by 2\n",
      "2 can be divided by 2\n",
      "3 is not dividable by 2\n",
      "4 can be divided by 2\n",
      "5 is not dividable by 2\n",
      "6 can be divided by 2\n",
      "7 is not dividable by 2\n",
      "8 can be divided by 2\n",
      "9 is not dividable by 2\n"
     ]
    }
   ],
   "source": [
    "for i in range(1,10):\n",
    "    if i % 2 == 0:\n",
    "        print(\"%s can be divided by 2\" % i)\n",
    "    else :\n",
    "        print(\"%s is not dividable by 2\" % i)"
   ]
  },
  {
   "cell_type": "code",
   "execution_count": 26,
   "id": "2b224345",
   "metadata": {},
   "outputs": [
    {
     "name": "stdout",
     "output_type": "stream",
     "text": [
      "[3, 5, 6, 9, 10, 12, 15, 18, 20]\n"
     ]
    }
   ],
   "source": [
    "num_list = []\n",
    "\n",
    "for i in range(1, 21):\n",
    "    if i%3 == 0 or i%5 == 0:\n",
    "        num_list.append(i)\n",
    "        \n",
    "print(num_list)"
   ]
  },
  {
   "cell_type": "code",
   "execution_count": 35,
   "id": "7220876f",
   "metadata": {},
   "outputs": [
    {
     "name": "stdout",
     "output_type": "stream",
     "text": [
      "Number =  1  :   1  2  3  4  5  6  7  8  9 \n",
      "Number =  2  :   2  4  6  8 10 12 14 16 18 \n",
      "Number =  3  :   3  6  9 12 15 18 21 24 27 \n",
      "Number =  4  :   4  8 12 16 20 24 28 32 36 \n",
      "Number =  5  :   5 10 15 20 25 30 35 40 45 \n",
      "Number =  6  :   6 12 18 24 30 36 42 48 54 \n",
      "Number =  7  :   7 14 21 28 35 42 49 56 63 \n",
      "Number =  8  :   8 16 24 32 40 48 56 64 72 \n",
      "Number =  9  :   9 18 27 36 45 54 63 72 81 \n"
     ]
    }
   ],
   "source": [
    "for num1 in range(1, 10):\n",
    "    print(\"Number = \", num1, \" : \", end = \" \")\n",
    "    \n",
    "    for num2 in range(1, 10):\n",
    "        print(\"{:2d}\".format(num1 * num2), end = \" \")\n",
    "\n",
    "    print()\n",
    "    \n",
    "#{:2d} specifies that the result should be formatted as a two-digit integer. If your result is a larger number, you can adjust the number in the format specifier accordingly.\n",
    "# end= \" \" For döngüsü içindeki değeri aynı satırda yazdırmak için end parametresini kullanabilirsiniz. end parametresi, print fonksiyonu tarafından yazdırılan değerlerin sonuna hangi karakterin ekleneceğini belirler. Varsayılan olarak end parametresi \\n (newline karakteri) olarak ayarlıdır, bu da her print çağrısının bir alt satıra geçmesine neden olur."
   ]
  },
  {
   "cell_type": "code",
   "execution_count": 51,
   "id": "92e09365",
   "metadata": {},
   "outputs": [
    {
     "name": "stdout",
     "output_type": "stream",
     "text": [
      "Liste1: ['Volkswagen', 'Mercedes', 'BMW']\n",
      "Liste2: ['Honda', 'Toyota', 'Mazda']\n"
     ]
    }
   ],
   "source": [
    "# liste icerisindeki liste nasil ayri listeler haline getirilir\n",
    "companies = [['Volkswagen', 'Mercedes', 'BMW'], ['Honda', 'Toyota', 'Mazda']]\n",
    "\n",
    "# For döngüsü ile alt listeleri sözlüğe ekle ve yazdır\n",
    "for i, company_list in enumerate(companies, start=1):\n",
    "    globals()[\"Liste{}\".format(i)] = company_list\n",
    "    print(\"Liste{}:\".format(i), company_list)\n"
   ]
  },
  {
   "cell_type": "code",
   "execution_count": 53,
   "id": "79523da1",
   "metadata": {},
   "outputs": [
    {
     "name": "stdout",
     "output_type": "stream",
     "text": [
      "\n",
      "1 Döngü Adımı:\n",
      "Liste Adı: Liste1\n",
      "Liste İçeriği: ['Volkswagen', 'Mercedes', 'BMW']\n",
      "\n",
      "2 Döngü Adımı:\n",
      "Liste Adı: Liste2\n",
      "Liste İçeriği: ['Honda', 'Toyota', 'Mazda']\n",
      "\n",
      "Oluşan Listelerin İçeriği:\n",
      "Liste1 : ['Volkswagen', 'Mercedes', 'BMW']\n",
      "Liste2 : ['Honda', 'Toyota', 'Mazda']\n"
     ]
    }
   ],
   "source": [
    "#Detayli adimlar\n",
    "companies = [['Volkswagen', 'Mercedes', 'BMW'], ['Honda', 'Toyota', 'Mazda']]\n",
    "\n",
    "# For döngüsü ile alt listeleri sözlüğe ekle ve yazdır\n",
    "for i, company_list in enumerate(companies, start=1):\n",
    "    print(\"\\n{} Döngü Adımı:\".format(i))\n",
    "    \n",
    "    # Liste adını oluştur ve yazdır\n",
    "    list_name = \"Liste{}\".format(i)\n",
    "    print(\"Liste Adı:\", list_name)\n",
    "    \n",
    "    # Alt liste içeriğini globals() fonksiyonu ile dinamik olarak oluştur ve yazdır\n",
    "    globals()[list_name] = company_list\n",
    "    print(\"Liste İçeriği:\", globals()[list_name])\n",
    "\n",
    "# Son olarak oluşan Listeleri tekrar yazdır\n",
    "print(\"\\nOluşan Listelerin İçeriği:\")\n",
    "for i in range(1, len(companies) + 1):\n",
    "    list_name = \"Liste{}\".format(i)\n",
    "    print(list_name, \":\", globals()[list_name])"
   ]
  },
  {
   "cell_type": "code",
   "execution_count": 54,
   "id": "365777a3",
   "metadata": {},
   "outputs": [
    {
     "name": "stdout",
     "output_type": "stream",
     "text": [
      "Liste1 : ['Volkswagen', 'Mercedes', 'BMW']\n",
      "Liste2 : ['Honda', 'Toyota', 'Mazda']\n"
     ]
    }
   ],
   "source": [
    "#sözlük olusturarak ayni islem nasil yapilir?\n",
    "companies = [['Volkswagen', 'Mercedes', 'BMW'], ['Honda', 'Toyota', 'Mazda']]\n",
    "\n",
    "# Boş bir sözlük oluştur\n",
    "liste_sozluk = {}\n",
    "\n",
    "# For döngüsü ile alt listeleri sözlüğe ekle\n",
    "for i, company_list in enumerate(companies, start=1):\n",
    "    liste_sozluk[\"Liste{}\".format(i)] = company_list\n",
    "\n",
    "# Sözlükteki değerleri yazdır\n",
    "for key, value in liste_sozluk.items():\n",
    "    print(key, \":\", value)"
   ]
  },
  {
   "cell_type": "code",
   "execution_count": 55,
   "id": "9ec36285",
   "metadata": {},
   "outputs": [
    {
     "name": "stdout",
     "output_type": "stream",
     "text": [
      "Birleştirilmiş Liste: ['Volkswagen', 'Mercedes', 'BMW', 'Honda', 'Toyota', 'Mazda']\n"
     ]
    }
   ],
   "source": [
    "Liste1 = ['Volkswagen', 'Mercedes', 'BMW']\n",
    "Liste2 = ['Honda', 'Toyota', 'Mazda']\n",
    "\n",
    "# İki listeyi birleştirme\n",
    "birlesik_liste = Liste1 + Liste2\n",
    "\n",
    "# Birleştirilmiş listeyi yazdırma\n",
    "print(\"Birleştirilmiş Liste:\", birlesik_liste)"
   ]
  },
  {
   "cell_type": "code",
   "execution_count": 57,
   "id": "3b4a1289",
   "metadata": {},
   "outputs": [
    {
     "name": "stdout",
     "output_type": "stream",
     "text": [
      "[2000, 2004, 2008, 2012, 2016, 2020, 2024, 2028, 2032, 2036, 2040, 2044, 2048, 2052, 2056, 2060, 2064, 2068, 2072, 2076, 2080, 2084, 2088, 2092, 2096]\n"
     ]
    }
   ],
   "source": [
    "# Leap years in 21st century\n",
    "leap_years =[]\n",
    "for i in range(2000, 2100):\n",
    "    if i%4 == 0:\n",
    "        leap_years.append(i)\n",
    "        \n",
    "print(leap_years)"
   ]
  },
  {
   "cell_type": "code",
   "execution_count": 62,
   "id": "d916f9cc",
   "metadata": {},
   "outputs": [
    {
     "name": "stdout",
     "output_type": "stream",
     "text": [
      "['Volkswagen', 'Mercedes', 'BMW', 'Honda', 'Toyota', 'Mazda']\n"
     ]
    }
   ],
   "source": [
    "companies = [['Volkswagen', 'Mercedes', 'BMW'], ['Honda', 'Toyota', 'Mazda']]\n",
    "lits =[]\n",
    "for car in companies:\n",
    "    for i in car:\n",
    "        lits.append(i)\n",
    "\n",
    "print(lits)"
   ]
  },
  {
   "cell_type": "code",
   "execution_count": null,
   "id": "7d8b9a32",
   "metadata": {},
   "outputs": [],
   "source": []
  },
  {
   "cell_type": "code",
   "execution_count": null,
   "id": "bf05dff4",
   "metadata": {},
   "outputs": [],
   "source": []
  },
  {
   "cell_type": "code",
   "execution_count": null,
   "id": "292c3642",
   "metadata": {},
   "outputs": [],
   "source": []
  },
  {
   "cell_type": "code",
   "execution_count": null,
   "id": "fdf50f98",
   "metadata": {},
   "outputs": [],
   "source": []
  },
  {
   "cell_type": "code",
   "execution_count": null,
   "id": "cce51084",
   "metadata": {},
   "outputs": [],
   "source": []
  },
  {
   "cell_type": "code",
   "execution_count": null,
   "id": "51a351ac",
   "metadata": {},
   "outputs": [],
   "source": []
  },
  {
   "cell_type": "code",
   "execution_count": null,
   "id": "c939e45c",
   "metadata": {},
   "outputs": [],
   "source": []
  },
  {
   "cell_type": "code",
   "execution_count": null,
   "id": "4bcb30c5",
   "metadata": {},
   "outputs": [],
   "source": []
  },
  {
   "cell_type": "code",
   "execution_count": null,
   "id": "7ed9f8ba",
   "metadata": {},
   "outputs": [],
   "source": []
  }
 ],
 "metadata": {
  "kernelspec": {
   "display_name": "Python 3 (ipykernel)",
   "language": "python",
   "name": "python3"
  },
  "language_info": {
   "codemirror_mode": {
    "name": "ipython",
    "version": 3
   },
   "file_extension": ".py",
   "mimetype": "text/x-python",
   "name": "python",
   "nbconvert_exporter": "python",
   "pygments_lexer": "ipython3",
   "version": "3.11.5"
  }
 },
 "nbformat": 4,
 "nbformat_minor": 5
}
