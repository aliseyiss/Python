{
 "cells": [
  {
   "cell_type": "code",
   "execution_count": 3,
   "id": "1515e629",
   "metadata": {},
   "outputs": [
    {
     "name": "stdout",
     "output_type": "stream",
     "text": [
      "20\n",
      "21\n",
      "22\n",
      "23\n",
      "24\n"
     ]
    }
   ],
   "source": [
    "x = 20\n",
    "\n",
    "while x < 25:\n",
    "    print(x)\n",
    "    x += 1\n",
    "    "
   ]
  },
  {
   "cell_type": "code",
   "execution_count": 4,
   "id": "ea4eaa69",
   "metadata": {},
   "outputs": [
    {
     "name": "stdout",
     "output_type": "stream",
     "text": [
      "Geben Sie Ihr Password: kshjdz\n",
      "Geben Sie Ihr Password: mdpiwue\n",
      "Geben Sie Ihr Password: 4543\n",
      "Geben Sie Ihr Password: Ron@95\n",
      "\n",
      "Access Granted\n"
     ]
    }
   ],
   "source": [
    "Geheimzahl =\"\"\n",
    "\n",
    "while Geheimzahl != \"Ron@95\":\n",
    "    Geheimzahl = input(\"Geben Sie Ihr Password: \")\n",
    "    \n",
    "print(\"\\nAccess Granted\")"
   ]
  },
  {
   "cell_type": "code",
   "execution_count": 6,
   "id": "eadccee2",
   "metadata": {},
   "outputs": [
    {
     "ename": "IndentationError",
     "evalue": "unexpected indent (1494032408.py, line 5)",
     "output_type": "error",
     "traceback": [
      "\u001b[1;36m  Cell \u001b[1;32mIn[6], line 5\u001b[1;36m\u001b[0m\n\u001b[1;33m    while num <= num_iteration:\u001b[0m\n\u001b[1;37m    ^\u001b[0m\n\u001b[1;31mIndentationError\u001b[0m\u001b[1;31m:\u001b[0m unexpected indent\n"
     ]
    }
   ],
   "source": [
    "num_iteration = int(input(\"Geben Sie Nummer der Wiederholung ein: \"))\n",
    "name = input(\"Geben Sie Ihren Namen ein: \")\n",
    "\n",
    "num =1\n",
    " while num <= num_iteration:\n",
    "        print(num, \" : \", name)\n",
    "        num += 1\n",
    "        \n",
    "    "
   ]
  },
  {
   "cell_type": "code",
   "execution_count": 8,
   "id": "cf658525",
   "metadata": {},
   "outputs": [
    {
     "name": "stdout",
     "output_type": "stream",
     "text": [
      "Geben Sie Nummer der Wiederholung ein: 5\n",
      "Geben Sie Ihren Namen ein: jakie\n",
      "1  :  jakie\n",
      "2  :  jakie\n",
      "3  :  jakie\n",
      "4  :  jakie\n",
      "5  :  jakie\n"
     ]
    }
   ],
   "source": [
    "num_iteration = int(input(\"Geben Sie Nummer der Wiederholung ein: \"))\n",
    "name = input(\"Geben Sie Ihren Namen ein: \")\n",
    "\n",
    "num =1\n",
    "while num <= num_iteration:\n",
    "        print(num, \" : \", name)\n",
    "        num += 1"
   ]
  },
  {
   "cell_type": "code",
   "execution_count": 10,
   "id": "51a3fbb9",
   "metadata": {},
   "outputs": [
    {
     "name": "stdout",
     "output_type": "stream",
     "text": [
      "0\n",
      "1\n",
      "2\n",
      "3\n",
      "4\n",
      "5\n",
      "6\n",
      "7\n",
      "8\n",
      "9\n"
     ]
    }
   ],
   "source": [
    "num = 0\n",
    "while num in range(0,10):\n",
    "    print(num)\n",
    "    num += 1\n",
    "    "
   ]
  },
  {
   "cell_type": "code",
   "execution_count": 11,
   "id": "ac4202a8",
   "metadata": {},
   "outputs": [
    {
     "name": "stdout",
     "output_type": "stream",
     "text": [
      "0\n",
      "2\n",
      "4\n",
      "6\n",
      "8\n"
     ]
    }
   ],
   "source": [
    "num = 0\n",
    "\n",
    "while num in range (0,10):\n",
    "    \n",
    "    if num % 2 == 0:\n",
    "        print(num)\n",
    "    \n",
    "    num += 1"
   ]
  },
  {
   "cell_type": "code",
   "execution_count": 13,
   "id": "7bb74375",
   "metadata": {},
   "outputs": [
    {
     "name": "stdout",
     "output_type": "stream",
     "text": [
      "Geben Sie eine Nummer ein: 4578\n",
      "Diese Nummer hat 4 Digits\n"
     ]
    }
   ],
   "source": [
    "Nummer = int(input(\"Geben Sie eine Nummer ein: \"))\n",
    "Länge = 0\n",
    "\n",
    "while Nummer > 0:\n",
    "    Nummer //= 10\n",
    "    Länge += 1\n",
    "    \n",
    "print(\"Diese Nummer hat %d Digits\"%Länge)"
   ]
  },
  {
   "cell_type": "code",
   "execution_count": 16,
   "id": "605cfdad",
   "metadata": {},
   "outputs": [
    {
     "name": "stdout",
     "output_type": "stream",
     "text": [
      "1\n",
      "2\n",
      "3\n",
      "4\n",
      "5\n",
      "6\n",
      "7\n",
      "8\n"
     ]
    }
   ],
   "source": [
    "x, y = 0, 8\n",
    "while x < y: x += 1;print(x) "
   ]
  },
  {
   "cell_type": "code",
   "execution_count": 17,
   "id": "120c0152",
   "metadata": {},
   "outputs": [],
   "source": [
    "gerade_num = []\n",
    "ungerade_num = []\n",
    "num = 0\n",
    "\n",
    "while num <= 50:\n",
    "    if num % 2 == 0:\n",
    "        gerade_num.append(num)\n",
    "    else :\n",
    "        ungerade_num.append(num)\n",
    "        \n",
    "    num += 1"
   ]
  },
  {
   "cell_type": "code",
   "execution_count": 18,
   "id": "2f490b48",
   "metadata": {},
   "outputs": [
    {
     "name": "stdout",
     "output_type": "stream",
     "text": [
      "[0, 2, 4, 6, 8, 10, 12, 14, 16, 18, 20, 22, 24, 26, 28, 30, 32, 34, 36, 38, 40, 42, 44, 46, 48, 50]\n"
     ]
    }
   ],
   "source": [
    "print(gerade_num)"
   ]
  },
  {
   "cell_type": "code",
   "execution_count": 19,
   "id": "ffbeb079",
   "metadata": {},
   "outputs": [
    {
     "name": "stdout",
     "output_type": "stream",
     "text": [
      "[1, 3, 5, 7, 9, 11, 13, 15, 17, 19, 21, 23, 25, 27, 29, 31, 33, 35, 37, 39, 41, 43, 45, 47, 49]\n"
     ]
    }
   ],
   "source": [
    "print(ungerade_num)"
   ]
  },
  {
   "cell_type": "code",
   "execution_count": 21,
   "id": "45371b9f",
   "metadata": {},
   "outputs": [
    {
     "name": "stdout",
     "output_type": "stream",
     "text": [
      "    C    F\n",
      "  -35   -31\n",
      "  -30   -22\n",
      "  -25   -13\n",
      "  -20    -4\n",
      "  -15     5\n",
      "  -10    14\n",
      "   -5    23\n",
      "    0    32\n",
      "    5    41\n",
      "   10    50\n",
      "   15    59\n",
      "   20    68\n",
      "   25    77\n",
      "   30    86\n",
      "   35    95\n"
     ]
    }
   ],
   "source": [
    "c_degrees =[-35, -30, -25, -20, -15, -10, -5, 0, 5, 10, 15, 20, 25, 30, 35]\n",
    "\n",
    "num = 0\n",
    "print('    C    F')\n",
    "while num < len(c_degrees):\n",
    "    C = c_degrees[num]\n",
    "    F = (9.0/5)*C +32\n",
    "    print('%5d %5.lf' % (C, F))\n",
    "    num +=1"
   ]
  },
  {
   "cell_type": "code",
   "execution_count": 26,
   "id": "41e44331",
   "metadata": {},
   "outputs": [
    {
     "name": "stdout",
     "output_type": "stream",
     "text": [
      "{'William': 22, 'James': 26, 'Olive': 24, 'Jessie': 28, 'Liam': 21}\n"
     ]
    }
   ],
   "source": [
    "name_list = [\"William\", \"James\", \"Olive\", \"Jessie\", \"Liam\"]\n",
    "age_list = [22, 26, 24, 28, 21]\n",
    "index = 0\n",
    "name_age = {}\n",
    "\n",
    "while index < len(name_list):\n",
    "    name_age[name_list[index]] = age_list[index]\n",
    "    index += 1\n",
    "    \n",
    "print(name_age)\n",
    "    "
   ]
  },
  {
   "cell_type": "code",
   "execution_count": 28,
   "id": "fe72aea3",
   "metadata": {},
   "outputs": [
    {
     "name": "stdout",
     "output_type": "stream",
     "text": [
      "Geben Sie eine Nummer ein: 44\n",
      "Geben Sie eine Nummer ein: 45\n",
      "\n",
      "Wir sind auserhalb der Schleife, ab wir der gewünschten Nummer begegnet haben 45\n"
     ]
    }
   ],
   "source": [
    "num = 10\n",
    "\n",
    "while True:\n",
    "    num = int(input(\"Geben Sie eine Nummer ein: \"))\n",
    "    \n",
    "    if num % 3 == 0:\n",
    "        break\n",
    "\n",
    "print(\"\\nWir befinden uns außerhalb der Schleife, sobald wir auf die gewünschte Zahl stoßen\", num)"
   ]
  },
  {
   "cell_type": "code",
   "execution_count": null,
   "id": "2fa30825",
   "metadata": {},
   "outputs": [
    {
     "name": "stdout",
     "output_type": "stream",
     "text": [
      "geben Sie eine nummer ein: 5\n",
      "The Cube of 5 is 125\n"
     ]
    }
   ],
   "source": [
    "while True:\n",
    "    num = input(\"geben Sie eine nummer ein: \")\n",
    "    \n",
    "    if num == \"out\":\n",
    "        print(\"Sie sind aus der Schleife herausgekommen\")\n",
    "        break\n",
    "    \n",
    "    if not num.isdigit():\n",
    "        print(\"Sie haben keine Digitnummer eingegeben. Holen Sie wieder.\")\n",
    "        continue\n",
    "    \n",
    "    num = int(num)\n",
    "    print(\"The Cube of %d is %d\" % (num, num**3))"
   ]
  },
  {
   "cell_type": "code",
   "execution_count": null,
   "id": "06ef67b0",
   "metadata": {},
   "outputs": [],
   "source": [
    "capital = \"\"\n",
    "while True:\n",
    "    capital = input(\"What is the capital of Egypt? \")\n",
    "    \n",
    "    if capital == \"Cairo\":\n",
    "        print(\"The correct value! Congrats!\"\")\n",
    "        continue\n",
    "    \n",
    "    if capital == \"quit\":\n",
    "        print(\"Du bist aus der Schleife herausgekommen\")\n",
    "        break\n",
    "              \n",
    "   else :\n",
    "        continue"
   ]
  },
  {
   "cell_type": "code",
   "execution_count": null,
   "id": "e7efd3b3",
   "metadata": {},
   "outputs": [],
   "source": []
  },
  {
   "cell_type": "code",
   "execution_count": null,
   "id": "3ba1e77f",
   "metadata": {},
   "outputs": [],
   "source": []
  },
  {
   "cell_type": "code",
   "execution_count": null,
   "id": "221c8515",
   "metadata": {},
   "outputs": [],
   "source": []
  },
  {
   "cell_type": "code",
   "execution_count": null,
   "id": "baf31772",
   "metadata": {},
   "outputs": [],
   "source": []
  },
  {
   "cell_type": "code",
   "execution_count": null,
   "id": "d89ece66",
   "metadata": {},
   "outputs": [],
   "source": []
  },
  {
   "cell_type": "code",
   "execution_count": null,
   "id": "d2a397ab",
   "metadata": {},
   "outputs": [],
   "source": []
  },
  {
   "cell_type": "code",
   "execution_count": null,
   "id": "aa5349af",
   "metadata": {},
   "outputs": [],
   "source": []
  },
  {
   "cell_type": "code",
   "execution_count": null,
   "id": "06237122",
   "metadata": {},
   "outputs": [],
   "source": []
  },
  {
   "cell_type": "code",
   "execution_count": null,
   "id": "0041919e",
   "metadata": {},
   "outputs": [],
   "source": []
  },
  {
   "cell_type": "code",
   "execution_count": null,
   "id": "6be1383a",
   "metadata": {},
   "outputs": [],
   "source": []
  },
  {
   "cell_type": "code",
   "execution_count": null,
   "id": "7b5322c8",
   "metadata": {},
   "outputs": [],
   "source": []
  },
  {
   "cell_type": "code",
   "execution_count": null,
   "id": "66d6833b",
   "metadata": {},
   "outputs": [],
   "source": []
  },
  {
   "cell_type": "code",
   "execution_count": null,
   "id": "34d338ad",
   "metadata": {},
   "outputs": [],
   "source": []
  },
  {
   "cell_type": "code",
   "execution_count": null,
   "id": "6ad08144",
   "metadata": {},
   "outputs": [],
   "source": []
  }
 ],
 "metadata": {
  "kernelspec": {
   "display_name": "Python 3 (ipykernel)",
   "language": "python",
   "name": "python3"
  },
  "language_info": {
   "codemirror_mode": {
    "name": "ipython",
    "version": 3
   },
   "file_extension": ".py",
   "mimetype": "text/x-python",
   "name": "python",
   "nbconvert_exporter": "python",
   "pygments_lexer": "ipython3",
   "version": "3.11.5"
  }
 },
 "nbformat": 4,
 "nbformat_minor": 5
}
