{
 "cells": [
  {
   "cell_type": "code",
   "execution_count": 6,
   "id": "1a6cf37e",
   "metadata": {},
   "outputs": [],
   "source": [
    "def student(**kwargs):\n",
    "    \n",
    "    kwargs_type = type(kwargs)\n",
    "    print(kwargs_type)\n",
    "    print(kwargs)"
   ]
  },
  {
   "cell_type": "code",
   "execution_count": 7,
   "id": "d6f157b5",
   "metadata": {},
   "outputs": [
    {
     "name": "stdout",
     "output_type": "stream",
     "text": [
      "<class 'dict'>\n",
      "{}\n"
     ]
    }
   ],
   "source": [
    "student()"
   ]
  },
  {
   "cell_type": "code",
   "execution_count": 8,
   "id": "ead56309",
   "metadata": {},
   "outputs": [
    {
     "name": "stdout",
     "output_type": "stream",
     "text": [
      "<class 'dict'>\n",
      "{'name': 'Ali'}\n"
     ]
    }
   ],
   "source": [
    "student(name = \"Ali\")"
   ]
  },
  {
   "cell_type": "code",
   "execution_count": 9,
   "id": "a2ac8de2",
   "metadata": {},
   "outputs": [
    {
     "name": "stdout",
     "output_type": "stream",
     "text": [
      "<class 'dict'>\n",
      "{'name': 'Sophia', 'age': 0}\n"
     ]
    }
   ],
   "source": [
    "student(name = \"Sophia\", age = 0)"
   ]
  },
  {
   "cell_type": "code",
   "execution_count": 10,
   "id": "7c915dd0",
   "metadata": {},
   "outputs": [],
   "source": [
    "def student_details(**details):\n",
    "    \n",
    "    for key, value in details.items():\n",
    "        print(key, value)"
   ]
  },
  {
   "cell_type": "code",
   "execution_count": 11,
   "id": "9504360c",
   "metadata": {},
   "outputs": [
    {
     "name": "stdout",
     "output_type": "stream",
     "text": [
      "name Cornelieus\n",
      "age 21\n",
      "collage CalTec\n"
     ]
    }
   ],
   "source": [
    "student_details(name=\"Cornelieus\", age = 21, collage = \"CalTec\")"
   ]
  },
  {
   "cell_type": "code",
   "execution_count": null,
   "id": "2bd249ed",
   "metadata": {},
   "outputs": [],
   "source": []
  }
 ],
 "metadata": {
  "kernelspec": {
   "display_name": "Python 3 (ipykernel)",
   "language": "python",
   "name": "python3"
  },
  "language_info": {
   "codemirror_mode": {
    "name": "ipython",
    "version": 3
   },
   "file_extension": ".py",
   "mimetype": "text/x-python",
   "name": "python",
   "nbconvert_exporter": "python",
   "pygments_lexer": "ipython3",
   "version": "3.11.5"
  }
 },
 "nbformat": 4,
 "nbformat_minor": 5
}
