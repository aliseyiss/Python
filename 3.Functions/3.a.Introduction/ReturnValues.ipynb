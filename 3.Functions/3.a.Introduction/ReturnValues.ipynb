{
 "cells": [
  {
   "cell_type": "code",
   "execution_count": 5,
   "id": "8a17bbd9",
   "metadata": {},
   "outputs": [],
   "source": [
    "def subtrahieren(n1, n2):\n",
    "    result = n1 - n2\n",
    "    print(result)"
   ]
  },
  {
   "cell_type": "code",
   "execution_count": 6,
   "id": "d74e6221",
   "metadata": {},
   "outputs": [
    {
     "name": "stdout",
     "output_type": "stream",
     "text": [
      "5\n"
     ]
    }
   ],
   "source": [
    "subtrahieren(10, 5)"
   ]
  },
  {
   "cell_type": "code",
   "execution_count": 7,
   "id": "3c536440",
   "metadata": {},
   "outputs": [
    {
     "name": "stdout",
     "output_type": "stream",
     "text": [
      "10\n"
     ]
    }
   ],
   "source": [
    "Abziehen = subtrahieren(20, 10)"
   ]
  },
  {
   "cell_type": "code",
   "execution_count": 8,
   "id": "f0895ff2",
   "metadata": {},
   "outputs": [
    {
     "name": "stdout",
     "output_type": "stream",
     "text": [
      "None\n"
     ]
    }
   ],
   "source": [
    "print(Abziehen)"
   ]
  },
  {
   "cell_type": "code",
   "execution_count": 9,
   "id": "636cb594",
   "metadata": {},
   "outputs": [
    {
     "data": {
      "text/plain": [
       "NoneType"
      ]
     },
     "execution_count": 9,
     "metadata": {},
     "output_type": "execute_result"
    }
   ],
   "source": [
    "type(Abziehen)"
   ]
  },
  {
   "cell_type": "code",
   "execution_count": 10,
   "id": "281ebc3d",
   "metadata": {},
   "outputs": [],
   "source": [
    "def Subtrahieren_gibt_Ergebnis_zurück(n1, n2):\n",
    "    Ergebnis = n1 - n2\n",
    "    return Ergebnis"
   ]
  },
  {
   "cell_type": "code",
   "execution_count": 13,
   "id": "dee44ccf",
   "metadata": {},
   "outputs": [
    {
     "data": {
      "text/plain": [
       "-150"
      ]
     },
     "execution_count": 13,
     "metadata": {},
     "output_type": "execute_result"
    }
   ],
   "source": [
    "Subtrahieren_gibt_Ergebnis_zurück(100, 250)"
   ]
  },
  {
   "cell_type": "code",
   "execution_count": 12,
   "id": "47bba92c",
   "metadata": {},
   "outputs": [
    {
     "name": "stdout",
     "output_type": "stream",
     "text": [
      "22\n"
     ]
    }
   ],
   "source": [
    "r = Subtrahieren_gibt_Ergebnis_zurück(33, 11)\n",
    "print(r)"
   ]
  },
  {
   "cell_type": "code",
   "execution_count": 16,
   "id": "4dbd41f7",
   "metadata": {},
   "outputs": [],
   "source": [
    "def find_max(some_list):\n",
    "    \n",
    "    lenght = len(some_list)\n",
    "    max_nummer = some_list[0]\n",
    "    \n",
    "    for i in range(1, lenght):        \n",
    "        if some_list[i] > max_nummer:\n",
    "            max_nummer = some_list[i]\n",
    "    \n",
    "    return max_nummer\n",
    "        "
   ]
  },
  {
   "cell_type": "code",
   "execution_count": 19,
   "id": "1ff86ee4",
   "metadata": {},
   "outputs": [
    {
     "data": {
      "text/plain": [
       "19"
      ]
     },
     "execution_count": 19,
     "metadata": {},
     "output_type": "execute_result"
    }
   ],
   "source": [
    "find_max(some_list=[10,14,17,19])"
   ]
  },
  {
   "cell_type": "code",
   "execution_count": 20,
   "id": "804cd50e",
   "metadata": {},
   "outputs": [],
   "source": [
    "def find_maxx(some_list):\n",
    "    \n",
    "    lenght = len(some_list)\n",
    "    max_element = some_list[0]\n",
    "    \n",
    "    for i in range(1, lenght):\n",
    "        \n",
    "        if some_list[i] > max_element:\n",
    "            max_element = some_list[i]\n",
    "            \n",
    "    return max_element\n",
    "\n",
    "            \n",
    "    "
   ]
  },
  {
   "cell_type": "code",
   "execution_count": 22,
   "id": "76779991",
   "metadata": {},
   "outputs": [
    {
     "data": {
      "text/plain": [
       "99"
      ]
     },
     "execution_count": 22,
     "metadata": {},
     "output_type": "execute_result"
    }
   ],
   "source": [
    "find_maxx(some_list = [55,78,14,12,36,99])"
   ]
  },
  {
   "cell_type": "code",
   "execution_count": 25,
   "id": "95afced1",
   "metadata": {},
   "outputs": [],
   "source": [
    "some_list.append(120)"
   ]
  },
  {
   "cell_type": "code",
   "execution_count": 28,
   "id": "bfc59695",
   "metadata": {},
   "outputs": [],
   "source": [
    "some_list.append(150)"
   ]
  },
  {
   "cell_type": "code",
   "execution_count": 29,
   "id": "33a053c3",
   "metadata": {},
   "outputs": [
    {
     "name": "stdout",
     "output_type": "stream",
     "text": [
      "150\n"
     ]
    }
   ],
   "source": [
    "max1 = find_maxx(some_list)\n",
    "print(max1)"
   ]
  },
  {
   "cell_type": "code",
   "execution_count": 32,
   "id": "ab4038e6",
   "metadata": {},
   "outputs": [],
   "source": [
    "def feststellen_nummer(nummer):\n",
    "    if nummer > 0:\n",
    "        return \"Positive!\"\n",
    "    elif nummer < 0:\n",
    "        return \"Negative!\"\n",
    "    else:\n",
    "        return \"Es ist null!\""
   ]
  },
  {
   "cell_type": "code",
   "execution_count": 33,
   "id": "87a08a7e",
   "metadata": {},
   "outputs": [
    {
     "data": {
      "text/plain": [
       "'Positive!'"
      ]
     },
     "execution_count": 33,
     "metadata": {},
     "output_type": "execute_result"
    }
   ],
   "source": [
    "feststellen_nummer(40)"
   ]
  },
  {
   "cell_type": "code",
   "execution_count": 36,
   "id": "b2bdb8c2",
   "metadata": {},
   "outputs": [
    {
     "data": {
      "text/plain": [
       "'Es ist null!'"
      ]
     },
     "execution_count": 36,
     "metadata": {},
     "output_type": "execute_result"
    }
   ],
   "source": [
    "feststellen_nummer(0)"
   ]
  },
  {
   "cell_type": "code",
   "execution_count": 37,
   "id": "4ebb8bf9",
   "metadata": {},
   "outputs": [],
   "source": [
    "def prep_dict(name, age, occupation):\n",
    "    \n",
    "    dict = {\"name\": name, \"age\": age, \"occupation\": occupation}\n",
    "    return dict"
   ]
  },
  {
   "cell_type": "code",
   "execution_count": 40,
   "id": "546e8d46",
   "metadata": {},
   "outputs": [],
   "source": [
    "info_dict = prep_dict(\"Ali\", 29, \"Engineer\")"
   ]
  },
  {
   "cell_type": "code",
   "execution_count": 41,
   "id": "1f18ef79",
   "metadata": {},
   "outputs": [
    {
     "data": {
      "text/plain": [
       "{'name': 'Ali', 'age': 29, 'occupation': 'Engineer'}"
      ]
     },
     "execution_count": 41,
     "metadata": {},
     "output_type": "execute_result"
    }
   ],
   "source": [
    "info_dict"
   ]
  },
  {
   "cell_type": "code",
   "execution_count": 43,
   "id": "0f26f103",
   "metadata": {},
   "outputs": [],
   "source": [
    "def name_list(name, num_elements):\n",
    "    \n",
    "    my_list = []\n",
    "    \n",
    "    for i in range(num_elements):\n",
    "        my_list.append(name)\n",
    "    \n",
    "    return my_list"
   ]
  },
  {
   "cell_type": "code",
   "execution_count": 44,
   "id": "092e5d7b",
   "metadata": {},
   "outputs": [
    {
     "data": {
      "text/plain": [
       "['Iris', 'Iris', 'Iris', 'Iris', 'Iris']"
      ]
     },
     "execution_count": 44,
     "metadata": {},
     "output_type": "execute_result"
    }
   ],
   "source": [
    "some_list = name_list(\"Iris\", 5)\n",
    "some_list"
   ]
  },
  {
   "cell_type": "code",
   "execution_count": 45,
   "id": "1c8ddf94",
   "metadata": {},
   "outputs": [],
   "source": [
    "def generate_list(name, items):\n",
    "    return[name for i in range(items)]"
   ]
  },
  {
   "cell_type": "code",
   "execution_count": 46,
   "id": "7d3dc48a",
   "metadata": {},
   "outputs": [],
   "source": [
    "new_list = generate_list('Sunflower', 4)"
   ]
  },
  {
   "cell_type": "code",
   "execution_count": 47,
   "id": "7bbb2317",
   "metadata": {},
   "outputs": [
    {
     "data": {
      "text/plain": [
       "['Sunflower', 'Sunflower', 'Sunflower', 'Sunflower']"
      ]
     },
     "execution_count": 47,
     "metadata": {},
     "output_type": "execute_result"
    }
   ],
   "source": [
    "new_list"
   ]
  },
  {
   "cell_type": "code",
   "execution_count": 48,
   "id": "addf2741",
   "metadata": {},
   "outputs": [],
   "source": [
    "def add(a, b):\n",
    "    return a + b"
   ]
  },
  {
   "cell_type": "code",
   "execution_count": 49,
   "id": "1c8e030c",
   "metadata": {},
   "outputs": [],
   "source": [
    "def sub(a, b):\n",
    "    return a - b"
   ]
  },
  {
   "cell_type": "code",
   "execution_count": 50,
   "id": "6dd1fddd",
   "metadata": {},
   "outputs": [],
   "source": [
    "def mul(a, b):\n",
    "    return a * b"
   ]
  },
  {
   "cell_type": "code",
   "execution_count": 51,
   "id": "854d4d75",
   "metadata": {},
   "outputs": [],
   "source": [
    "def div(a, b):\n",
    "    return a / b"
   ]
  },
  {
   "cell_type": "code",
   "execution_count": 53,
   "id": "fda92517",
   "metadata": {},
   "outputs": [
    {
     "data": {
      "text/plain": [
       "24"
      ]
     },
     "execution_count": 53,
     "metadata": {},
     "output_type": "execute_result"
    }
   ],
   "source": [
    "x = add(10, 14)\n",
    "x"
   ]
  },
  {
   "cell_type": "code",
   "execution_count": 54,
   "id": "aae42cf5",
   "metadata": {},
   "outputs": [],
   "source": [
    "def calculate(a, b, operator):\n",
    "    \n",
    "    if operator == \"add\":\n",
    "        return add(a, b)\n",
    "    if operator == \"sub\":\n",
    "        return sub(a, b)\n",
    "    if operator == \"mul\":\n",
    "        return mul(a, b)\n",
    "    if operator == \"div\":\n",
    "        return div(a, b)"
   ]
  },
  {
   "cell_type": "code",
   "execution_count": 55,
   "id": "b444e882",
   "metadata": {},
   "outputs": [
    {
     "data": {
      "text/plain": [
       "15"
      ]
     },
     "execution_count": 55,
     "metadata": {},
     "output_type": "execute_result"
    }
   ],
   "source": [
    "calculate(3, 5, \"mul\")"
   ]
  },
  {
   "cell_type": "code",
   "execution_count": null,
   "id": "30d734ff",
   "metadata": {},
   "outputs": [],
   "source": []
  },
  {
   "cell_type": "code",
   "execution_count": null,
   "id": "580017f3",
   "metadata": {},
   "outputs": [],
   "source": []
  },
  {
   "cell_type": "code",
   "execution_count": null,
   "id": "ded27fa0",
   "metadata": {},
   "outputs": [],
   "source": []
  },
  {
   "cell_type": "code",
   "execution_count": null,
   "id": "0c622a29",
   "metadata": {},
   "outputs": [],
   "source": []
  }
 ],
 "metadata": {
  "kernelspec": {
   "display_name": "Python 3 (ipykernel)",
   "language": "python",
   "name": "python3"
  },
  "language_info": {
   "codemirror_mode": {
    "name": "ipython",
    "version": 3
   },
   "file_extension": ".py",
   "mimetype": "text/x-python",
   "name": "python",
   "nbconvert_exporter": "python",
   "pygments_lexer": "ipython3",
   "version": "3.11.5"
  }
 },
 "nbformat": 4,
 "nbformat_minor": 5
}
