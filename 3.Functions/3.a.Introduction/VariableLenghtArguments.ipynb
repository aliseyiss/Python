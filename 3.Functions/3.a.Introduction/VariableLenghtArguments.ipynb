{
 "cells": [
  {
   "cell_type": "code",
   "execution_count": 1,
   "id": "507bd7e1",
   "metadata": {},
   "outputs": [],
   "source": [
    "def print_fn(*args):\n",
    "    \n",
    "    args_type = type(args)\n",
    "    print(args_type)\n",
    "    \n",
    "    print(args)"
   ]
  },
  {
   "cell_type": "code",
   "execution_count": 3,
   "id": "907802c6",
   "metadata": {},
   "outputs": [
    {
     "name": "stdout",
     "output_type": "stream",
     "text": [
      "<class 'tuple'>\n",
      "()\n"
     ]
    }
   ],
   "source": [
    "print_fn()"
   ]
  },
  {
   "cell_type": "code",
   "execution_count": 4,
   "id": "d8e7dafb",
   "metadata": {},
   "outputs": [
    {
     "name": "stdout",
     "output_type": "stream",
     "text": [
      "<class 'tuple'>\n",
      "('Ali', 'Seref', 'Murat')\n"
     ]
    }
   ],
   "source": [
    "print_fn(\"Ali\", \"Seref\", \"Murat\")"
   ]
  },
  {
   "cell_type": "code",
   "execution_count": 5,
   "id": "e3fa5271",
   "metadata": {},
   "outputs": [],
   "source": [
    "def print_me(*args):\n",
    "    \n",
    "    args_type = type(args)\n",
    "    print(args_type)\n",
    "    \n",
    "    print(args)"
   ]
  },
  {
   "cell_type": "code",
   "execution_count": 6,
   "id": "78e62a29",
   "metadata": {},
   "outputs": [
    {
     "name": "stdout",
     "output_type": "stream",
     "text": [
      "<class 'tuple'>\n",
      "(1, 'me')\n"
     ]
    }
   ],
   "source": [
    "print_me(1, \"me\")"
   ]
  },
  {
   "cell_type": "code",
   "execution_count": 7,
   "id": "7b7a8430",
   "metadata": {},
   "outputs": [
    {
     "name": "stdout",
     "output_type": "stream",
     "text": [
      "<class 'tuple'>\n",
      "(['ali', 'mike', 'paras'],)\n"
     ]
    }
   ],
   "source": [
    "name_list = [\"ali\", \"mike\", \"paras\"]\n",
    "print_fn(name_list)"
   ]
  },
  {
   "cell_type": "code",
   "execution_count": 8,
   "id": "d8e80815",
   "metadata": {},
   "outputs": [
    {
     "name": "stdout",
     "output_type": "stream",
     "text": [
      "<class 'tuple'>\n",
      "('ali', 'mike', 'paras')\n"
     ]
    }
   ],
   "source": [
    "print_fn(*name_list)"
   ]
  },
  {
   "cell_type": "code",
   "execution_count": 10,
   "id": "a2573a60",
   "metadata": {},
   "outputs": [
    {
     "name": "stdout",
     "output_type": "stream",
     "text": [
      "<class 'tuple'>\n",
      "(['ali', 'mike', 'paras'],)\n"
     ]
    }
   ],
   "source": [
    "print_fn(name_list)"
   ]
  },
  {
   "cell_type": "code",
   "execution_count": 11,
   "id": "cdaf499e",
   "metadata": {},
   "outputs": [
    {
     "name": "stdout",
     "output_type": "stream",
     "text": [
      "['ali', 'mike', 'paras']\n"
     ]
    }
   ],
   "source": [
    "print(name_list)"
   ]
  },
  {
   "cell_type": "code",
   "execution_count": 12,
   "id": "732a9543",
   "metadata": {},
   "outputs": [
    {
     "name": "stdout",
     "output_type": "stream",
     "text": [
      "ali mike paras\n"
     ]
    }
   ],
   "source": [
    "print(*name_list)"
   ]
  },
  {
   "cell_type": "code",
   "execution_count": 13,
   "id": "a28ca021",
   "metadata": {},
   "outputs": [],
   "source": [
    "def student_in_collage(collage, city, *studentname):\n",
    "    \n",
    "    print(\"Collage: \", collage)\n",
    "    print(\"City: \", city)\n",
    "    print(\"Student: \", studentname)"
   ]
  },
  {
   "cell_type": "code",
   "execution_count": 14,
   "id": "3f477b37",
   "metadata": {},
   "outputs": [
    {
     "name": "stdout",
     "output_type": "stream",
     "text": [
      "Collage:  Colombia\n",
      "City:  New York\n",
      "Student:  ()\n"
     ]
    }
   ],
   "source": [
    "student_in_collage(\"Colombia\", \"New York\")"
   ]
  },
  {
   "cell_type": "code",
   "execution_count": 15,
   "id": "e7964eb4",
   "metadata": {},
   "outputs": [
    {
     "name": "stdout",
     "output_type": "stream",
     "text": [
      "Collage:  MIT\n",
      "City:  Georgia\n",
      "Student:  ('Leo', 'Anna')\n"
     ]
    }
   ],
   "source": [
    "student_in_collage(\"MIT\", \"Georgia\", \"Leo\", \"Anna\")"
   ]
  },
  {
   "cell_type": "code",
   "execution_count": null,
   "id": "c8d96040",
   "metadata": {},
   "outputs": [],
   "source": []
  },
  {
   "cell_type": "code",
   "execution_count": null,
   "id": "dbd9db32",
   "metadata": {},
   "outputs": [],
   "source": []
  },
  {
   "cell_type": "code",
   "execution_count": null,
   "id": "f5f4d4d5",
   "metadata": {},
   "outputs": [],
   "source": []
  },
  {
   "cell_type": "code",
   "execution_count": null,
   "id": "1d282100",
   "metadata": {},
   "outputs": [],
   "source": []
  },
  {
   "cell_type": "code",
   "execution_count": null,
   "id": "7d4ddbae",
   "metadata": {},
   "outputs": [],
   "source": []
  },
  {
   "cell_type": "code",
   "execution_count": null,
   "id": "a6c8c52e",
   "metadata": {},
   "outputs": [],
   "source": []
  },
  {
   "cell_type": "code",
   "execution_count": null,
   "id": "bd468841",
   "metadata": {},
   "outputs": [],
   "source": []
  },
  {
   "cell_type": "code",
   "execution_count": null,
   "id": "b38d36d6",
   "metadata": {},
   "outputs": [],
   "source": []
  },
  {
   "cell_type": "code",
   "execution_count": null,
   "id": "11f3be9c",
   "metadata": {},
   "outputs": [],
   "source": []
  },
  {
   "cell_type": "code",
   "execution_count": null,
   "id": "41fbf15b",
   "metadata": {},
   "outputs": [],
   "source": []
  },
  {
   "cell_type": "code",
   "execution_count": null,
   "id": "744f90ff",
   "metadata": {},
   "outputs": [],
   "source": []
  },
  {
   "cell_type": "code",
   "execution_count": null,
   "id": "b130f5db",
   "metadata": {},
   "outputs": [],
   "source": []
  },
  {
   "cell_type": "code",
   "execution_count": null,
   "id": "766a02a4",
   "metadata": {},
   "outputs": [],
   "source": []
  },
  {
   "cell_type": "code",
   "execution_count": null,
   "id": "d2dc3885",
   "metadata": {},
   "outputs": [],
   "source": []
  },
  {
   "cell_type": "code",
   "execution_count": null,
   "id": "4bae2e7e",
   "metadata": {},
   "outputs": [],
   "source": []
  }
 ],
 "metadata": {
  "kernelspec": {
   "display_name": "Python 3 (ipykernel)",
   "language": "python",
   "name": "python3"
  },
  "language_info": {
   "codemirror_mode": {
    "name": "ipython",
    "version": 3
   },
   "file_extension": ".py",
   "mimetype": "text/x-python",
   "name": "python",
   "nbconvert_exporter": "python",
   "pygments_lexer": "ipython3",
   "version": "3.11.5"
  }
 },
 "nbformat": 4,
 "nbformat_minor": 5
}
