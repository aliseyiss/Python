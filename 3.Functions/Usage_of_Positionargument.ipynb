{
 "cells": [
  {
   "cell_type": "code",
   "execution_count": 1,
   "id": "43e2b37b",
   "metadata": {},
   "outputs": [],
   "source": [
    "def Ausdrücken_mal(string, mal):\n",
    "    \n",
    "    for i in range(mal):\n",
    "        print(string)"
   ]
  },
  {
   "cell_type": "code",
   "execution_count": 3,
   "id": "06bbf479",
   "metadata": {},
   "outputs": [
    {
     "name": "stdout",
     "output_type": "stream",
     "text": [
      "How U doing?\n",
      "How U doing?\n",
      "How U doing?\n",
      "How U doing?\n",
      "How U doing?\n"
     ]
    }
   ],
   "source": [
    "Ausdrücken_mal(\"How U doing?\", 5)"
   ]
  },
  {
   "cell_type": "code",
   "execution_count": 4,
   "id": "0c6ef08e",
   "metadata": {},
   "outputs": [],
   "source": [
    "def print_many_times_doc(string, times):\n",
    "    \"\"\" \n",
    "        Prints the specified string the specified number of times\n",
    "        \n",
    "        The first argument is the string you want printed, the second\n",
    "        argument is the number of times you want the string printed\n",
    "        \n",
    "        Parameters (both required):\n",
    "        string(str): The string to be printed\n",
    "        times(int): The number of times the string should be printed\n",
    "        \n",
    "        Returns:\n",
    "        No return value\n",
    "        \n",
    "    \"\"\"\n",
    "    for i in range(times):\n",
    "        print(string)"
   ]
  },
  {
   "cell_type": "code",
   "execution_count": 5,
   "id": "286a1359",
   "metadata": {},
   "outputs": [
    {
     "data": {
      "text/plain": [
       "' \\n        Prints the specified string the specified number of times\\n        \\n        The first argument is the string you want printed, the second\\n        argument is the number of times you want the string printed\\n        \\n        Parameters (both required):\\n        string(str): The string to be printed\\n        times(int): The number of times the string should be printed\\n        \\n        Returns:\\n        No return value\\n        \\n    '"
      ]
     },
     "execution_count": 5,
     "metadata": {},
     "output_type": "execute_result"
    }
   ],
   "source": [
    "print_many_times_doc.__doc__"
   ]
  },
  {
   "cell_type": "code",
   "execution_count": 6,
   "id": "b0e035cd",
   "metadata": {},
   "outputs": [
    {
     "name": "stdout",
     "output_type": "stream",
     "text": [
      "<function print_many_times_doc at 0x00000177869367A0>\n"
     ]
    }
   ],
   "source": [
    "print(print_many_times_doc)"
   ]
  },
  {
   "cell_type": "code",
   "execution_count": 7,
   "id": "f97e1c01",
   "metadata": {},
   "outputs": [
    {
     "name": "stdout",
     "output_type": "stream",
     "text": [
      " \n",
      "        Prints the specified string the specified number of times\n",
      "        \n",
      "        The first argument is the string you want printed, the second\n",
      "        argument is the number of times you want the string printed\n",
      "        \n",
      "        Parameters (both required):\n",
      "        string(str): The string to be printed\n",
      "        times(int): The number of times the string should be printed\n",
      "        \n",
      "        Returns:\n",
      "        No return value\n",
      "        \n",
      "    \n"
     ]
    }
   ],
   "source": [
    "print(print_many_times_doc.__doc__)"
   ]
  },
  {
   "cell_type": "code",
   "execution_count": 8,
   "id": "c9416a0e",
   "metadata": {},
   "outputs": [],
   "source": [
    "def print_higher_nummer(a, b):\n",
    "    if a>b:\n",
    "        print(a, \" is greater than \", b)\n",
    "    else :\n",
    "        print(b, \" is greater than \", a)"
   ]
  },
  {
   "cell_type": "code",
   "execution_count": 9,
   "id": "74bdecd8",
   "metadata": {},
   "outputs": [
    {
     "name": "stdout",
     "output_type": "stream",
     "text": [
      "20  is greater than  10\n"
     ]
    }
   ],
   "source": [
    "print_higher_nummer(10, 20)"
   ]
  },
  {
   "cell_type": "code",
   "execution_count": 10,
   "id": "2bfd8163",
   "metadata": {},
   "outputs": [],
   "source": [
    "def vermehren(n1, n2, n3):\n",
    "    print(\"Das ergebnis des Multiplizierens: \", n1*n2*n3)"
   ]
  },
  {
   "cell_type": "code",
   "execution_count": 11,
   "id": "161a3e64",
   "metadata": {},
   "outputs": [
    {
     "name": "stdout",
     "output_type": "stream",
     "text": [
      "Das ergebnis des Multiplizierens:  24\n"
     ]
    }
   ],
   "source": [
    "vermehren(2,3,4)"
   ]
  },
  {
   "cell_type": "code",
   "execution_count": null,
   "id": "dcb86e72",
   "metadata": {},
   "outputs": [],
   "source": []
  },
  {
   "cell_type": "code",
   "execution_count": null,
   "id": "38abe8aa",
   "metadata": {},
   "outputs": [],
   "source": []
  },
  {
   "cell_type": "code",
   "execution_count": null,
   "id": "4ca4444f",
   "metadata": {},
   "outputs": [],
   "source": []
  },
  {
   "cell_type": "code",
   "execution_count": null,
   "id": "17333c23",
   "metadata": {},
   "outputs": [],
   "source": []
  },
  {
   "cell_type": "code",
   "execution_count": null,
   "id": "22ed633c",
   "metadata": {},
   "outputs": [],
   "source": []
  },
  {
   "cell_type": "code",
   "execution_count": null,
   "id": "8f9276e2",
   "metadata": {},
   "outputs": [],
   "source": []
  },
  {
   "cell_type": "code",
   "execution_count": null,
   "id": "96b28970",
   "metadata": {},
   "outputs": [],
   "source": []
  },
  {
   "cell_type": "code",
   "execution_count": null,
   "id": "d8ca5b1a",
   "metadata": {},
   "outputs": [],
   "source": []
  },
  {
   "cell_type": "code",
   "execution_count": null,
   "id": "e0a1271d",
   "metadata": {},
   "outputs": [],
   "source": []
  },
  {
   "cell_type": "code",
   "execution_count": null,
   "id": "7416e447",
   "metadata": {},
   "outputs": [],
   "source": []
  },
  {
   "cell_type": "code",
   "execution_count": null,
   "id": "45bdc0c7",
   "metadata": {},
   "outputs": [],
   "source": []
  },
  {
   "cell_type": "code",
   "execution_count": null,
   "id": "c8027a47",
   "metadata": {},
   "outputs": [],
   "source": []
  },
  {
   "cell_type": "code",
   "execution_count": null,
   "id": "c09d8ff8",
   "metadata": {},
   "outputs": [],
   "source": []
  },
  {
   "cell_type": "code",
   "execution_count": null,
   "id": "ccdc74df",
   "metadata": {},
   "outputs": [],
   "source": []
  },
  {
   "cell_type": "code",
   "execution_count": null,
   "id": "4568f185",
   "metadata": {},
   "outputs": [],
   "source": []
  }
 ],
 "metadata": {
  "kernelspec": {
   "display_name": "Python 3 (ipykernel)",
   "language": "python",
   "name": "python3"
  },
  "language_info": {
   "codemirror_mode": {
    "name": "ipython",
    "version": 3
   },
   "file_extension": ".py",
   "mimetype": "text/x-python",
   "name": "python",
   "nbconvert_exporter": "python",
   "pygments_lexer": "ipython3",
   "version": "3.11.5"
  }
 },
 "nbformat": 4,
 "nbformat_minor": 5
}
