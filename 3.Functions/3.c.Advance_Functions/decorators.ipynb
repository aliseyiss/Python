{
 "cells": [
  {
   "cell_type": "code",
   "execution_count": 1,
   "id": "3d49b6fa",
   "metadata": {},
   "outputs": [],
   "source": [
    "import random\n",
    "\n",
    "def make_highlighted(func):\n",
    "    \n",
    "    annotations = ['-', '+', '*', '§', '°', '^']\n",
    "    annotate = random.choice(annotations)\n",
    "    \n",
    "    def  highlight():\n",
    "        print(annotate * 50)\n",
    "        func()\n",
    "        print(annotate * 50)\n",
    "        \n",
    "    return highlight()"
   ]
  },
  {
   "cell_type": "code",
   "execution_count": 2,
   "id": "36926053",
   "metadata": {},
   "outputs": [],
   "source": [
    "def print_another_massage():\n",
    "    print(\"Did you know? Decorators use closures.\")"
   ]
  },
  {
   "cell_type": "code",
   "execution_count": 4,
   "id": "f8abc2bf",
   "metadata": {},
   "outputs": [
    {
     "name": "stdout",
     "output_type": "stream",
     "text": [
      "^^^^^^^^^^^^^^^^^^^^^^^^^^^^^^^^^^^^^^^^^^^^^^^^^^\n",
      "Did you know? Decorators use closures.\n",
      "^^^^^^^^^^^^^^^^^^^^^^^^^^^^^^^^^^^^^^^^^^^^^^^^^^\n"
     ]
    },
    {
     "ename": "TypeError",
     "evalue": "'NoneType' object is not callable",
     "output_type": "error",
     "traceback": [
      "\u001b[1;31m---------------------------------------------------------------------------\u001b[0m",
      "\u001b[1;31mTypeError\u001b[0m                                 Traceback (most recent call last)",
      "Cell \u001b[1;32mIn[4], line 2\u001b[0m\n\u001b[0;32m      1\u001b[0m highlight_print_massage \u001b[38;5;241m=\u001b[39m make_highlighted(print_another_massage)\n\u001b[1;32m----> 2\u001b[0m highlight_print_massage()\n",
      "\u001b[1;31mTypeError\u001b[0m: 'NoneType' object is not callable"
     ]
    }
   ],
   "source": [
    "highlight_print_massage = make_highlighted(print_another_massage)\n",
    "highlight_print_massage()"
   ]
  },
  {
   "cell_type": "code",
   "execution_count": 5,
   "id": "2975d667",
   "metadata": {},
   "outputs": [
    {
     "name": "stdout",
     "output_type": "stream",
     "text": [
      "§§§§§§§§§§§§§§§§§§§§§§§§§§§§§§§§§§§§§§§§§§§§§§§§§§\n",
      "Now you will see how decorators are used\n",
      "§§§§§§§§§§§§§§§§§§§§§§§§§§§§§§§§§§§§§§§§§§§§§§§§§§\n"
     ]
    }
   ],
   "source": [
    "@make_highlighted\n",
    "def print_a_third_massage():\n",
    "    print(\"Now you will see how decorators are used\")"
   ]
  },
  {
   "cell_type": "code",
   "execution_count": 11,
   "id": "981e50f9",
   "metadata": {},
   "outputs": [],
   "source": [
    "import math\n",
    "\n",
    "def area_circle(r):\n",
    "    return 2 * math.pi * r\n",
    "def perimeter_circle(r):\n",
    "    return 2 * r\n",
    "def diameter_circle(r):\n",
    "    return math.pi * r * r"
   ]
  },
  {
   "cell_type": "code",
   "execution_count": 14,
   "id": "a532ca1c",
   "metadata": {},
   "outputs": [
    {
     "data": {
      "text/plain": [
       "78.53981633974483"
      ]
     },
     "execution_count": 14,
     "metadata": {},
     "output_type": "execute_result"
    }
   ],
   "source": [
    "diameter_circle(5)"
   ]
  },
  {
   "cell_type": "code",
   "execution_count": 15,
   "id": "8e8afdcb",
   "metadata": {},
   "outputs": [
    {
     "data": {
      "text/plain": [
       "-6.283185307179586"
      ]
     },
     "execution_count": 15,
     "metadata": {},
     "output_type": "execute_result"
    }
   ],
   "source": [
    "area_circle(-1)"
   ]
  },
  {
   "cell_type": "code",
   "execution_count": 16,
   "id": "d9c9882e",
   "metadata": {},
   "outputs": [],
   "source": [
    "def safe_calculate(func):\n",
    "    \n",
    "    def calculate(r):\n",
    "        if r < 0:\n",
    "            raise ValueError(\"Radius cannot be negative or zero\")\n",
    "        return func(r)\n",
    "    \n",
    "    return calculate"
   ]
  },
  {
   "cell_type": "code",
   "execution_count": 17,
   "id": "0eb80cbd",
   "metadata": {},
   "outputs": [
    {
     "ename": "SyntaxError",
     "evalue": "invalid syntax (3485225149.py, line 2)",
     "output_type": "error",
     "traceback": [
      "\u001b[1;36m  Cell \u001b[1;32mIn[17], line 2\u001b[1;36m\u001b[0m\n\u001b[1;33m    area_circle(4)\u001b[0m\n\u001b[1;37m    ^\u001b[0m\n\u001b[1;31mSyntaxError\u001b[0m\u001b[1;31m:\u001b[0m invalid syntax\n"
     ]
    }
   ],
   "source": [
    "@safe_calculate\n",
    "area_circle(4)"
   ]
  },
  {
   "cell_type": "code",
   "execution_count": 18,
   "id": "64da3b93",
   "metadata": {},
   "outputs": [],
   "source": [
    "area_circle_safe = safe_calculate(area_circle)"
   ]
  },
  {
   "cell_type": "code",
   "execution_count": 19,
   "id": "b03338b9",
   "metadata": {},
   "outputs": [
    {
     "data": {
      "text/plain": [
       "31.41592653589793"
      ]
     },
     "execution_count": 19,
     "metadata": {},
     "output_type": "execute_result"
    }
   ],
   "source": [
    "area_circle_safe(5)"
   ]
  },
  {
   "cell_type": "code",
   "execution_count": 20,
   "id": "e1b94c54",
   "metadata": {},
   "outputs": [
    {
     "ename": "ValueError",
     "evalue": "Radius cannot be negative or zero",
     "output_type": "error",
     "traceback": [
      "\u001b[1;31m---------------------------------------------------------------------------\u001b[0m",
      "\u001b[1;31mValueError\u001b[0m                                Traceback (most recent call last)",
      "Cell \u001b[1;32mIn[20], line 1\u001b[0m\n\u001b[1;32m----> 1\u001b[0m area_circle_safe(\u001b[38;5;241m-\u001b[39m\u001b[38;5;241m1\u001b[39m)\n",
      "Cell \u001b[1;32mIn[16], line 4\u001b[0m, in \u001b[0;36msafe_calculate.<locals>.calculate\u001b[1;34m(r)\u001b[0m\n\u001b[0;32m      2\u001b[0m \u001b[38;5;28;01mdef\u001b[39;00m \u001b[38;5;21mcalculate\u001b[39m(r):\n\u001b[0;32m      3\u001b[0m     \u001b[38;5;28;01mif\u001b[39;00m r \u001b[38;5;241m<\u001b[39m \u001b[38;5;241m0\u001b[39m:\n\u001b[1;32m----> 4\u001b[0m         \u001b[38;5;28;01mraise\u001b[39;00m \u001b[38;5;167;01mValueError\u001b[39;00m(\u001b[38;5;124m\"\u001b[39m\u001b[38;5;124mRadius cannot be negative or zero\u001b[39m\u001b[38;5;124m\"\u001b[39m)\n\u001b[0;32m      5\u001b[0m     \u001b[38;5;28;01mreturn\u001b[39;00m func(r)\n",
      "\u001b[1;31mValueError\u001b[0m: Radius cannot be negative or zero"
     ]
    }
   ],
   "source": [
    "area_circle_safe(-1)"
   ]
  },
  {
   "cell_type": "code",
   "execution_count": 21,
   "id": "4c2fdf49",
   "metadata": {},
   "outputs": [],
   "source": [
    "@safe_calculate\n",
    "def area_circle(r):\n",
    "    return 2 * math.pi * r\n",
    "@safe_calculate\n",
    "def perimeter_circle(r):\n",
    "    return 2 * r\n",
    "@safe_calculate\n",
    "def diameter_circle(r):\n",
    "    return math.pi * r * r"
   ]
  },
  {
   "cell_type": "code",
   "execution_count": 22,
   "id": "12c05732",
   "metadata": {},
   "outputs": [
    {
     "data": {
      "text/plain": [
       "31.41592653589793"
      ]
     },
     "execution_count": 22,
     "metadata": {},
     "output_type": "execute_result"
    }
   ],
   "source": [
    "area_circle(5)"
   ]
  },
  {
   "cell_type": "code",
   "execution_count": 23,
   "id": "0e653270",
   "metadata": {},
   "outputs": [
    {
     "ename": "ValueError",
     "evalue": "Radius cannot be negative or zero",
     "output_type": "error",
     "traceback": [
      "\u001b[1;31m---------------------------------------------------------------------------\u001b[0m",
      "\u001b[1;31mValueError\u001b[0m                                Traceback (most recent call last)",
      "Cell \u001b[1;32mIn[23], line 1\u001b[0m\n\u001b[1;32m----> 1\u001b[0m area_circle(\u001b[38;5;241m-\u001b[39m\u001b[38;5;241m2\u001b[39m)\n",
      "Cell \u001b[1;32mIn[16], line 4\u001b[0m, in \u001b[0;36msafe_calculate.<locals>.calculate\u001b[1;34m(r)\u001b[0m\n\u001b[0;32m      2\u001b[0m \u001b[38;5;28;01mdef\u001b[39;00m \u001b[38;5;21mcalculate\u001b[39m(r):\n\u001b[0;32m      3\u001b[0m     \u001b[38;5;28;01mif\u001b[39;00m r \u001b[38;5;241m<\u001b[39m \u001b[38;5;241m0\u001b[39m:\n\u001b[1;32m----> 4\u001b[0m         \u001b[38;5;28;01mraise\u001b[39;00m \u001b[38;5;167;01mValueError\u001b[39;00m(\u001b[38;5;124m\"\u001b[39m\u001b[38;5;124mRadius cannot be negative or zero\u001b[39m\u001b[38;5;124m\"\u001b[39m)\n\u001b[0;32m      5\u001b[0m     \u001b[38;5;28;01mreturn\u001b[39;00m func(r)\n",
      "\u001b[1;31mValueError\u001b[0m: Radius cannot be negative or zero"
     ]
    }
   ],
   "source": [
    "area_circle(-2)"
   ]
  },
  {
   "cell_type": "code",
   "execution_count": 25,
   "id": "423da94f",
   "metadata": {},
   "outputs": [],
   "source": [
    "def safe_calculate_all(func):\n",
    "    \n",
    "    def calculate(*args):\n",
    "        for arg in args:\n",
    "            if arg < 0:\n",
    "                raise ValueError(\"Radius cannot be negative or zero\")\n",
    "        \n",
    "        return func(*args)\n",
    "    \n",
    "    return calculate"
   ]
  },
  {
   "cell_type": "code",
   "execution_count": 27,
   "id": "5f81f0a2",
   "metadata": {},
   "outputs": [],
   "source": [
    "@safe_calculate_all\n",
    "def area_rectangle_fn(lenght, breadth):\n",
    "    return lenght * breadth"
   ]
  },
  {
   "cell_type": "code",
   "execution_count": 28,
   "id": "2bcfe872",
   "metadata": {},
   "outputs": [
    {
     "data": {
      "text/plain": [
       "20"
      ]
     },
     "execution_count": 28,
     "metadata": {},
     "output_type": "execute_result"
    }
   ],
   "source": [
    "area_rectangle_fn(4,5)"
   ]
  },
  {
   "cell_type": "code",
   "execution_count": 30,
   "id": "7fe86405",
   "metadata": {},
   "outputs": [
    {
     "ename": "ValueError",
     "evalue": "Radius cannot be negative or zero",
     "output_type": "error",
     "traceback": [
      "\u001b[1;31m---------------------------------------------------------------------------\u001b[0m",
      "\u001b[1;31mValueError\u001b[0m                                Traceback (most recent call last)",
      "Cell \u001b[1;32mIn[30], line 1\u001b[0m\n\u001b[1;32m----> 1\u001b[0m area_rectangle_fn(\u001b[38;5;241m-\u001b[39m\u001b[38;5;241m2\u001b[39m,\u001b[38;5;241m5\u001b[39m)\n",
      "Cell \u001b[1;32mIn[25], line 6\u001b[0m, in \u001b[0;36msafe_calculate_all.<locals>.calculate\u001b[1;34m(*args)\u001b[0m\n\u001b[0;32m      4\u001b[0m \u001b[38;5;28;01mfor\u001b[39;00m arg \u001b[38;5;129;01min\u001b[39;00m args:\n\u001b[0;32m      5\u001b[0m     \u001b[38;5;28;01mif\u001b[39;00m arg \u001b[38;5;241m<\u001b[39m \u001b[38;5;241m0\u001b[39m:\n\u001b[1;32m----> 6\u001b[0m         \u001b[38;5;28;01mraise\u001b[39;00m \u001b[38;5;167;01mValueError\u001b[39;00m(\u001b[38;5;124m\"\u001b[39m\u001b[38;5;124mRadius cannot be negative or zero\u001b[39m\u001b[38;5;124m\"\u001b[39m)\n\u001b[0;32m      8\u001b[0m \u001b[38;5;28;01mreturn\u001b[39;00m func(\u001b[38;5;241m*\u001b[39margs)\n",
      "\u001b[1;31mValueError\u001b[0m: Radius cannot be negative or zero"
     ]
    }
   ],
   "source": [
    "area_rectangle_fn(-2,5)"
   ]
  },
  {
   "cell_type": "code",
   "execution_count": null,
   "id": "33efc79e",
   "metadata": {},
   "outputs": [],
   "source": []
  }
 ],
 "metadata": {
  "kernelspec": {
   "display_name": "Python 3 (ipykernel)",
   "language": "python",
   "name": "python3"
  },
  "language_info": {
   "codemirror_mode": {
    "name": "ipython",
    "version": 3
   },
   "file_extension": ".py",
   "mimetype": "text/x-python",
   "name": "python",
   "nbconvert_exporter": "python",
   "pygments_lexer": "ipython3",
   "version": "3.11.5"
  }
 },
 "nbformat": 4,
 "nbformat_minor": 5
}
