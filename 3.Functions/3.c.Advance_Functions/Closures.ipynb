{
 "cells": [
  {
   "cell_type": "code",
   "execution_count": 22,
   "id": "a4fee686",
   "metadata": {},
   "outputs": [],
   "source": [
    "import random\n",
    "\n",
    "def greet_with_personal_massage(name, greet):\n",
    "    annotations=['+', '*', '-', '§', '#']\n",
    "    annotate=random.choice(annotations)\n",
    "    \n",
    "    def greet_ingredients():\n",
    "        print(annotate * 50)\n",
    "        print(greet, name)\n",
    "        print(annotate * 50)\n",
    "    \n",
    "    return greet_ingredients"
   ]
  },
  {
   "cell_type": "code",
   "execution_count": 25,
   "id": "f1906794",
   "metadata": {},
   "outputs": [
    {
     "name": "stdout",
     "output_type": "stream",
     "text": [
      "##################################################\n",
      "Hello there Jon\n",
      "##################################################\n"
     ]
    }
   ],
   "source": [
    "greet_jon_fn = greet_with_personal_massage('Jon', 'Hello there')\n",
    "greet_jon_fn()"
   ]
  },
  {
   "cell_type": "code",
   "execution_count": 32,
   "id": "0e8755d1",
   "metadata": {},
   "outputs": [],
   "source": [
    "def enroll_college_name(college):\n",
    "    student_list=[]\n",
    "    \n",
    "    def enroll_student(student_name):\n",
    "        student_list.append(student_name)\n",
    "        \n",
    "        print(student_name, \"has benn enrolled in \", college)\n",
    "        print(\"Current student list is \", student_list)\n",
    "        \n",
    "    return enroll_student"
   ]
  },
  {
   "cell_type": "code",
   "execution_count": 33,
   "id": "6fce5330",
   "metadata": {},
   "outputs": [],
   "source": [
    "enroll_in_yale_fn = enroll_college_name(\"Yale\")"
   ]
  },
  {
   "cell_type": "code",
   "execution_count": 34,
   "id": "598e73c3",
   "metadata": {},
   "outputs": [
    {
     "name": "stdout",
     "output_type": "stream",
     "text": [
      "Yavuz has benn enrolled in  Yale\n",
      "Current student list is  ['Yavuz']\n"
     ]
    }
   ],
   "source": [
    "enroll_in_yale_fn(\"Yavuz\")"
   ]
  },
  {
   "cell_type": "code",
   "execution_count": 36,
   "id": "24b295f5",
   "metadata": {},
   "outputs": [
    {
     "name": "stdout",
     "output_type": "stream",
     "text": [
      "Steve has benn enrolled in  Yale\n",
      "Current student list is  ['Yavuz', 'Steve']\n"
     ]
    }
   ],
   "source": [
    "enroll_in_yale_fn('Steve')"
   ]
  },
  {
   "cell_type": "code",
   "execution_count": null,
   "id": "94980188",
   "metadata": {},
   "outputs": [],
   "source": []
  }
 ],
 "metadata": {
  "kernelspec": {
   "display_name": "Python 3 (ipykernel)",
   "language": "python",
   "name": "python3"
  },
  "language_info": {
   "codemirror_mode": {
    "name": "ipython",
    "version": 3
   },
   "file_extension": ".py",
   "mimetype": "text/x-python",
   "name": "python",
   "nbconvert_exporter": "python",
   "pygments_lexer": "ipython3",
   "version": "3.11.5"
  }
 },
 "nbformat": 4,
 "nbformat_minor": 5
}
