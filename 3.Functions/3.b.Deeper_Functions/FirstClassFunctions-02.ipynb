{
 "cells": [
  {
   "cell_type": "code",
   "execution_count": null,
   "id": "e6f602e8",
   "metadata": {},
   "outputs": [],
   "source": [
    "#calculator"
   ]
  },
  {
   "cell_type": "code",
   "execution_count": 1,
   "id": "9bcba4e8",
   "metadata": {},
   "outputs": [],
   "source": [
    "def add(a, b):\n",
    "    return a + b"
   ]
  },
  {
   "cell_type": "code",
   "execution_count": 2,
   "id": "00dc10c6",
   "metadata": {},
   "outputs": [],
   "source": [
    "def sub(a, b):\n",
    "    return a - b"
   ]
  },
  {
   "cell_type": "code",
   "execution_count": 3,
   "id": "4b93df5e",
   "metadata": {},
   "outputs": [],
   "source": [
    "def mul(a, b):\n",
    "    return a * b"
   ]
  },
  {
   "cell_type": "code",
   "execution_count": 5,
   "id": "d5a73b62",
   "metadata": {},
   "outputs": [],
   "source": [
    "def div(a, b):\n",
    "    return a / b"
   ]
  },
  {
   "cell_type": "code",
   "execution_count": 16,
   "id": "81b7da89",
   "metadata": {},
   "outputs": [],
   "source": [
    "def get_function(operator=\"+\"):\n",
    "    \n",
    "    if operator == \"+\":\n",
    "        return add\n",
    "    \n",
    "    if operator == \"-\":\n",
    "        return sub\n",
    "    \n",
    "    if operator == \"*\":\n",
    "        return mul\n",
    "    \n",
    "    if operator == \"/\":\n",
    "        return div"
   ]
  },
  {
   "cell_type": "code",
   "execution_count": 9,
   "id": "31eef869",
   "metadata": {},
   "outputs": [],
   "source": [
    "func = get_function()"
   ]
  },
  {
   "cell_type": "code",
   "execution_count": 10,
   "id": "b43e294a",
   "metadata": {},
   "outputs": [
    {
     "data": {
      "text/plain": [
       "<function __main__.add(a, b)>"
      ]
     },
     "execution_count": 10,
     "metadata": {},
     "output_type": "execute_result"
    }
   ],
   "source": [
    "func"
   ]
  },
  {
   "cell_type": "code",
   "execution_count": 13,
   "id": "7ddbbfd5",
   "metadata": {},
   "outputs": [
    {
     "data": {
      "text/plain": [
       "7"
      ]
     },
     "execution_count": 13,
     "metadata": {},
     "output_type": "execute_result"
    }
   ],
   "source": [
    "func(3,4)"
   ]
  },
  {
   "cell_type": "code",
   "execution_count": 17,
   "id": "a4a6ba7f",
   "metadata": {},
   "outputs": [],
   "source": [
    "func = get_function('*')"
   ]
  },
  {
   "cell_type": "code",
   "execution_count": 18,
   "id": "61e04f05",
   "metadata": {},
   "outputs": [
    {
     "data": {
      "text/plain": [
       "12"
      ]
     },
     "execution_count": 18,
     "metadata": {},
     "output_type": "execute_result"
    }
   ],
   "source": [
    "func(3,4)"
   ]
  },
  {
   "cell_type": "code",
   "execution_count": 19,
   "id": "fc9ca56b",
   "metadata": {},
   "outputs": [],
   "source": [
    "cal_dict = {\n",
    "    '+': add,\n",
    "    '-': sub,\n",
    "    '*': mul,\n",
    "    '/': div\n",
    "}"
   ]
  },
  {
   "cell_type": "code",
   "execution_count": 20,
   "id": "2059b467",
   "metadata": {},
   "outputs": [
    {
     "data": {
      "text/plain": [
       "7"
      ]
     },
     "execution_count": 20,
     "metadata": {},
     "output_type": "execute_result"
    }
   ],
   "source": [
    "cal_dict['+'](3,4)"
   ]
  },
  {
   "cell_type": "code",
   "execution_count": 21,
   "id": "832c1c7a",
   "metadata": {},
   "outputs": [
    {
     "data": {
      "text/plain": [
       "{'+': <function __main__.add(a, b)>,\n",
       " '-': <function __main__.sub(a, b)>,\n",
       " '*': <function __main__.mul(a, b)>,\n",
       " '/': <function __main__.div(a, b)>}"
      ]
     },
     "execution_count": 21,
     "metadata": {},
     "output_type": "execute_result"
    }
   ],
   "source": [
    "cal_dict"
   ]
  },
  {
   "cell_type": "code",
   "execution_count": 22,
   "id": "23dfd0c0",
   "metadata": {},
   "outputs": [
    {
     "data": {
      "text/plain": [
       "300"
      ]
     },
     "execution_count": 22,
     "metadata": {},
     "output_type": "execute_result"
    }
   ],
   "source": [
    "cal_dict['*'](100,3)"
   ]
  },
  {
   "cell_type": "code",
   "execution_count": null,
   "id": "3346d763",
   "metadata": {},
   "outputs": [],
   "source": []
  },
  {
   "cell_type": "code",
   "execution_count": null,
   "id": "4d83956d",
   "metadata": {},
   "outputs": [],
   "source": []
  },
  {
   "cell_type": "code",
   "execution_count": null,
   "id": "13c9a795",
   "metadata": {},
   "outputs": [],
   "source": []
  },
  {
   "cell_type": "code",
   "execution_count": null,
   "id": "e20d4591",
   "metadata": {},
   "outputs": [],
   "source": []
  }
 ],
 "metadata": {
  "kernelspec": {
   "display_name": "Python 3 (ipykernel)",
   "language": "python",
   "name": "python3"
  },
  "language_info": {
   "codemirror_mode": {
    "name": "ipython",
    "version": 3
   },
   "file_extension": ".py",
   "mimetype": "text/x-python",
   "name": "python",
   "nbconvert_exporter": "python",
   "pygments_lexer": "ipython3",
   "version": "3.11.5"
  }
 },
 "nbformat": 4,
 "nbformat_minor": 5
}
