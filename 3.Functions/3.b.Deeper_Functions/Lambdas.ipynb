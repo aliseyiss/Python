{
 "cells": [
  {
   "cell_type": "code",
   "execution_count": 1,
   "id": "28d1bdf7",
   "metadata": {},
   "outputs": [],
   "source": [
    "cube_of = lambda x:x * x * x"
   ]
  },
  {
   "cell_type": "code",
   "execution_count": 2,
   "id": "948697b3",
   "metadata": {},
   "outputs": [
    {
     "data": {
      "text/plain": [
       "27"
      ]
     },
     "execution_count": 2,
     "metadata": {},
     "output_type": "execute_result"
    }
   ],
   "source": [
    "cube_of(3)"
   ]
  },
  {
   "cell_type": "code",
   "execution_count": 3,
   "id": "c0b39054",
   "metadata": {},
   "outputs": [
    {
     "data": {
      "text/plain": [
       "1000"
      ]
     },
     "execution_count": 3,
     "metadata": {},
     "output_type": "execute_result"
    }
   ],
   "source": [
    "cube_of(10)"
   ]
  },
  {
   "cell_type": "code",
   "execution_count": 4,
   "id": "a53da3ec",
   "metadata": {},
   "outputs": [],
   "source": [
    "add = lambda x, y:x + y"
   ]
  },
  {
   "cell_type": "code",
   "execution_count": 6,
   "id": "515dacd7",
   "metadata": {},
   "outputs": [
    {
     "data": {
      "text/plain": [
       "7"
      ]
     },
     "execution_count": 6,
     "metadata": {},
     "output_type": "execute_result"
    }
   ],
   "source": [
    "add(3,4)"
   ]
  },
  {
   "cell_type": "code",
   "execution_count": 7,
   "id": "4a9560a1",
   "metadata": {},
   "outputs": [],
   "source": [
    "sub = lambda x, y:x - y"
   ]
  },
  {
   "cell_type": "code",
   "execution_count": 8,
   "id": "d934e0fa",
   "metadata": {},
   "outputs": [],
   "source": [
    "mul = lambda x, y:x * y"
   ]
  },
  {
   "cell_type": "code",
   "execution_count": 9,
   "id": "5ed9a7f0",
   "metadata": {},
   "outputs": [],
   "source": [
    "div = lambda x,y: x/y"
   ]
  },
  {
   "cell_type": "code",
   "execution_count": 17,
   "id": "ab40a846",
   "metadata": {},
   "outputs": [],
   "source": [
    "def calculate(x, y, operation =\"add\"):\n",
    "    if operation == \"add\":\n",
    "        return add(x, y)\n",
    "    if operation == \"sub\":\n",
    "        return sub(x, y)\n",
    "    if operation == \"mul\":\n",
    "        return mul(x, y)\n",
    "    if operation == \"div\":\n",
    "        return div(x, y)"
   ]
  },
  {
   "cell_type": "code",
   "execution_count": 18,
   "id": "254bd39b",
   "metadata": {},
   "outputs": [
    {
     "data": {
      "text/plain": [
       "7"
      ]
     },
     "execution_count": 18,
     "metadata": {},
     "output_type": "execute_result"
    }
   ],
   "source": [
    "calculate(3, 4, \"add\")"
   ]
  },
  {
   "cell_type": "code",
   "execution_count": 14,
   "id": "e103b8db",
   "metadata": {},
   "outputs": [],
   "source": [
    "calculate(3, 4, add)"
   ]
  },
  {
   "cell_type": "code",
   "execution_count": 19,
   "id": "3ab56f1f",
   "metadata": {},
   "outputs": [
    {
     "data": {
      "text/plain": [
       "12"
      ]
     },
     "execution_count": 19,
     "metadata": {},
     "output_type": "execute_result"
    }
   ],
   "source": [
    "calculate(3, 4, \"mul\")"
   ]
  },
  {
   "cell_type": "code",
   "execution_count": 20,
   "id": "d575f051",
   "metadata": {},
   "outputs": [
    {
     "data": {
      "text/plain": [
       "15"
      ]
     },
     "execution_count": 20,
     "metadata": {},
     "output_type": "execute_result"
    }
   ],
   "source": [
    "calculate(10, 5)"
   ]
  },
  {
   "cell_type": "code",
   "execution_count": 22,
   "id": "e13f7a52",
   "metadata": {},
   "outputs": [
    {
     "data": {
      "text/plain": [
       "2.0"
      ]
     },
     "execution_count": 22,
     "metadata": {},
     "output_type": "execute_result"
    }
   ],
   "source": [
    "calculate(10,5,'div')"
   ]
  },
  {
   "cell_type": "code",
   "execution_count": 25,
   "id": "0e5466da",
   "metadata": {},
   "outputs": [],
   "source": [
    "def calculate(*args, operation =\"add\"):\n",
    "    if operation == \"add\":\n",
    "        return add(*args)\n",
    "    if operation == \"sub\":\n",
    "        return sub(*args)\n",
    "    if operation == \"mul\":\n",
    "        return mul(*args)\n",
    "    if operation == \"div\":\n",
    "        return div(*args)"
   ]
  },
  {
   "cell_type": "code",
   "execution_count": 27,
   "id": "33a38ddd",
   "metadata": {},
   "outputs": [
    {
     "data": {
      "text/plain": [
       "96"
      ]
     },
     "execution_count": 27,
     "metadata": {},
     "output_type": "execute_result"
    }
   ],
   "source": [
    "calculate(100, 4, operation='sub')"
   ]
  },
  {
   "cell_type": "code",
   "execution_count": 29,
   "id": "c713ecbf",
   "metadata": {},
   "outputs": [
    {
     "data": {
      "text/plain": [
       "100"
      ]
     },
     "execution_count": 29,
     "metadata": {},
     "output_type": "execute_result"
    }
   ],
   "source": [
    "calculate(20, 5, operation=\"mul\")"
   ]
  },
  {
   "cell_type": "code",
   "execution_count": 31,
   "id": "5ff89d4f",
   "metadata": {},
   "outputs": [],
   "source": [
    "def calculate(*args, operation=add):\n",
    "    return operation(*args)"
   ]
  },
  {
   "cell_type": "code",
   "execution_count": 32,
   "id": "986752cd",
   "metadata": {},
   "outputs": [
    {
     "data": {
      "text/plain": [
       "96"
      ]
     },
     "execution_count": 32,
     "metadata": {},
     "output_type": "execute_result"
    }
   ],
   "source": [
    "calculate(100, 4, operation=sub)"
   ]
  },
  {
   "cell_type": "code",
   "execution_count": 33,
   "id": "b7927453",
   "metadata": {},
   "outputs": [
    {
     "data": {
      "text/plain": [
       "10000"
      ]
     },
     "execution_count": 33,
     "metadata": {},
     "output_type": "execute_result"
    }
   ],
   "source": [
    "calculate(10, 4, operation = lambda x, y:x**y)"
   ]
  },
  {
   "cell_type": "code",
   "execution_count": 35,
   "id": "3a8ebb96",
   "metadata": {},
   "outputs": [
    {
     "data": {
      "text/plain": [
       "16"
      ]
     },
     "execution_count": 35,
     "metadata": {},
     "output_type": "execute_result"
    }
   ],
   "source": [
    "calculate(4, 4, operation = lambda x, y:x*y)"
   ]
  },
  {
   "cell_type": "code",
   "execution_count": 36,
   "id": "38ab9cb0",
   "metadata": {},
   "outputs": [
    {
     "data": {
      "text/plain": [
       "30"
      ]
     },
     "execution_count": 36,
     "metadata": {},
     "output_type": "execute_result"
    }
   ],
   "source": [
    "(lambda x, y:x+y)(10, 20)"
   ]
  },
  {
   "cell_type": "code",
   "execution_count": 37,
   "id": "dffdb2de",
   "metadata": {},
   "outputs": [],
   "source": [
    "def check_if_even(x):\n",
    "    assert x%2==0"
   ]
  },
  {
   "cell_type": "code",
   "execution_count": 38,
   "id": "611dc4c9",
   "metadata": {},
   "outputs": [],
   "source": [
    "check_if_even(2)"
   ]
  },
  {
   "cell_type": "code",
   "execution_count": 39,
   "id": "45c1d692",
   "metadata": {},
   "outputs": [
    {
     "ename": "AssertionError",
     "evalue": "",
     "output_type": "error",
     "traceback": [
      "\u001b[1;31m---------------------------------------------------------------------------\u001b[0m",
      "\u001b[1;31mAssertionError\u001b[0m                            Traceback (most recent call last)",
      "Cell \u001b[1;32mIn[39], line 1\u001b[0m\n\u001b[1;32m----> 1\u001b[0m check_if_even(\u001b[38;5;241m3\u001b[39m)\n",
      "Cell \u001b[1;32mIn[37], line 2\u001b[0m, in \u001b[0;36mcheck_if_even\u001b[1;34m(x)\u001b[0m\n\u001b[0;32m      1\u001b[0m \u001b[38;5;28;01mdef\u001b[39;00m \u001b[38;5;21mcheck_if_even\u001b[39m(x):\n\u001b[1;32m----> 2\u001b[0m     \u001b[38;5;28;01massert\u001b[39;00m x\u001b[38;5;241m%\u001b[39m\u001b[38;5;241m2\u001b[39m\u001b[38;5;241m==\u001b[39m\u001b[38;5;241m0\u001b[39m\n",
      "\u001b[1;31mAssertionError\u001b[0m: "
     ]
    }
   ],
   "source": [
    "check_if_even(3)"
   ]
  },
  {
   "cell_type": "code",
   "execution_count": 41,
   "id": "f8af75eb",
   "metadata": {},
   "outputs": [
    {
     "ename": "SyntaxError",
     "evalue": "invalid syntax (3363009300.py, line 1)",
     "output_type": "error",
     "traceback": [
      "\u001b[1;36m  Cell \u001b[1;32mIn[41], line 1\u001b[1;36m\u001b[0m\n\u001b[1;33m    check_even_lambda = lambda x: assert x % 2 ==0\u001b[0m\n\u001b[1;37m                                  ^\u001b[0m\n\u001b[1;31mSyntaxError\u001b[0m\u001b[1;31m:\u001b[0m invalid syntax\n"
     ]
    }
   ],
   "source": [
    "check_even_lambda = lambda x: assert x % 2 ==0"
   ]
  },
  {
   "cell_type": "code",
   "execution_count": 43,
   "id": "92378880",
   "metadata": {},
   "outputs": [
    {
     "data": {
      "text/plain": [
       "15"
      ]
     },
     "execution_count": 43,
     "metadata": {},
     "output_type": "execute_result"
    }
   ],
   "source": [
    "(lambda *numbers:sum(numbers))(1,2,3,4,5)"
   ]
  },
  {
   "cell_type": "code",
   "execution_count": 46,
   "id": "f918aa52",
   "metadata": {},
   "outputs": [
    {
     "data": {
      "text/plain": [
       "63"
      ]
     },
     "execution_count": 46,
     "metadata": {},
     "output_type": "execute_result"
    }
   ],
   "source": [
    "(lambda **num_dict:sum(num_dict.values()))(a=23, b=10,c=30)"
   ]
  },
  {
   "cell_type": "code",
   "execution_count": null,
   "id": "918d5605",
   "metadata": {},
   "outputs": [],
   "source": []
  }
 ],
 "metadata": {
  "kernelspec": {
   "display_name": "Python 3 (ipykernel)",
   "language": "python",
   "name": "python3"
  },
  "language_info": {
   "codemirror_mode": {
    "name": "ipython",
    "version": 3
   },
   "file_extension": ".py",
   "mimetype": "text/x-python",
   "name": "python",
   "nbconvert_exporter": "python",
   "pygments_lexer": "ipython3",
   "version": "3.11.5"
  }
 },
 "nbformat": 4,
 "nbformat_minor": 5
}
