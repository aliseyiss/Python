{
 "cells": [
  {
   "cell_type": "code",
   "execution_count": 1,
   "id": "3d43db24",
   "metadata": {},
   "outputs": [
    {
     "data": {
      "text/plain": [
       "<filter at 0x117472b02e0>"
      ]
     },
     "execution_count": 1,
     "metadata": {},
     "output_type": "execute_result"
    }
   ],
   "source": [
    "num_list=[10,20,34,56,34,45,213]\n",
    "filter(lambda x:x>30, num_list)"
   ]
  },
  {
   "cell_type": "code",
   "execution_count": 2,
   "id": "fa58d593",
   "metadata": {},
   "outputs": [],
   "source": [
    "greater_than_ten=list(filter(lambda x:x>20, num_list))"
   ]
  },
  {
   "cell_type": "code",
   "execution_count": 3,
   "id": "6cc20d44",
   "metadata": {},
   "outputs": [
    {
     "data": {
      "text/plain": [
       "[34, 56, 34, 45, 213]"
      ]
     },
     "execution_count": 3,
     "metadata": {},
     "output_type": "execute_result"
    }
   ],
   "source": [
    "greater_than_ten"
   ]
  },
  {
   "cell_type": "code",
   "execution_count": 4,
   "id": "56cf4ac8",
   "metadata": {},
   "outputs": [],
   "source": [
    "even_list=list(filter(lambda x: x % 2 == 0, num_list))"
   ]
  },
  {
   "cell_type": "code",
   "execution_count": 5,
   "id": "b5e5d53c",
   "metadata": {},
   "outputs": [
    {
     "data": {
      "text/plain": [
       "[10, 20, 34, 56, 34]"
      ]
     },
     "execution_count": 5,
     "metadata": {},
     "output_type": "execute_result"
    }
   ],
   "source": [
    "even_list"
   ]
  },
  {
   "cell_type": "code",
   "execution_count": null,
   "id": "b56a3838",
   "metadata": {},
   "outputs": [],
   "source": []
  }
 ],
 "metadata": {
  "kernelspec": {
   "display_name": "Python 3 (ipykernel)",
   "language": "python",
   "name": "python3"
  },
  "language_info": {
   "codemirror_mode": {
    "name": "ipython",
    "version": 3
   },
   "file_extension": ".py",
   "mimetype": "text/x-python",
   "name": "python",
   "nbconvert_exporter": "python",
   "pygments_lexer": "ipython3",
   "version": "3.11.5"
  }
 },
 "nbformat": 4,
 "nbformat_minor": 5
}
