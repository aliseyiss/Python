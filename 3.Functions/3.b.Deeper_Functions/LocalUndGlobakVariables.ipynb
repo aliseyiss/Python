{
 "cells": [
  {
   "cell_type": "code",
   "execution_count": 1,
   "id": "6cbb07aa",
   "metadata": {},
   "outputs": [],
   "source": [
    "country = \"USA\"\n",
    "city = \"Seattle\""
   ]
  },
  {
   "cell_type": "code",
   "execution_count": 2,
   "id": "b8238591",
   "metadata": {},
   "outputs": [],
   "source": [
    "def some_fn():\n",
    "    city = \"NY\"\n",
    "    \n",
    "    print(\"Country: \", country)\n",
    "    print(\"City: \", city)"
   ]
  },
  {
   "cell_type": "code",
   "execution_count": 3,
   "id": "2d0d3bff",
   "metadata": {},
   "outputs": [
    {
     "name": "stdout",
     "output_type": "stream",
     "text": [
      "Country:  USA\n",
      "City:  NY\n"
     ]
    }
   ],
   "source": [
    "some_fn()"
   ]
  },
  {
   "cell_type": "code",
   "execution_count": 4,
   "id": "24a78d97",
   "metadata": {},
   "outputs": [
    {
     "data": {
      "text/plain": [
       "('USA', 'Seattle')"
      ]
     },
     "execution_count": 4,
     "metadata": {},
     "output_type": "execute_result"
    }
   ],
   "source": [
    "country, city"
   ]
  },
  {
   "cell_type": "code",
   "execution_count": null,
   "id": "148dbec2",
   "metadata": {},
   "outputs": [],
   "source": [
    "def some_fn():\n",
    "    "
   ]
  }
 ],
 "metadata": {
  "kernelspec": {
   "display_name": "Python 3 (ipykernel)",
   "language": "python",
   "name": "python3"
  },
  "language_info": {
   "codemirror_mode": {
    "name": "ipython",
    "version": 3
   },
   "file_extension": ".py",
   "mimetype": "text/x-python",
   "name": "python",
   "nbconvert_exporter": "python",
   "pygments_lexer": "ipython3",
   "version": "3.11.5"
  }
 },
 "nbformat": 4,
 "nbformat_minor": 5
}
