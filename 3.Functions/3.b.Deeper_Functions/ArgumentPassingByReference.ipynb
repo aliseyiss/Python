{
 "cells": [
  {
   "cell_type": "code",
   "execution_count": 1,
   "id": "1b93ed11",
   "metadata": {},
   "outputs": [],
   "source": [
    "my_list = [\"a\", \"b\", \"c\"]"
   ]
  },
  {
   "cell_type": "code",
   "execution_count": 5,
   "id": "2b536db0",
   "metadata": {},
   "outputs": [],
   "source": [
    "def change_list(my_list):\n",
    "    #global my_list\n",
    "    my_list[0] = \"e\"\n",
    "    print(my_list)\n"
   ]
  },
  {
   "cell_type": "code",
   "execution_count": 8,
   "id": "9b367943",
   "metadata": {},
   "outputs": [
    {
     "name": "stdout",
     "output_type": "stream",
     "text": [
      "['e', 'b', 'c']\n"
     ]
    }
   ],
   "source": [
    "change_list(my_list)"
   ]
  },
  {
   "cell_type": "code",
   "execution_count": 9,
   "id": "890fc208",
   "metadata": {},
   "outputs": [
    {
     "data": {
      "text/plain": [
       "['e', 'b', 'c']"
      ]
     },
     "execution_count": 9,
     "metadata": {},
     "output_type": "execute_result"
    }
   ],
   "source": [
    "my_list"
   ]
  },
  {
   "cell_type": "code",
   "execution_count": 10,
   "id": "4dafc1bb",
   "metadata": {},
   "outputs": [],
   "source": [
    "def add_list(my_list):\n",
    "    my_list.append(\"d\")\n",
    "    print(my_list)"
   ]
  },
  {
   "cell_type": "code",
   "execution_count": 11,
   "id": "1c81619a",
   "metadata": {},
   "outputs": [
    {
     "name": "stdout",
     "output_type": "stream",
     "text": [
      "['e', 'b', 'c', 'd']\n"
     ]
    }
   ],
   "source": [
    "add_list(my_list)"
   ]
  },
  {
   "cell_type": "code",
   "execution_count": 12,
   "id": "a71c4e89",
   "metadata": {},
   "outputs": [],
   "source": [
    "def del_list_element(my_list):\n",
    "    del my_list[0]\n",
    "    print(my_list)"
   ]
  },
  {
   "cell_type": "code",
   "execution_count": 14,
   "id": "4404cb1c",
   "metadata": {},
   "outputs": [
    {
     "name": "stdout",
     "output_type": "stream",
     "text": [
      "['b', 'c', 'd']\n"
     ]
    }
   ],
   "source": [
    "del_list_element(my_list)"
   ]
  },
  {
   "cell_type": "code",
   "execution_count": null,
   "id": "7e177259",
   "metadata": {},
   "outputs": [],
   "source": [
    "\n"
   ]
  }
 ],
 "metadata": {
  "kernelspec": {
   "display_name": "Python 3 (ipykernel)",
   "language": "python",
   "name": "python3"
  },
  "language_info": {
   "codemirror_mode": {
    "name": "ipython",
    "version": 3
   },
   "file_extension": ".py",
   "mimetype": "text/x-python",
   "name": "python",
   "nbconvert_exporter": "python",
   "pygments_lexer": "ipython3",
   "version": "3.11.5"
  }
 },
 "nbformat": 4,
 "nbformat_minor": 5
}
