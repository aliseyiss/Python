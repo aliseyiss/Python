{
 "cells": [
  {
   "cell_type": "code",
   "execution_count": null,
   "id": "013c746e",
   "metadata": {},
   "outputs": [],
   "source": [
    "#ich habe türkishe Bürgerschaft und seit letzten 5 Jahren wohne sowie arbeite ich in Poland. Ich habe schon blaues Kart in EU dadurch, dass ich in EU arbeiten darf. Jetzt habe ich ein Arbeitsangebot in Deutschland gefunden. Das problem liegt daran, dass mein türkischer Pass im 2026 zu Ende geht. Aufgrund politischer Probleme, die ich in der Türkei habe, türkische Botschaften akzeptiert mein Antrag zum neuen Pass nicht. Meine Frage ist, was für Probleme kann ich in Deutschland nach dem Ende meiner Pass begegnen? Wie kann ich die beseitigen?"
   ]
  },
  {
   "cell_type": "code",
   "execution_count": null,
   "id": "744df6fc",
   "metadata": {},
   "outputs": [],
   "source": [
    "#Ja, es gibt ein paar Frage auch noch. 1- Währen ich in Deutschland arbeite, geht mein Pass zu Ende. In diesem Fall, kann ich ein Reisepass von Ausländerbehörde bekommen? 2- Wie kann ich in Deutschland weiterarbeiten, nach mein Passdauer um ist?"
   ]
  },
  {
   "cell_type": "code",
   "execution_count": null,
   "id": "974f0abd",
   "metadata": {},
   "outputs": [],
   "source": []
  },
  {
   "cell_type": "code",
   "execution_count": null,
   "id": "ee29b8f9",
   "metadata": {},
   "outputs": [],
   "source": []
  },
  {
   "cell_type": "code",
   "execution_count": null,
   "id": "7e29c1dd",
   "metadata": {},
   "outputs": [],
   "source": []
  },
  {
   "cell_type": "code",
   "execution_count": null,
   "id": "1cb9c0a4",
   "metadata": {},
   "outputs": [],
   "source": []
  }
 ],
 "metadata": {
  "kernelspec": {
   "display_name": "Python 3 (ipykernel)",
   "language": "python",
   "name": "python3"
  },
  "language_info": {
   "codemirror_mode": {
    "name": "ipython",
    "version": 3
   },
   "file_extension": ".py",
   "mimetype": "text/x-python",
   "name": "python",
   "nbconvert_exporter": "python",
   "pygments_lexer": "ipython3",
   "version": "3.11.5"
  }
 },
 "nbformat": 4,
 "nbformat_minor": 5
}
