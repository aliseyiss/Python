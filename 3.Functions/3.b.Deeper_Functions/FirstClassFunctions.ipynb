{
 "cells": [
  {
   "cell_type": "code",
   "execution_count": 4,
   "id": "f1eebb7a",
   "metadata": {},
   "outputs": [],
   "source": [
    "def hello(name):\n",
    "    print(\"Hello\", name, \"!\")"
   ]
  },
  {
   "cell_type": "code",
   "execution_count": 5,
   "id": "8f716fd3",
   "metadata": {},
   "outputs": [
    {
     "name": "stdout",
     "output_type": "stream",
     "text": [
      "Hello Bruce !\n"
     ]
    }
   ],
   "source": [
    "hello(\"Bruce\")"
   ]
  },
  {
   "cell_type": "code",
   "execution_count": 6,
   "id": "0e0428cf",
   "metadata": {},
   "outputs": [
    {
     "data": {
      "text/plain": [
       "<function __main__.hello(name)>"
      ]
     },
     "execution_count": 6,
     "metadata": {},
     "output_type": "execute_result"
    }
   ],
   "source": [
    "hello"
   ]
  },
  {
   "cell_type": "code",
   "execution_count": 7,
   "id": "3bc70e36",
   "metadata": {},
   "outputs": [],
   "source": [
    "greet = hello"
   ]
  },
  {
   "cell_type": "code",
   "execution_count": 8,
   "id": "f869c61a",
   "metadata": {},
   "outputs": [
    {
     "name": "stdout",
     "output_type": "stream",
     "text": [
      "Hello Anna !\n"
     ]
    }
   ],
   "source": [
    "greet(\"Anna\")"
   ]
  },
  {
   "cell_type": "code",
   "execution_count": 9,
   "id": "d57e879d",
   "metadata": {},
   "outputs": [
    {
     "data": {
      "text/plain": [
       "<function __main__.hello(name)>"
      ]
     },
     "execution_count": 9,
     "metadata": {},
     "output_type": "execute_result"
    }
   ],
   "source": [
    "greet"
   ]
  },
  {
   "cell_type": "code",
   "execution_count": 10,
   "id": "fb5d2196",
   "metadata": {},
   "outputs": [],
   "source": [
    "calculate_length = len"
   ]
  },
  {
   "cell_type": "code",
   "execution_count": 12,
   "id": "eb696705",
   "metadata": {},
   "outputs": [
    {
     "data": {
      "text/plain": [
       "9"
      ]
     },
     "execution_count": 12,
     "metadata": {},
     "output_type": "execute_result"
    }
   ],
   "source": [
    "calculate_length(\"Somethimg\")"
   ]
  },
  {
   "cell_type": "code",
   "execution_count": 13,
   "id": "816583ba",
   "metadata": {},
   "outputs": [
    {
     "data": {
      "text/plain": [
       "True"
      ]
     },
     "execution_count": 13,
     "metadata": {},
     "output_type": "execute_result"
    }
   ],
   "source": [
    "calculate_length == len"
   ]
  },
  {
   "cell_type": "code",
   "execution_count": 6,
   "id": "496a6bd9",
   "metadata": {},
   "outputs": [],
   "source": [
    "import math"
   ]
  },
  {
   "cell_type": "code",
   "execution_count": 7,
   "id": "97d9bb98",
   "metadata": {},
   "outputs": [],
   "source": [
    "def area_circle_fn(radius):\n",
    "    return math.pi * radius * radius\n"
   ]
  },
  {
   "cell_type": "code",
   "execution_count": 8,
   "id": "c6809f4a",
   "metadata": {},
   "outputs": [],
   "source": [
    "def perimeter_circle_fn(radius):\n",
    "    return 2 * math.pi * radius"
   ]
  },
  {
   "cell_type": "code",
   "execution_count": 9,
   "id": "bd6e3eef",
   "metadata": {},
   "outputs": [],
   "source": [
    "def diameter_circle_fn(radius):\n",
    "    return  2 * radius"
   ]
  },
  {
   "cell_type": "code",
   "execution_count": 10,
   "id": "e6daa1fc",
   "metadata": {},
   "outputs": [],
   "source": [
    "def calculate_for_circle(radius, fn):\n",
    "    return fn(radius)"
   ]
  },
  {
   "cell_type": "code",
   "execution_count": 11,
   "id": "380f63a3",
   "metadata": {},
   "outputs": [
    {
     "data": {
      "text/plain": [
       "20"
      ]
     },
     "execution_count": 11,
     "metadata": {},
     "output_type": "execute_result"
    }
   ],
   "source": [
    "calculate_for_circle(10, diameter_circle_fn)"
   ]
  },
  {
   "cell_type": "code",
   "execution_count": 12,
   "id": "2f1bca16",
   "metadata": {},
   "outputs": [
    {
     "data": {
      "text/plain": [
       "18.84955592153876"
      ]
     },
     "execution_count": 12,
     "metadata": {},
     "output_type": "execute_result"
    }
   ],
   "source": [
    "calculate_for_circle(3, perimeter_circle_fn)"
   ]
  },
  {
   "cell_type": "code",
   "execution_count": 13,
   "id": "ab82777b",
   "metadata": {},
   "outputs": [
    {
     "data": {
      "text/plain": [
       "314.1592653589793"
      ]
     },
     "execution_count": 13,
     "metadata": {},
     "output_type": "execute_result"
    }
   ],
   "source": [
    "calculate_for_circle(10, area_circle_fn)"
   ]
  },
  {
   "cell_type": "code",
   "execution_count": 15,
   "id": "4e41497f",
   "metadata": {},
   "outputs": [],
   "source": [
    "def calculate(*args, fn):\n",
    "  return fn(*args)"
   ]
  },
  {
   "cell_type": "code",
   "execution_count": 16,
   "id": "23667af4",
   "metadata": {},
   "outputs": [
    {
     "data": {
      "text/plain": [
       "20"
      ]
     },
     "execution_count": 16,
     "metadata": {},
     "output_type": "execute_result"
    }
   ],
   "source": [
    "calculate(10, fn = diameter_circle_fn)"
   ]
  },
  {
   "cell_type": "code",
   "execution_count": 17,
   "id": "990aaf06",
   "metadata": {},
   "outputs": [
    {
     "data": {
      "text/plain": [
       "62.83185307179586"
      ]
     },
     "execution_count": 17,
     "metadata": {},
     "output_type": "execute_result"
    }
   ],
   "source": [
    "calculate(10, fn=perimeter_circle_fn)"
   ]
  },
  {
   "cell_type": "code",
   "execution_count": 18,
   "id": "bba5f7d5",
   "metadata": {},
   "outputs": [
    {
     "data": {
      "text/plain": [
       "314.1592653589793"
      ]
     },
     "execution_count": 18,
     "metadata": {},
     "output_type": "execute_result"
    }
   ],
   "source": [
    "calculate(10, fn=area_circle_fn)"
   ]
  },
  {
   "cell_type": "code",
   "execution_count": 20,
   "id": "e611ecf1",
   "metadata": {},
   "outputs": [],
   "source": [
    "def area_rectangle_fn(length, breadth):\n",
    "    return 2 * length * breadth"
   ]
  },
  {
   "cell_type": "code",
   "execution_count": 21,
   "id": "fa69c2c7",
   "metadata": {},
   "outputs": [
    {
     "data": {
      "text/plain": [
       "400"
      ]
     },
     "execution_count": 21,
     "metadata": {},
     "output_type": "execute_result"
    }
   ],
   "source": [
    "calculate(10, 20, fn=area_rectangle_fn)"
   ]
  },
  {
   "cell_type": "code",
   "execution_count": null,
   "id": "c5cbfed0",
   "metadata": {},
   "outputs": [],
   "source": []
  }
 ],
 "metadata": {
  "kernelspec": {
   "display_name": "Python 3 (ipykernel)",
   "language": "python",
   "name": "python3"
  },
  "language_info": {
   "codemirror_mode": {
    "name": "ipython",
    "version": 3
   },
   "file_extension": ".py",
   "mimetype": "text/x-python",
   "name": "python",
   "nbconvert_exporter": "python",
   "pygments_lexer": "ipython3",
   "version": "3.11.5"
  }
 },
 "nbformat": 4,
 "nbformat_minor": 5
}
