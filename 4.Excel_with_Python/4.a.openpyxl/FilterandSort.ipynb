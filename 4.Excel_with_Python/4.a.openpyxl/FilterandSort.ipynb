{
 "cells": [
  {
   "cell_type": "code",
   "execution_count": 1,
   "id": "b449c762",
   "metadata": {},
   "outputs": [],
   "source": [
    "import openpyxl"
   ]
  },
  {
   "cell_type": "code",
   "execution_count": 2,
   "id": "57c94173",
   "metadata": {},
   "outputs": [],
   "source": [
    "work_book = openpyxl.Workbook()"
   ]
  },
  {
   "cell_type": "code",
   "execution_count": 3,
   "id": "c2c7bc5a",
   "metadata": {},
   "outputs": [],
   "source": [
    "work_sheet = work_book.active"
   ]
  },
  {
   "cell_type": "code",
   "execution_count": 4,
   "id": "d7bd4c20",
   "metadata": {},
   "outputs": [],
   "source": [
    "data = [\n",
    "    ['Champion', 'Year'],\n",
    "    ['France', 2018],\n",
    "    ['Germany', 2014],\n",
    "    ['Spain', 2010],\n",
    "    ['Italy', 2006],\n",
    "    ['Brazil', 2002],\n",
    "    ['France', 1998],\n",
    "    ['Brazil', 1994],\n",
    "    ['Germany', 1990],\n",
    "    ['Argentina', 1986],\n",
    "    ['Italy', 1982],\n",
    "    ['Argentina', 1978],\n",
    "    ['Germany', 1974],\n",
    "    ['Brazil', 1970],\n",
    "    ['England', 1966],\n",
    "    ['Brazil', 1962],\n",
    "    ['Brazil', 1958],\n",
    "    ['Germany', 1954],\n",
    "    ['Uruguay', 1950],\n",
    "    ['Italy', 1938],\n",
    "    ['Italy', 1934],\n",
    "    ['Uruguay', 1930]\n",
    "]"
   ]
  },
  {
   "cell_type": "code",
   "execution_count": 5,
   "id": "ced13b3e",
   "metadata": {},
   "outputs": [],
   "source": [
    "for r in data:\n",
    "    work_sheet.append(r)"
   ]
  },
  {
   "cell_type": "code",
   "execution_count": 6,
   "id": "0dfd4600",
   "metadata": {},
   "outputs": [],
   "source": [
    "work_book.save('workbooks/world_cup_winners.xlsx')"
   ]
  },
  {
   "cell_type": "code",
   "execution_count": 7,
   "id": "f26e7d0f",
   "metadata": {},
   "outputs": [
    {
     "data": {
      "text/plain": [
       "'A1:B22'"
      ]
     },
     "execution_count": 7,
     "metadata": {},
     "output_type": "execute_result"
    }
   ],
   "source": [
    "work_sheet.calculate_dimension()"
   ]
  },
  {
   "cell_type": "code",
   "execution_count": 13,
   "id": "1d309a71",
   "metadata": {},
   "outputs": [
    {
     "name": "stdout",
     "output_type": "stream",
     "text": [
      "['Champion', 'Year']\n"
     ]
    }
   ],
   "source": [
    "# Access the values of the first row (headers)\n",
    "headers = []\n",
    "for cell in work_sheet[1]:\n",
    "    headers.append(cell.value)\n",
    "\n",
    "print(headers)"
   ]
  },
  {
   "cell_type": "code",
   "execution_count": 9,
   "id": "d178ad5f",
   "metadata": {},
   "outputs": [],
   "source": [
    "work_sheet.auto_filter.ref = work_sheet.calculate_dimension()"
   ]
  },
  {
   "cell_type": "code",
   "execution_count": 11,
   "id": "1a441270",
   "metadata": {},
   "outputs": [],
   "source": [
    "work_sheet.auto_filter.add_filter_column(0, ['Brazil', 'Italy', 'Argentina'])"
   ]
  },
  {
   "cell_type": "code",
   "execution_count": 14,
   "id": "96857f97",
   "metadata": {},
   "outputs": [],
   "source": [
    "work_book.save('workbooks/world_cup_winners.xlsx')"
   ]
  },
  {
   "cell_type": "code",
   "execution_count": 15,
   "id": "4131cdf9",
   "metadata": {},
   "outputs": [
    {
     "data": {
      "text/plain": [
       "(<Cell 'Sheet'.B2>, <Cell 'Sheet'.B22>)"
      ]
     },
     "execution_count": 15,
     "metadata": {},
     "output_type": "execute_result"
    }
   ],
   "source": [
    "work_sheet['B'][1], work_sheet['B'][-1]"
   ]
  },
  {
   "cell_type": "code",
   "execution_count": 16,
   "id": "4dfe9091",
   "metadata": {},
   "outputs": [
    {
     "data": {
      "text/plain": [
       "'B2:B22'"
      ]
     },
     "execution_count": 16,
     "metadata": {},
     "output_type": "execute_result"
    }
   ],
   "source": [
    "range_str = work_sheet['B'][1].coordinate + ':' + work_sheet['B'][-1].coordinate\n",
    "range_str"
   ]
  },
  {
   "cell_type": "code",
   "execution_count": 18,
   "id": "01195c71",
   "metadata": {},
   "outputs": [],
   "source": [
    "work_sheet.auto_filter.add_sort_condition(range_str, descending = True)"
   ]
  },
  {
   "cell_type": "code",
   "execution_count": null,
   "id": "bbdd9f87",
   "metadata": {},
   "outputs": [],
   "source": []
  }
 ],
 "metadata": {
  "kernelspec": {
   "display_name": "Python 3 (ipykernel)",
   "language": "python",
   "name": "python3"
  },
  "language_info": {
   "codemirror_mode": {
    "name": "ipython",
    "version": 3
   },
   "file_extension": ".py",
   "mimetype": "text/x-python",
   "name": "python",
   "nbconvert_exporter": "python",
   "pygments_lexer": "ipython3",
   "version": "3.11.5"
  }
 },
 "nbformat": 4,
 "nbformat_minor": 5
}
