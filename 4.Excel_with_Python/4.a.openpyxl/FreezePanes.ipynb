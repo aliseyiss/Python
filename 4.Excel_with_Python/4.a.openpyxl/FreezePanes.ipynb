{
 "cells": [
  {
   "cell_type": "code",
   "execution_count": 1,
   "id": "612f385b",
   "metadata": {},
   "outputs": [],
   "source": [
    "import openpyxl"
   ]
  },
  {
   "cell_type": "code",
   "execution_count": 6,
   "id": "991a1ab9",
   "metadata": {},
   "outputs": [],
   "source": [
    "work_book = openpyxl.load_workbook('datasets/zomato_reviews.xlsx')"
   ]
  },
  {
   "cell_type": "code",
   "execution_count": 7,
   "id": "7fb632e5",
   "metadata": {},
   "outputs": [],
   "source": [
    "sheet = work_book.active"
   ]
  },
  {
   "cell_type": "code",
   "execution_count": 8,
   "id": "e491a7e7",
   "metadata": {},
   "outputs": [],
   "source": [
    "sheet.freeze_panes = 'A2'"
   ]
  },
  {
   "cell_type": "code",
   "execution_count": 9,
   "id": "2453eee4",
   "metadata": {},
   "outputs": [],
   "source": [
    "work_book.save('datasets/zomato_reviews.xlsx')"
   ]
  },
  {
   "cell_type": "code",
   "execution_count": null,
   "id": "b6a18bdd",
   "metadata": {},
   "outputs": [],
   "source": []
  }
 ],
 "metadata": {
  "kernelspec": {
   "display_name": "Python 3 (ipykernel)",
   "language": "python",
   "name": "python3"
  },
  "language_info": {
   "codemirror_mode": {
    "name": "ipython",
    "version": 3
   },
   "file_extension": ".py",
   "mimetype": "text/x-python",
   "name": "python",
   "nbconvert_exporter": "python",
   "pygments_lexer": "ipython3",
   "version": "3.11.5"
  }
 },
 "nbformat": 4,
 "nbformat_minor": 5
}
