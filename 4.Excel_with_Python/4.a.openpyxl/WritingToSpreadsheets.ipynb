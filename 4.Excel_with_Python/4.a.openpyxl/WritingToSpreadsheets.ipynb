{
 "cells": [
  {
   "cell_type": "code",
   "execution_count": 1,
   "id": "0aba8b6e",
   "metadata": {},
   "outputs": [],
   "source": [
    "import openpyxl"
   ]
  },
  {
   "cell_type": "code",
   "execution_count": 2,
   "id": "4b58f406",
   "metadata": {},
   "outputs": [],
   "source": [
    "work_book = openpyxl.Workbook()"
   ]
  },
  {
   "cell_type": "code",
   "execution_count": 4,
   "id": "4529f6f6",
   "metadata": {},
   "outputs": [
    {
     "data": {
      "text/plain": [
       "<Worksheet \"Sheet\">"
      ]
     },
     "execution_count": 4,
     "metadata": {},
     "output_type": "execute_result"
    }
   ],
   "source": [
    "work_book.active"
   ]
  },
  {
   "cell_type": "code",
   "execution_count": 5,
   "id": "874be17d",
   "metadata": {},
   "outputs": [],
   "source": [
    "sheet = work_book['Sheet']"
   ]
  },
  {
   "cell_type": "code",
   "execution_count": 6,
   "id": "bead5cbe",
   "metadata": {},
   "outputs": [
    {
     "data": {
      "text/plain": [
       "<Worksheet \"Sheet\">"
      ]
     },
     "execution_count": 6,
     "metadata": {},
     "output_type": "execute_result"
    }
   ],
   "source": [
    "sheet"
   ]
  },
  {
   "cell_type": "code",
   "execution_count": 7,
   "id": "a6e8d1e4",
   "metadata": {},
   "outputs": [],
   "source": [
    "sheet['A1'] = 'Hello'\n",
    "sheet['B1'] = 'Excel'\n",
    "sheet['C1'] = 'Users!'"
   ]
  },
  {
   "cell_type": "code",
   "execution_count": 8,
   "id": "b26fbc61",
   "metadata": {},
   "outputs": [
    {
     "data": {
      "text/plain": [
       "'Hello'"
      ]
     },
     "execution_count": 8,
     "metadata": {},
     "output_type": "execute_result"
    }
   ],
   "source": [
    "sheet['A1'].value"
   ]
  },
  {
   "cell_type": "code",
   "execution_count": 9,
   "id": "1b66ee36",
   "metadata": {},
   "outputs": [],
   "source": [
    "work_book.save('workbooks/brand_new_workbook.xlsx')"
   ]
  },
  {
   "cell_type": "code",
   "execution_count": 10,
   "id": "ee05915b",
   "metadata": {},
   "outputs": [],
   "source": [
    "sheet['A1'] = 'Goodbye'\n",
    "sheet['B1'] = 'Excel Users'\n",
    "sheet['C1'] = '!'"
   ]
  },
  {
   "cell_type": "code",
   "execution_count": 11,
   "id": "7c1adc62",
   "metadata": {},
   "outputs": [
    {
     "data": {
      "text/plain": [
       "'Goodbye'"
      ]
     },
     "execution_count": 11,
     "metadata": {},
     "output_type": "execute_result"
    }
   ],
   "source": [
    "sheet['A1'].value"
   ]
  },
  {
   "cell_type": "code",
   "execution_count": 12,
   "id": "77c15a40",
   "metadata": {},
   "outputs": [],
   "source": [
    "work_book.save('workbooks/brand_new_workbook.xlsx')"
   ]
  },
  {
   "cell_type": "code",
   "execution_count": 13,
   "id": "471440fb",
   "metadata": {},
   "outputs": [
    {
     "data": {
      "text/plain": [
       "'A1:C1'"
      ]
     },
     "execution_count": 13,
     "metadata": {},
     "output_type": "execute_result"
    }
   ],
   "source": [
    "sheet.calculate_dimension()"
   ]
  },
  {
   "cell_type": "code",
   "execution_count": 14,
   "id": "07a53231",
   "metadata": {},
   "outputs": [],
   "source": [
    "sheet.append(['one', 'row', 'of', 'text'])"
   ]
  },
  {
   "cell_type": "code",
   "execution_count": 15,
   "id": "d3dc76e9",
   "metadata": {},
   "outputs": [
    {
     "data": {
      "text/plain": [
       "'A1:D2'"
      ]
     },
     "execution_count": 15,
     "metadata": {},
     "output_type": "execute_result"
    }
   ],
   "source": [
    "sheet.calculate_dimension()"
   ]
  },
  {
   "cell_type": "code",
   "execution_count": 18,
   "id": "adf8abd2",
   "metadata": {},
   "outputs": [],
   "source": [
    "work_book.save('workbooks/brand_new_workbook.xlsx')"
   ]
  },
  {
   "cell_type": "code",
   "execution_count": 19,
   "id": "bf7d7199",
   "metadata": {},
   "outputs": [],
   "source": [
    "sheet.insert_rows(idx=2, amount=3)"
   ]
  },
  {
   "cell_type": "code",
   "execution_count": 20,
   "id": "b8a54694",
   "metadata": {},
   "outputs": [],
   "source": [
    "sheet.insert_cols(idx=3)"
   ]
  },
  {
   "cell_type": "code",
   "execution_count": 21,
   "id": "c27db904",
   "metadata": {},
   "outputs": [
    {
     "data": {
      "text/plain": [
       "'A1:E5'"
      ]
     },
     "execution_count": 21,
     "metadata": {},
     "output_type": "execute_result"
    }
   ],
   "source": [
    "sheet.calculate_dimension()"
   ]
  },
  {
   "cell_type": "code",
   "execution_count": 22,
   "id": "7478ff76",
   "metadata": {},
   "outputs": [],
   "source": [
    "work_book.save('workbooks/brand_new_workbook.xlsx')"
   ]
  },
  {
   "cell_type": "code",
   "execution_count": 23,
   "id": "1d5ab9ba",
   "metadata": {},
   "outputs": [],
   "source": [
    "sheet.delete_rows(idx=2, amount=3)"
   ]
  },
  {
   "cell_type": "code",
   "execution_count": 24,
   "id": "4d3316c1",
   "metadata": {},
   "outputs": [],
   "source": [
    "sheet.delete_cols(3)"
   ]
  },
  {
   "cell_type": "code",
   "execution_count": 25,
   "id": "e4b656d2",
   "metadata": {},
   "outputs": [],
   "source": [
    "work_book.save('workbooks/brand_new_workbook.xlsx')"
   ]
  },
  {
   "cell_type": "code",
   "execution_count": 26,
   "id": "be00e60f",
   "metadata": {},
   "outputs": [
    {
     "data": {
      "text/plain": [
       "'A1:D2'"
      ]
     },
     "execution_count": 26,
     "metadata": {},
     "output_type": "execute_result"
    }
   ],
   "source": [
    "sheet.calculate_dimension()"
   ]
  },
  {
   "cell_type": "code",
   "execution_count": 27,
   "id": "c198d3ff",
   "metadata": {},
   "outputs": [],
   "source": [
    "sheet.title ='FirstSheet'"
   ]
  },
  {
   "cell_type": "code",
   "execution_count": 28,
   "id": "ec92d16f",
   "metadata": {},
   "outputs": [],
   "source": [
    "work_book.save('workbooks/brand_new_workbook.xlsx')"
   ]
  },
  {
   "cell_type": "code",
   "execution_count": 30,
   "id": "8caf7b4e",
   "metadata": {},
   "outputs": [],
   "source": [
    "data = [['Planets', 'Radius(km)','Distance from Sun(M km)'],\n",
    "       ['Earth', 6371, 150],\n",
    "       ['Mars', 3389, 228],\n",
    "       ['Mercury', 2440, 58]] "
   ]
  },
  {
   "cell_type": "code",
   "execution_count": 31,
   "id": "735a34f1",
   "metadata": {},
   "outputs": [],
   "source": [
    "planet_db = openpyxl.Workbook()"
   ]
  },
  {
   "cell_type": "code",
   "execution_count": 33,
   "id": "9bfd8b05",
   "metadata": {},
   "outputs": [],
   "source": [
    "planet_sheet = planet_db['Sheet']"
   ]
  },
  {
   "cell_type": "code",
   "execution_count": 37,
   "id": "baf29aaa",
   "metadata": {},
   "outputs": [],
   "source": [
    "planet_sheet.title='Planets'"
   ]
  },
  {
   "cell_type": "code",
   "execution_count": 38,
   "id": "96ec095a",
   "metadata": {},
   "outputs": [],
   "source": [
    "for row in data:\n",
    "    planet_sheet.append(row)"
   ]
  },
  {
   "cell_type": "code",
   "execution_count": 39,
   "id": "2e1ad92b",
   "metadata": {},
   "outputs": [
    {
     "data": {
      "text/plain": [
       "'A1:C4'"
      ]
     },
     "execution_count": 39,
     "metadata": {},
     "output_type": "execute_result"
    }
   ],
   "source": [
    "planet_sheet.calculate_dimension()"
   ]
  },
  {
   "cell_type": "code",
   "execution_count": 42,
   "id": "06337be4",
   "metadata": {},
   "outputs": [],
   "source": [
    "planet_db.save('workbooks/planets.xlsx')"
   ]
  },
  {
   "cell_type": "code",
   "execution_count": null,
   "id": "a9b66a32",
   "metadata": {},
   "outputs": [],
   "source": []
  }
 ],
 "metadata": {
  "kernelspec": {
   "display_name": "Python 3 (ipykernel)",
   "language": "python",
   "name": "python3"
  },
  "language_info": {
   "codemirror_mode": {
    "name": "ipython",
    "version": 3
   },
   "file_extension": ".py",
   "mimetype": "text/x-python",
   "name": "python",
   "nbconvert_exporter": "python",
   "pygments_lexer": "ipython3",
   "version": "3.11.5"
  }
 },
 "nbformat": 4,
 "nbformat_minor": 5
}
