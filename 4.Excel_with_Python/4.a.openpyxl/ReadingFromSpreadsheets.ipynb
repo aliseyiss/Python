{
 "cells": [
  {
   "cell_type": "code",
   "execution_count": 4,
   "id": "1e0149da",
   "metadata": {},
   "outputs": [],
   "source": [
    "import openpyxl"
   ]
  },
  {
   "cell_type": "code",
   "execution_count": 10,
   "id": "aece2796",
   "metadata": {},
   "outputs": [],
   "source": [
    "work_book=openpyxl.load_workbook('datasets/company_revenue.xlsx')"
   ]
  },
  {
   "cell_type": "code",
   "execution_count": 11,
   "id": "cfe4b9d8",
   "metadata": {},
   "outputs": [
    {
     "data": {
      "text/plain": [
       "['revenue']"
      ]
     },
     "execution_count": 11,
     "metadata": {},
     "output_type": "execute_result"
    }
   ],
   "source": [
    "work_book.sheetnames"
   ]
  },
  {
   "cell_type": "code",
   "execution_count": 12,
   "id": "d8814385",
   "metadata": {},
   "outputs": [],
   "source": [
    "sheet_obj = work_book['revenue']"
   ]
  },
  {
   "cell_type": "code",
   "execution_count": 13,
   "id": "60b01ec3",
   "metadata": {},
   "outputs": [
    {
     "data": {
      "text/plain": [
       "'revenue'"
      ]
     },
     "execution_count": 13,
     "metadata": {},
     "output_type": "execute_result"
    }
   ],
   "source": [
    "sheet_obj.title"
   ]
  },
  {
   "cell_type": "code",
   "execution_count": 14,
   "id": "0fb6f5ab",
   "metadata": {},
   "outputs": [
    {
     "data": {
      "text/plain": [
       "<Cell 'revenue'.A1>"
      ]
     },
     "execution_count": 14,
     "metadata": {},
     "output_type": "execute_result"
    }
   ],
   "source": [
    "sheet_obj['A1']"
   ]
  },
  {
   "cell_type": "code",
   "execution_count": 15,
   "id": "7cf34c9a",
   "metadata": {},
   "outputs": [
    {
     "data": {
      "text/plain": [
       "'Company'"
      ]
     },
     "execution_count": 15,
     "metadata": {},
     "output_type": "execute_result"
    }
   ],
   "source": [
    "sheet_obj['A1'].value"
   ]
  },
  {
   "cell_type": "code",
   "execution_count": 16,
   "id": "9c6bf439",
   "metadata": {},
   "outputs": [
    {
     "data": {
      "text/plain": [
       "'Walmart'"
      ]
     },
     "execution_count": 16,
     "metadata": {},
     "output_type": "execute_result"
    }
   ],
   "source": [
    "sheet_obj['A2'].value"
   ]
  },
  {
   "cell_type": "code",
   "execution_count": 18,
   "id": "8f33f407",
   "metadata": {},
   "outputs": [
    {
     "data": {
      "text/plain": [
       "'Country'"
      ]
     },
     "execution_count": 18,
     "metadata": {},
     "output_type": "execute_result"
    }
   ],
   "source": [
    "sheet_obj['B1'].value"
   ]
  },
  {
   "cell_type": "code",
   "execution_count": 19,
   "id": "fc6b5aa3",
   "metadata": {},
   "outputs": [],
   "source": [
    "cell = sheet_obj['B1']"
   ]
  },
  {
   "cell_type": "code",
   "execution_count": 20,
   "id": "ed985d87",
   "metadata": {},
   "outputs": [
    {
     "data": {
      "text/plain": [
       "openpyxl.cell.cell.Cell"
      ]
     },
     "execution_count": 20,
     "metadata": {},
     "output_type": "execute_result"
    }
   ],
   "source": [
    "type(cell)"
   ]
  },
  {
   "cell_type": "code",
   "execution_count": 21,
   "id": "30906823",
   "metadata": {},
   "outputs": [
    {
     "data": {
      "text/plain": [
       "['__class__',\n",
       " '__delattr__',\n",
       " '__dir__',\n",
       " '__doc__',\n",
       " '__eq__',\n",
       " '__format__',\n",
       " '__ge__',\n",
       " '__getattribute__',\n",
       " '__getstate__',\n",
       " '__gt__',\n",
       " '__hash__',\n",
       " '__init__',\n",
       " '__init_subclass__',\n",
       " '__le__',\n",
       " '__lt__',\n",
       " '__module__',\n",
       " '__ne__',\n",
       " '__new__',\n",
       " '__reduce__',\n",
       " '__reduce_ex__',\n",
       " '__repr__',\n",
       " '__setattr__',\n",
       " '__sizeof__',\n",
       " '__slots__',\n",
       " '__str__',\n",
       " '__subclasshook__',\n",
       " '_bind_value',\n",
       " '_comment',\n",
       " '_hyperlink',\n",
       " '_style',\n",
       " '_value',\n",
       " 'alignment',\n",
       " 'base_date',\n",
       " 'border',\n",
       " 'check_error',\n",
       " 'check_string',\n",
       " 'col_idx',\n",
       " 'column',\n",
       " 'column_letter',\n",
       " 'comment',\n",
       " 'coordinate',\n",
       " 'data_type',\n",
       " 'encoding',\n",
       " 'fill',\n",
       " 'font',\n",
       " 'has_style',\n",
       " 'hyperlink',\n",
       " 'internal_value',\n",
       " 'is_date',\n",
       " 'number_format',\n",
       " 'offset',\n",
       " 'parent',\n",
       " 'pivotButton',\n",
       " 'protection',\n",
       " 'quotePrefix',\n",
       " 'row',\n",
       " 'style',\n",
       " 'style_id',\n",
       " 'value']"
      ]
     },
     "execution_count": 21,
     "metadata": {},
     "output_type": "execute_result"
    }
   ],
   "source": [
    "dir(cell)"
   ]
  },
  {
   "cell_type": "code",
   "execution_count": 22,
   "id": "c5a67dcf",
   "metadata": {},
   "outputs": [
    {
     "data": {
      "text/plain": [
       "2"
      ]
     },
     "execution_count": 22,
     "metadata": {},
     "output_type": "execute_result"
    }
   ],
   "source": [
    "cell.column"
   ]
  },
  {
   "cell_type": "code",
   "execution_count": 23,
   "id": "c6336099",
   "metadata": {},
   "outputs": [
    {
     "data": {
      "text/plain": [
       "1"
      ]
     },
     "execution_count": 23,
     "metadata": {},
     "output_type": "execute_result"
    }
   ],
   "source": [
    "cell.row"
   ]
  },
  {
   "cell_type": "code",
   "execution_count": 25,
   "id": "feabead2",
   "metadata": {},
   "outputs": [
    {
     "ename": "SyntaxError",
     "evalue": "invalid syntax (1286685216.py, line 1)",
     "output_type": "error",
     "traceback": [
      "\u001b[1;36m  Cell \u001b[1;32mIn[25], line 1\u001b[1;36m\u001b[0m\n\u001b[1;33m    cel{1,2}\u001b[0m\n\u001b[1;37m       ^\u001b[0m\n\u001b[1;31mSyntaxError\u001b[0m\u001b[1;31m:\u001b[0m invalid syntax\n"
     ]
    }
   ],
   "source": [
    "cel{1,2}"
   ]
  },
  {
   "cell_type": "code",
   "execution_count": 26,
   "id": "4ae5346a",
   "metadata": {},
   "outputs": [
    {
     "data": {
      "text/plain": [
       "'General'"
      ]
     },
     "execution_count": 26,
     "metadata": {},
     "output_type": "execute_result"
    }
   ],
   "source": [
    "cell.number_format"
   ]
  },
  {
   "cell_type": "code",
   "execution_count": 27,
   "id": "aa8d9d81",
   "metadata": {},
   "outputs": [
    {
     "data": {
      "text/plain": [
       "'B1'"
      ]
     },
     "execution_count": 27,
     "metadata": {},
     "output_type": "execute_result"
    }
   ],
   "source": [
    "cell.coordinate"
   ]
  },
  {
   "cell_type": "code",
   "execution_count": 28,
   "id": "3c47391e",
   "metadata": {},
   "outputs": [
    {
     "data": {
      "text/plain": [
       "'s'"
      ]
     },
     "execution_count": 28,
     "metadata": {},
     "output_type": "execute_result"
    }
   ],
   "source": [
    "cell.data_type"
   ]
  },
  {
   "cell_type": "code",
   "execution_count": 29,
   "id": "036efb09",
   "metadata": {},
   "outputs": [
    {
     "data": {
      "text/plain": [
       "'Country'"
      ]
     },
     "execution_count": 29,
     "metadata": {},
     "output_type": "execute_result"
    }
   ],
   "source": [
    "cell.value"
   ]
  },
  {
   "cell_type": "code",
   "execution_count": 34,
   "id": "42f6d619",
   "metadata": {},
   "outputs": [
    {
     "data": {
      "text/plain": [
       "'Walmart, is based in United States has a revenue of $514 billion'"
      ]
     },
     "execution_count": 34,
     "metadata": {},
     "output_type": "execute_result"
    }
   ],
   "source": [
    "sheet_obj['A2'].value + \\\n",
    "', is based in ' + sheet_obj['B2'].value +\\\n",
    "' has a revenue of $' + str(sheet_obj['C2'].value) + ' billion'"
   ]
  },
  {
   "cell_type": "code",
   "execution_count": 37,
   "id": "901316aa",
   "metadata": {},
   "outputs": [
    {
     "data": {
      "text/plain": [
       "'Country'"
      ]
     },
     "execution_count": 37,
     "metadata": {},
     "output_type": "execute_result"
    }
   ],
   "source": [
    "sheet_obj.cell(row=1, column=2).value"
   ]
  },
  {
   "cell_type": "code",
   "execution_count": 38,
   "id": "dfd15762",
   "metadata": {},
   "outputs": [
    {
     "data": {
      "text/plain": [
       "11"
      ]
     },
     "execution_count": 38,
     "metadata": {},
     "output_type": "execute_result"
    }
   ],
   "source": [
    "sheet_obj.max_row"
   ]
  },
  {
   "cell_type": "code",
   "execution_count": 39,
   "id": "0ad68ae0",
   "metadata": {},
   "outputs": [
    {
     "data": {
      "text/plain": [
       "3"
      ]
     },
     "execution_count": 39,
     "metadata": {},
     "output_type": "execute_result"
    }
   ],
   "source": [
    "sheet_obj.max_column"
   ]
  },
  {
   "cell_type": "code",
   "execution_count": 40,
   "id": "6f68f64d",
   "metadata": {},
   "outputs": [],
   "source": [
    "max_col = sheet_obj.max_column"
   ]
  },
  {
   "cell_type": "code",
   "execution_count": 43,
   "id": "517f104c",
   "metadata": {
    "scrolled": true
   },
   "outputs": [
    {
     "name": "stdout",
     "output_type": "stream",
     "text": [
      "Company\n",
      "Country\n",
      "Revenue (billion $)\n"
     ]
    }
   ],
   "source": [
    "for i in range(1, max_col + 1):\n",
    "    cell_obj = sheet_obj.cell(row = 1, column = i)\n",
    "    print(cell_obj.value)"
   ]
  },
  {
   "cell_type": "code",
   "execution_count": 44,
   "id": "406d152f",
   "metadata": {},
   "outputs": [],
   "source": [
    "max_row = sheet_obj.max_row"
   ]
  },
  {
   "cell_type": "code",
   "execution_count": 45,
   "id": "1206a72e",
   "metadata": {},
   "outputs": [
    {
     "name": "stdout",
     "output_type": "stream",
     "text": [
      "Company\n",
      "Walmart\n",
      "Sinopec Group\n",
      "Royal Dutch Shell\n",
      "China National Petroleum\n",
      "State Grid\n",
      "Saudi Aramco\n",
      "BP\n",
      "Exxon Mobil\n",
      "Volkswagen\n",
      "Toyota Motors\n"
     ]
    }
   ],
   "source": [
    "for i in range(1, max_row + 1):\n",
    "    cell_obj = sheet_obj.cell(row = i, column = 1)\n",
    "    print(cell_obj.value)"
   ]
  },
  {
   "cell_type": "code",
   "execution_count": 46,
   "id": "db9b9f4e",
   "metadata": {},
   "outputs": [
    {
     "data": {
      "text/plain": [
       "((<Cell 'revenue'.A1>, <Cell 'revenue'.B1>, <Cell 'revenue'.C1>),\n",
       " (<Cell 'revenue'.A2>, <Cell 'revenue'.B2>, <Cell 'revenue'.C2>))"
      ]
     },
     "execution_count": 46,
     "metadata": {},
     "output_type": "execute_result"
    }
   ],
   "source": [
    "sheet_obj['A1':'C2']"
   ]
  },
  {
   "cell_type": "code",
   "execution_count": 49,
   "id": "05481a5d",
   "metadata": {},
   "outputs": [
    {
     "name": "stdout",
     "output_type": "stream",
     "text": [
      "(<Cell 'revenue'.A1>, <Cell 'revenue'.B1>, <Cell 'revenue'.C1>)\n",
      "A1 Company\n",
      "B1 Country\n",
      "C1 Revenue (billion $)\n",
      "----------------\n",
      "(<Cell 'revenue'.A2>, <Cell 'revenue'.B2>, <Cell 'revenue'.C2>)\n",
      "A2 Walmart\n",
      "B2 United States\n",
      "C2 514\n",
      "----------------\n"
     ]
    }
   ],
   "source": [
    "for rows in sheet_obj['A1':'C2']:\n",
    "    print(rows)\n",
    "    for cell in rows:\n",
    "        print(cell.coordinate, cell.value)\n",
    "        \n",
    "    print('----------------')"
   ]
  },
  {
   "cell_type": "code",
   "execution_count": 52,
   "id": "72b8c652",
   "metadata": {},
   "outputs": [
    {
     "name": "stdout",
     "output_type": "stream",
     "text": [
      "(<Cell 'revenue'.A1>, <Cell 'revenue'.B1>, <Cell 'revenue'.C1>)\n",
      "(<Cell 'revenue'.A2>, <Cell 'revenue'.B2>, <Cell 'revenue'.C2>)\n"
     ]
    }
   ],
   "source": [
    "for value in sheet_obj.iter_rows(min_row = 1,\n",
    "                                    max_row = 2,\n",
    "                                    min_col = 1,\n",
    "                                    max_col = 3):\n",
    "    print(value)"
   ]
  },
  {
   "cell_type": "code",
   "execution_count": 56,
   "id": "b6f1dc8b",
   "metadata": {},
   "outputs": [
    {
     "name": "stdout",
     "output_type": "stream",
     "text": [
      "('Company', 'Country', 'Revenue (billion $)')\n",
      "('Walmart', 'United States', 514)\n"
     ]
    }
   ],
   "source": [
    "for value in sheet_obj.iter_rows(min_row=1,\n",
    "                               max_row=2,\n",
    "                               min_col=1,\n",
    "                               max_col=3,\n",
    "                               values_only=True):\n",
    "    print(value)"
   ]
  },
  {
   "cell_type": "code",
   "execution_count": 59,
   "id": "02f53171",
   "metadata": {},
   "outputs": [
    {
     "name": "stdout",
     "output_type": "stream",
     "text": [
      "('Company', 'Walmart', 'Sinopec Group')\n",
      "('Country', 'United States', 'China')\n",
      "('Revenue (billion $)', 514, 415)\n"
     ]
    }
   ],
   "source": [
    "for column in sheet_obj.iter_cols(min_row=1,\n",
    "                                    max_row=3,\n",
    "                                    min_col=1,\n",
    "                                    max_col=3,\n",
    "                                    values_only=True):\n",
    "    print(column)"
   ]
  },
  {
   "cell_type": "code",
   "execution_count": 60,
   "id": "b65bbbb5",
   "metadata": {},
   "outputs": [],
   "source": [
    "import json"
   ]
  },
  {
   "cell_type": "code",
   "execution_count": 61,
   "id": "b6b78dcd",
   "metadata": {},
   "outputs": [],
   "source": [
    "revenues = {}"
   ]
  },
  {
   "cell_type": "code",
   "execution_count": 63,
   "id": "b0e84cf0",
   "metadata": {},
   "outputs": [],
   "source": [
    "for row in sheet_obj.iter_rows(min_row=2,\n",
    "                              max_row=4,\n",
    "                              min_col=1,\n",
    "                              max_col=3,\n",
    "                              values_only=True):\n",
    "    rep = row[0]\n",
    "    rev_details ={\n",
    "        \"Country\": row[1],\n",
    "        \"Revenue\": row[2],\n",
    "    }\n",
    "    \n",
    "    revenues[rep] = rev_details"
   ]
  },
  {
   "cell_type": "code",
   "execution_count": 64,
   "id": "4b60d932",
   "metadata": {},
   "outputs": [
    {
     "data": {
      "text/plain": [
       "{'Walmart': {'Country': 'United States', 'Revenue': 514},\n",
       " 'Sinopec Group': {'Country': 'China', 'Revenue': 415},\n",
       " 'Royal Dutch Shell': {'Country': 'Netherlands', 'Revenue': 397}}"
      ]
     },
     "execution_count": 64,
     "metadata": {},
     "output_type": "execute_result"
    }
   ],
   "source": [
    "revenues"
   ]
  },
  {
   "cell_type": "code",
   "execution_count": 65,
   "id": "a70eab4b",
   "metadata": {},
   "outputs": [
    {
     "data": {
      "text/plain": [
       "{'Country': 'Netherlands', 'Revenue': 397}"
      ]
     },
     "execution_count": 65,
     "metadata": {},
     "output_type": "execute_result"
    }
   ],
   "source": [
    "rev_details"
   ]
  },
  {
   "cell_type": "code",
   "execution_count": 68,
   "id": "62fb8832",
   "metadata": {},
   "outputs": [
    {
     "name": "stdout",
     "output_type": "stream",
     "text": [
      "{\n",
      "    \"Royal Dutch Shell\": {\n",
      "        \"Country\": \"Netherlands\",\n",
      "        \"Revenue\": 397\n",
      "    },\n",
      "    \"Sinopec Group\": {\n",
      "        \"Country\": \"China\",\n",
      "        \"Revenue\": 415\n",
      "    },\n",
      "    \"Walmart\": {\n",
      "        \"Country\": \"United States\",\n",
      "        \"Revenue\": 514\n",
      "    }\n",
      "}\n"
     ]
    }
   ],
   "source": [
    "print(json.dumps(revenues, indent=4, sort_keys=True))"
   ]
  },
  {
   "cell_type": "code",
   "execution_count": null,
   "id": "932beaa7",
   "metadata": {},
   "outputs": [],
   "source": []
  }
 ],
 "metadata": {
  "kernelspec": {
   "display_name": "Python 3 (ipykernel)",
   "language": "python",
   "name": "python3"
  },
  "language_info": {
   "codemirror_mode": {
    "name": "ipython",
    "version": 3
   },
   "file_extension": ".py",
   "mimetype": "text/x-python",
   "name": "python",
   "nbconvert_exporter": "python",
   "pygments_lexer": "ipython3",
   "version": "3.11.5"
  }
 },
 "nbformat": 4,
 "nbformat_minor": 5
}
