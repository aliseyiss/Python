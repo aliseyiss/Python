{
 "cells": [
  {
   "cell_type": "code",
   "execution_count": 2,
   "id": "f4cd4c61",
   "metadata": {},
   "outputs": [],
   "source": [
    "import openpyxl"
   ]
  },
  {
   "cell_type": "code",
   "execution_count": 3,
   "id": "9af0c32c",
   "metadata": {},
   "outputs": [],
   "source": [
    "work_book = openpyxl.Workbook()"
   ]
  },
  {
   "cell_type": "code",
   "execution_count": 4,
   "id": "c61f559c",
   "metadata": {},
   "outputs": [],
   "source": [
    "sheet_obj = work_book.active"
   ]
  },
  {
   "cell_type": "code",
   "execution_count": 5,
   "id": "da962ec3",
   "metadata": {},
   "outputs": [
    {
     "data": {
      "text/plain": [
       "<Worksheet \"Sheet\">"
      ]
     },
     "execution_count": 5,
     "metadata": {},
     "output_type": "execute_result"
    }
   ],
   "source": [
    "sheet_obj"
   ]
  },
  {
   "cell_type": "code",
   "execution_count": 11,
   "id": "60562156",
   "metadata": {},
   "outputs": [],
   "source": [
    "sheet_obj.title='FirstSheet'"
   ]
  },
  {
   "cell_type": "code",
   "execution_count": 12,
   "id": "3de16be6",
   "metadata": {},
   "outputs": [
    {
     "data": {
      "text/plain": [
       "<Worksheet \"FirstSheet\">"
      ]
     },
     "execution_count": 12,
     "metadata": {},
     "output_type": "execute_result"
    }
   ],
   "source": [
    "sheet_obj"
   ]
  },
  {
   "cell_type": "code",
   "execution_count": 13,
   "id": "fa0ca15e",
   "metadata": {},
   "outputs": [],
   "source": [
    "sheet_obj['C1'] = 'Ahigh row'\n",
    "sheet_obj['D4'] = 'A wide column'"
   ]
  },
  {
   "cell_type": "code",
   "execution_count": 14,
   "id": "72e85629",
   "metadata": {},
   "outputs": [],
   "source": [
    "sheet_obj.row_dimensions[1].height = 50"
   ]
  },
  {
   "cell_type": "code",
   "execution_count": 15,
   "id": "6a589454",
   "metadata": {},
   "outputs": [],
   "source": [
    "sheet_obj.column_dimensions['D'].width = 60"
   ]
  },
  {
   "cell_type": "code",
   "execution_count": 17,
   "id": "3741dc35",
   "metadata": {},
   "outputs": [],
   "source": [
    "work_book.save('workbooks/dimensions.xlsx')"
   ]
  },
  {
   "cell_type": "code",
   "execution_count": 18,
   "id": "42061b65",
   "metadata": {},
   "outputs": [
    {
     "data": {
      "text/plain": [
       "<Worksheet \"BrandNewSheet\">"
      ]
     },
     "execution_count": 18,
     "metadata": {},
     "output_type": "execute_result"
    }
   ],
   "source": [
    "work_book.create_sheet(title='BrandNewSheet', index=0)"
   ]
  },
  {
   "cell_type": "code",
   "execution_count": 19,
   "id": "49f4ad1f",
   "metadata": {},
   "outputs": [],
   "source": [
    "new_sheet=work_book.active"
   ]
  },
  {
   "cell_type": "code",
   "execution_count": 20,
   "id": "744f19a7",
   "metadata": {},
   "outputs": [
    {
     "data": {
      "text/plain": [
       "<Worksheet \"BrandNewSheet\">"
      ]
     },
     "execution_count": 20,
     "metadata": {},
     "output_type": "execute_result"
    }
   ],
   "source": [
    "new_sheet"
   ]
  },
  {
   "cell_type": "code",
   "execution_count": 21,
   "id": "b35fd611",
   "metadata": {},
   "outputs": [],
   "source": [
    "work_book.save('workbooks/dimensions.xlsx')"
   ]
  },
  {
   "cell_type": "code",
   "execution_count": 23,
   "id": "c4f42b0c",
   "metadata": {},
   "outputs": [],
   "source": [
    "new_sheet['A1'] = 'data in a merged cell'"
   ]
  },
  {
   "cell_type": "code",
   "execution_count": 27,
   "id": "a0274c4f",
   "metadata": {},
   "outputs": [
    {
     "ename": "PermissionError",
     "evalue": "[Errno 13] Permission denied: 'workbooks/dimensions.xlsx'",
     "output_type": "error",
     "traceback": [
      "\u001b[1;31m---------------------------------------------------------------------------\u001b[0m",
      "\u001b[1;31mPermissionError\u001b[0m                           Traceback (most recent call last)",
      "Cell \u001b[1;32mIn[27], line 1\u001b[0m\n\u001b[1;32m----> 1\u001b[0m work_book\u001b[38;5;241m.\u001b[39msave(\u001b[38;5;124m'\u001b[39m\u001b[38;5;124mworkbooks/dimensions.xlsx\u001b[39m\u001b[38;5;124m'\u001b[39m)\n",
      "File \u001b[1;32m~\\anaconda3\\Lib\\site-packages\\openpyxl\\workbook\\workbook.py:407\u001b[0m, in \u001b[0;36mWorkbook.save\u001b[1;34m(self, filename)\u001b[0m\n\u001b[0;32m    405\u001b[0m \u001b[38;5;28;01mif\u001b[39;00m \u001b[38;5;28mself\u001b[39m\u001b[38;5;241m.\u001b[39mwrite_only \u001b[38;5;129;01mand\u001b[39;00m \u001b[38;5;129;01mnot\u001b[39;00m \u001b[38;5;28mself\u001b[39m\u001b[38;5;241m.\u001b[39mworksheets:\n\u001b[0;32m    406\u001b[0m     \u001b[38;5;28mself\u001b[39m\u001b[38;5;241m.\u001b[39mcreate_sheet()\n\u001b[1;32m--> 407\u001b[0m save_workbook(\u001b[38;5;28mself\u001b[39m, filename)\n",
      "File \u001b[1;32m~\\anaconda3\\Lib\\site-packages\\openpyxl\\writer\\excel.py:291\u001b[0m, in \u001b[0;36msave_workbook\u001b[1;34m(workbook, filename)\u001b[0m\n\u001b[0;32m    279\u001b[0m \u001b[38;5;28;01mdef\u001b[39;00m \u001b[38;5;21msave_workbook\u001b[39m(workbook, filename):\n\u001b[0;32m    280\u001b[0m \u001b[38;5;250m    \u001b[39m\u001b[38;5;124;03m\"\"\"Save the given workbook on the filesystem under the name filename.\u001b[39;00m\n\u001b[0;32m    281\u001b[0m \n\u001b[0;32m    282\u001b[0m \u001b[38;5;124;03m    :param workbook: the workbook to save\u001b[39;00m\n\u001b[1;32m   (...)\u001b[0m\n\u001b[0;32m    289\u001b[0m \n\u001b[0;32m    290\u001b[0m \u001b[38;5;124;03m    \"\"\"\u001b[39;00m\n\u001b[1;32m--> 291\u001b[0m     archive \u001b[38;5;241m=\u001b[39m ZipFile(filename, \u001b[38;5;124m'\u001b[39m\u001b[38;5;124mw\u001b[39m\u001b[38;5;124m'\u001b[39m, ZIP_DEFLATED, allowZip64\u001b[38;5;241m=\u001b[39m\u001b[38;5;28;01mTrue\u001b[39;00m)\n\u001b[0;32m    292\u001b[0m     writer \u001b[38;5;241m=\u001b[39m ExcelWriter(workbook, archive)\n\u001b[0;32m    293\u001b[0m     writer\u001b[38;5;241m.\u001b[39msave()\n",
      "File \u001b[1;32m~\\anaconda3\\Lib\\zipfile.py:1284\u001b[0m, in \u001b[0;36mZipFile.__init__\u001b[1;34m(self, file, mode, compression, allowZip64, compresslevel, strict_timestamps, metadata_encoding)\u001b[0m\n\u001b[0;32m   1282\u001b[0m \u001b[38;5;28;01mwhile\u001b[39;00m \u001b[38;5;28;01mTrue\u001b[39;00m:\n\u001b[0;32m   1283\u001b[0m     \u001b[38;5;28;01mtry\u001b[39;00m:\n\u001b[1;32m-> 1284\u001b[0m         \u001b[38;5;28mself\u001b[39m\u001b[38;5;241m.\u001b[39mfp \u001b[38;5;241m=\u001b[39m io\u001b[38;5;241m.\u001b[39mopen(file, filemode)\n\u001b[0;32m   1285\u001b[0m     \u001b[38;5;28;01mexcept\u001b[39;00m \u001b[38;5;167;01mOSError\u001b[39;00m:\n\u001b[0;32m   1286\u001b[0m         \u001b[38;5;28;01mif\u001b[39;00m filemode \u001b[38;5;129;01min\u001b[39;00m modeDict:\n",
      "\u001b[1;31mPermissionError\u001b[0m: [Errno 13] Permission denied: 'workbooks/dimensions.xlsx'"
     ]
    }
   ],
   "source": [
    "work_book.save('workbooks/dimensions.xlsx')"
   ]
  },
  {
   "cell_type": "code",
   "execution_count": 29,
   "id": "cbf368a2",
   "metadata": {},
   "outputs": [],
   "source": [
    "from openpyxl.styles import Alignment"
   ]
  },
  {
   "cell_type": "code",
   "execution_count": 30,
   "id": "9d0b7abd",
   "metadata": {},
   "outputs": [],
   "source": [
    "new_sheet['A1'].alignment =Alignment(horizontal='center')"
   ]
  },
  {
   "cell_type": "code",
   "execution_count": 31,
   "id": "344e320b",
   "metadata": {},
   "outputs": [],
   "source": [
    "new_sheet['A1'].alignment = Alignment(vertical='center')"
   ]
  },
  {
   "cell_type": "code",
   "execution_count": 33,
   "id": "9540ece9",
   "metadata": {},
   "outputs": [],
   "source": [
    "new_sheet['A1'].alignment = Alignment(horizontal ='right', vertical='top')"
   ]
  },
  {
   "cell_type": "code",
   "execution_count": 35,
   "id": "d005bf0d",
   "metadata": {},
   "outputs": [],
   "source": [
    "new_sheet.merge_cells('B5:G5')"
   ]
  },
  {
   "cell_type": "code",
   "execution_count": null,
   "id": "2c969cb5",
   "metadata": {},
   "outputs": [],
   "source": []
  }
 ],
 "metadata": {
  "kernelspec": {
   "display_name": "Python 3 (ipykernel)",
   "language": "python",
   "name": "python3"
  },
  "language_info": {
   "codemirror_mode": {
    "name": "ipython",
    "version": 3
   },
   "file_extension": ".py",
   "mimetype": "text/x-python",
   "name": "python",
   "nbconvert_exporter": "python",
   "pygments_lexer": "ipython3",
   "version": "3.11.5"
  }
 },
 "nbformat": 4,
 "nbformat_minor": 5
}
